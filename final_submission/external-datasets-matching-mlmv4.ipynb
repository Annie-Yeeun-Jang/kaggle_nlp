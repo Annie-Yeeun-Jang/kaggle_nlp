{
 "cells": [
  {
   "cell_type": "markdown",
   "id": "genetic-ceramic",
   "metadata": {
    "papermill": {
     "duration": 0.030875,
     "end_time": "2021-06-09T15:49:15.178660",
     "exception": false,
     "start_time": "2021-06-09T15:49:15.147785",
     "status": "completed"
    },
    "tags": []
   },
   "source": [
    "# About\n",
    "\n",
    "Trained a `New MLM` and added on [External_Datasets_Matching + MLM](https://www.kaggle.com/chienhsianghung/external-datasets-matching-mlm).\n",
    "\n",
    "\n",
    "`New MLM`\n",
    "- [[Coleridge] BERT - MLMv4](https://www.kaggle.com/chienhsianghung/coleridge-bert-mlmv4)\n"
   ]
  },
  {
   "cell_type": "markdown",
   "id": "theoretical-competition",
   "metadata": {
    "papermill": {
     "duration": 0.028324,
     "end_time": "2021-06-09T15:49:15.235418",
     "exception": false,
     "start_time": "2021-06-09T15:49:15.207094",
     "status": "completed"
    },
    "tags": []
   },
   "source": [
    "# Setting"
   ]
  },
  {
   "cell_type": "code",
   "execution_count": 1,
   "id": "speaking-indonesian",
   "metadata": {
    "execution": {
     "iopub.execute_input": "2021-06-09T15:49:15.299129Z",
     "iopub.status.busy": "2021-06-09T15:49:15.298223Z",
     "iopub.status.idle": "2021-06-09T15:49:15.301382Z",
     "shell.execute_reply": "2021-06-09T15:49:15.300799Z",
     "shell.execute_reply.started": "2021-06-09T15:41:20.248592Z"
    },
    "papermill": {
     "duration": 0.037487,
     "end_time": "2021-06-09T15:49:15.301500",
     "exception": false,
     "start_time": "2021-06-09T15:49:15.264013",
     "status": "completed"
    },
    "tags": []
   },
   "outputs": [],
   "source": [
    "COMPUTE_CV = False\n",
    "EDA_DEMO = False\n",
    "ALL_BLENDED = False\n",
    "BASELINE_HELPING = True\n",
    "MATCH_ONLY = False\n",
    "MLM_ONLY = False\n",
    "KEN_MATCHING = True\n",
    "BS_CLEANING = False\n",
    "THEO_MERGE = False\n",
    "SEED = 347"
   ]
  },
  {
   "cell_type": "markdown",
   "id": "valuable-murder",
   "metadata": {
    "_cell_guid": "b1076dfc-b9ad-4769-8c92-a6c4dae69d19",
    "_uuid": "8f2839f25d086af736a60e9eeb907d3b93b6e0e5",
    "papermill": {
     "duration": 0.028009,
     "end_time": "2021-06-09T15:49:15.357708",
     "exception": false,
     "start_time": "2021-06-09T15:49:15.329699",
     "status": "completed"
    },
    "tags": []
   },
   "source": [
    "# Install packages"
   ]
  },
  {
   "cell_type": "code",
   "execution_count": 2,
   "id": "foreign-alert",
   "metadata": {
    "_kg_hide-output": true,
    "execution": {
     "iopub.execute_input": "2021-06-09T15:49:15.423726Z",
     "iopub.status.busy": "2021-06-09T15:49:15.423220Z",
     "iopub.status.idle": "2021-06-09T15:50:42.885860Z",
     "shell.execute_reply": "2021-06-09T15:50:42.885395Z",
     "shell.execute_reply.started": "2021-06-09T15:41:20.268215Z"
    },
    "papermill": {
     "duration": 87.500043,
     "end_time": "2021-06-09T15:50:42.885996",
     "exception": false,
     "start_time": "2021-06-09T15:49:15.385953",
     "status": "completed"
    },
    "tags": []
   },
   "outputs": [],
   "source": [
    "!pip install datasets --no-index --find-links=file:///kaggle/input/coleridge-packages/packages/datasets\n",
    "!pip install ../input/coleridge-packages/seqeval-1.2.2-py3-none-any.whl\n",
    "!pip install ../input/coleridge-packages/tokenizers-0.10.1-cp37-cp37m-manylinux1_x86_64.whl\n",
    "!pip install ../input/coleridge-packages/transformers-4.5.0.dev0-py3-none-any.whl\n",
    "\n",
    "from IPython.display import clear_output\n",
    "clear_output()"
   ]
  },
  {
   "cell_type": "markdown",
   "id": "varying-store",
   "metadata": {
    "papermill": {
     "duration": 0.028496,
     "end_time": "2021-06-09T15:50:42.943854",
     "exception": false,
     "start_time": "2021-06-09T15:50:42.915358",
     "status": "completed"
    },
    "tags": []
   },
   "source": [
    "# Import"
   ]
  },
  {
   "cell_type": "code",
   "execution_count": 3,
   "id": "applicable-variation",
   "metadata": {
    "execution": {
     "iopub.execute_input": "2021-06-09T15:50:43.009543Z",
     "iopub.status.busy": "2021-06-09T15:50:43.009048Z",
     "iopub.status.idle": "2021-06-09T15:50:50.569895Z",
     "shell.execute_reply": "2021-06-09T15:50:50.570274Z",
     "shell.execute_reply.started": "2021-06-09T15:42:53.670598Z"
    },
    "papermill": {
     "duration": 7.598112,
     "end_time": "2021-06-09T15:50:50.570437",
     "exception": false,
     "start_time": "2021-06-09T15:50:42.972325",
     "status": "completed"
    },
    "tags": []
   },
   "outputs": [
    {
     "name": "stderr",
     "output_type": "stream",
     "text": [
      "/opt/conda/lib/python3.7/site-packages/ipykernel_launcher.py:12: TqdmExperimentalWarning: Using `tqdm.autonotebook.tqdm` in notebook mode. Use `tqdm.tqdm` instead to force console mode (e.g. in jupyter console)\n",
      "  if sys.path[0] == '':\n"
     ]
    },
    {
     "name": "stdout",
     "output_type": "stream",
     "text": [
      "this submission notebook will only be used to submit result\n"
     ]
    }
   ],
   "source": [
    "import os\n",
    "import re\n",
    "import json\n",
    "import time\n",
    "import random\n",
    "import glob\n",
    "import importlib\n",
    "\n",
    "import numpy as np\n",
    "import pandas as pd\n",
    "\n",
    "from tqdm.autonotebook import tqdm\n",
    "\n",
    "import torch\n",
    "from datasets import load_dataset\n",
    "from transformers import AutoTokenizer, DataCollatorForLanguageModeling, \\\n",
    "AutoModelForMaskedLM, Trainer, TrainingArguments, pipeline\n",
    "\n",
    "from typing import List\n",
    "import string\n",
    "from functools import partial\n",
    "import warnings\n",
    "warnings.filterwarnings(\"ignore\", 'This pattern has match groups')\n",
    "\n",
    "random.seed(SEED)\n",
    "np.random.seed(SEED)\n",
    "torch.manual_seed(SEED)\n",
    "torch.backends.cudnn.deterministic = True\n",
    "torch.backends.cudnn.benchmark = False\n",
    "\n",
    "sample_submission = pd.read_csv('../input/coleridgeinitiative-show-us-the-data/sample_submission.csv')\n",
    "if len(sample_submission) > 4: COMPUTE_CV = False\n",
    "if COMPUTE_CV: \n",
    "    print('this submission notebook will compute CV score but commit notebook will not')\n",
    "else:\n",
    "    print('this submission notebook will only be used to submit result')"
   ]
  },
  {
   "cell_type": "markdown",
   "id": "defined-oriental",
   "metadata": {
    "papermill": {
     "duration": 0.028855,
     "end_time": "2021-06-09T15:50:50.628616",
     "exception": false,
     "start_time": "2021-06-09T15:50:50.599761",
     "status": "completed"
    },
    "tags": []
   },
   "source": [
    "# Load data"
   ]
  },
  {
   "cell_type": "code",
   "execution_count": 4,
   "id": "powerful-pride",
   "metadata": {
    "execution": {
     "iopub.execute_input": "2021-06-09T15:50:50.691603Z",
     "iopub.status.busy": "2021-06-09T15:50:50.691065Z",
     "iopub.status.idle": "2021-06-09T15:50:50.792133Z",
     "shell.execute_reply": "2021-06-09T15:50:50.791201Z",
     "shell.execute_reply.started": "2021-06-09T15:43:03.219567Z"
    },
    "papermill": {
     "duration": 0.134748,
     "end_time": "2021-06-09T15:50:50.792261",
     "exception": false,
     "start_time": "2021-06-09T15:50:50.657513",
     "status": "completed"
    },
    "tags": []
   },
   "outputs": [],
   "source": [
    "train_path = '../input/coleridgeinitiative-show-us-the-data/train.csv'\n",
    "train_files_path = '../input/coleridgeinitiative-show-us-the-data/train'\n",
    "train = pd.read_csv(train_path)\n",
    "\n",
    "if COMPUTE_CV: \n",
    "    sample_submission = train\n",
    "    paper_test_folder = '../input/coleridgeinitiative-show-us-the-data/train'\n",
    "    test_files_path = paper_test_folder\n",
    "else:\n",
    "    sample_submission = pd.read_csv('../input/coleridgeinitiative-show-us-the-data/sample_submission.csv')\n",
    "    paper_test_folder = '../input/coleridgeinitiative-show-us-the-data/test'\n",
    "    test_files_path = paper_test_folder\n",
    "    \n",
    "adnl_govt_labels_path = '../input/bigger-govt-dataset-list/data_set_800.csv'"
   ]
  },
  {
   "cell_type": "code",
   "execution_count": 5,
   "id": "strange-rugby",
   "metadata": {
    "execution": {
     "iopub.execute_input": "2021-06-09T15:50:50.879946Z",
     "iopub.status.busy": "2021-06-09T15:50:50.860632Z",
     "iopub.status.idle": "2021-06-09T15:50:50.911078Z",
     "shell.execute_reply": "2021-06-09T15:50:50.910462Z",
     "shell.execute_reply.started": "2021-06-09T15:43:03.329242Z"
    },
    "papermill": {
     "duration": 0.089674,
     "end_time": "2021-06-09T15:50:50.911222",
     "exception": false,
     "start_time": "2021-06-09T15:50:50.821548",
     "status": "completed"
    },
    "tags": []
   },
   "outputs": [
    {
     "data": {
      "application/vnd.jupyter.widget-view+json": {
       "model_id": "ff3096b37ca54a2397864e47efb97c52",
       "version_major": 2,
       "version_minor": 0
      },
      "text/plain": [
       "HBox(children=(FloatProgress(value=0.0, max=4.0), HTML(value='')))"
      ]
     },
     "metadata": {},
     "output_type": "display_data"
    },
    {
     "name": "stdout",
     "output_type": "stream",
     "text": [
      "\n"
     ]
    }
   ],
   "source": [
    "papers = {}\n",
    "for paper_id in tqdm(sample_submission['Id']):\n",
    "    with open(f'{paper_test_folder}/{paper_id}.json', 'r') as f:\n",
    "        paper = json.load(f)\n",
    "        papers[paper_id] = paper"
   ]
  },
  {
   "cell_type": "markdown",
   "id": "brutal-genre",
   "metadata": {
    "papermill": {
     "duration": 0.029136,
     "end_time": "2021-06-09T15:50:50.971171",
     "exception": false,
     "start_time": "2021-06-09T15:50:50.942035",
     "status": "completed"
    },
    "tags": []
   },
   "source": [
    "## A Bit EDA"
   ]
  },
  {
   "cell_type": "code",
   "execution_count": 6,
   "id": "tested-shuttle",
   "metadata": {
    "execution": {
     "iopub.execute_input": "2021-06-09T15:50:51.036860Z",
     "iopub.status.busy": "2021-06-09T15:50:51.036114Z",
     "iopub.status.idle": "2021-06-09T15:50:51.038558Z",
     "shell.execute_reply": "2021-06-09T15:50:51.039003Z",
     "shell.execute_reply.started": "2021-06-09T15:43:03.412034Z"
    },
    "papermill": {
     "duration": 0.038589,
     "end_time": "2021-06-09T15:50:51.039127",
     "exception": false,
     "start_time": "2021-06-09T15:50:51.000538",
     "status": "completed"
    },
    "tags": []
   },
   "outputs": [],
   "source": [
    "if EDA_DEMO:\n",
    "    df_input = pd.DataFrame(columns=['id','section_title','text','data_label'])\n",
    "    for id in tqdm(train['Id'].values):\n",
    "        df=pd.read_json('../input/coleridgeinitiative-show-us-the-data/train/{}.json'.format(id))    \n",
    "        for data_label in train[train['Id']==id]['dataset_label'].values:        \n",
    "            new_df=df[df['text'].str.contains(data_label)].copy(deep=True)\n",
    "            new_df.loc[:,['data_label']] = data_label\n",
    "            new_df.loc[:,['id']] = id\n",
    "            new_df.reset_index(inplace=True,drop=True)\n",
    "            df_input=pd.concat([df_input, new_df], ignore_index=True)\n",
    "            df_input.reset_index(inplace=True,drop=True)\n",
    "else: df_input = None\n",
    "\n",
    "df_input"
   ]
  },
  {
   "cell_type": "code",
   "execution_count": 7,
   "id": "tracked-breed",
   "metadata": {
    "execution": {
     "iopub.execute_input": "2021-06-09T15:50:51.102137Z",
     "iopub.status.busy": "2021-06-09T15:50:51.101503Z",
     "iopub.status.idle": "2021-06-09T15:50:51.104390Z",
     "shell.execute_reply": "2021-06-09T15:50:51.103996Z",
     "shell.execute_reply.started": "2021-06-09T15:43:03.427780Z"
    },
    "papermill": {
     "duration": 0.035407,
     "end_time": "2021-06-09T15:50:51.104495",
     "exception": false,
     "start_time": "2021-06-09T15:50:51.069088",
     "status": "completed"
    },
    "tags": []
   },
   "outputs": [],
   "source": [
    "if EDA_DEMO: df_input = df_input[ df_input['section_title'] != '' ]\n",
    "\n",
    "df_input"
   ]
  },
  {
   "cell_type": "markdown",
   "id": "german-installation",
   "metadata": {
    "papermill": {
     "duration": 0.029227,
     "end_time": "2021-06-09T15:50:51.163320",
     "exception": false,
     "start_time": "2021-06-09T15:50:51.134093",
     "status": "completed"
    },
    "tags": []
   },
   "source": [
    "# Literal Matching"
   ]
  },
  {
   "cell_type": "markdown",
   "id": "suspected-trading",
   "metadata": {
    "papermill": {
     "duration": 0.02947,
     "end_time": "2021-06-09T15:50:51.222368",
     "exception": false,
     "start_time": "2021-06-09T15:50:51.192898",
     "status": "completed"
    },
    "tags": []
   },
   "source": [
    "### Create a Knowledge Bank"
   ]
  },
  {
   "cell_type": "code",
   "execution_count": 8,
   "id": "framed-computer",
   "metadata": {
    "execution": {
     "iopub.execute_input": "2021-06-09T15:50:51.306196Z",
     "iopub.status.busy": "2021-06-09T15:50:51.301080Z",
     "iopub.status.idle": "2021-06-09T15:50:51.337300Z",
     "shell.execute_reply": "2021-06-09T15:50:51.336914Z",
     "shell.execute_reply.started": "2021-06-09T15:43:03.436599Z"
    },
    "papermill": {
     "duration": 0.085688,
     "end_time": "2021-06-09T15:50:51.337412",
     "exception": false,
     "start_time": "2021-06-09T15:50:51.251724",
     "status": "completed"
    },
    "tags": []
   },
   "outputs": [
    {
     "name": "stdout",
     "output_type": "stream",
     "text": [
      "No. different labels: 180\n"
     ]
    }
   ],
   "source": [
    "all_labels = set()\n",
    "\n",
    "for label_1, label_2, label_3 in train[['dataset_title', 'dataset_label', 'cleaned_label']].itertuples(index=False):\n",
    "    all_labels.add(str(label_1).lower())\n",
    "    all_labels.add(str(label_2).lower())\n",
    "    all_labels.add(str(label_3).lower())\n",
    "    \n",
    "print(f'No. different labels: {len(all_labels)}')"
   ]
  },
  {
   "cell_type": "markdown",
   "id": "entertaining-teddy",
   "metadata": {
    "papermill": {
     "duration": 0.029295,
     "end_time": "2021-06-09T15:50:51.396287",
     "exception": false,
     "start_time": "2021-06-09T15:50:51.366992",
     "status": "completed"
    },
    "tags": []
   },
   "source": [
    "#### Additional Govt Datasets"
   ]
  },
  {
   "cell_type": "code",
   "execution_count": 9,
   "id": "fossil-gather",
   "metadata": {
    "execution": {
     "iopub.execute_input": "2021-06-09T15:50:51.465717Z",
     "iopub.status.busy": "2021-06-09T15:50:51.465209Z",
     "iopub.status.idle": "2021-06-09T15:50:51.477058Z",
     "shell.execute_reply": "2021-06-09T15:50:51.476332Z",
     "shell.execute_reply.started": "2021-06-09T15:43:03.514215Z"
    },
    "papermill": {
     "duration": 0.051315,
     "end_time": "2021-06-09T15:50:51.477192",
     "exception": false,
     "start_time": "2021-06-09T15:50:51.425877",
     "status": "completed"
    },
    "tags": []
   },
   "outputs": [
    {
     "name": "stdout",
     "output_type": "stream",
     "text": [
      "No. different labels: 2159\n"
     ]
    }
   ],
   "source": [
    "adnl_govt_labels = pd.read_csv(adnl_govt_labels_path)\n",
    "\n",
    "for l in adnl_govt_labels.title:\n",
    "    all_labels.add(l)\n",
    "    \n",
    "all_labels = set(all_labels)\n",
    "print(f'No. different labels: {len(all_labels)}')"
   ]
  },
  {
   "cell_type": "markdown",
   "id": "dress-coverage",
   "metadata": {
    "papermill": {
     "duration": 0.029937,
     "end_time": "2021-06-09T15:50:51.537817",
     "exception": false,
     "start_time": "2021-06-09T15:50:51.507880",
     "status": "completed"
    },
    "tags": []
   },
   "source": [
    "### Matching on test data"
   ]
  },
  {
   "cell_type": "code",
   "execution_count": 10,
   "id": "challenging-specialist",
   "metadata": {
    "execution": {
     "iopub.execute_input": "2021-06-09T15:50:51.608864Z",
     "iopub.status.busy": "2021-06-09T15:50:51.608298Z",
     "iopub.status.idle": "2021-06-09T15:50:51.612155Z",
     "shell.execute_reply": "2021-06-09T15:50:51.611719Z",
     "shell.execute_reply.started": "2021-06-09T15:43:03.537946Z"
    },
    "papermill": {
     "duration": 0.044572,
     "end_time": "2021-06-09T15:50:51.612251",
     "exception": false,
     "start_time": "2021-06-09T15:50:51.567679",
     "status": "completed"
    },
    "tags": []
   },
   "outputs": [],
   "source": [
    "def clean_text(txt):\n",
    "    return re.sub('[^A-Za-z0-9]+', ' ', str(txt).lower()).strip()\n",
    "\n",
    "\n",
    "def totally_clean_text(txt):\n",
    "    txt = clean_text(txt)\n",
    "    txt = re.sub(' +', ' ', txt)\n",
    "    return txt\n",
    "\n",
    "if not BS_CLEANING:\n",
    "    def text_cleaning(text):\n",
    "        '''\n",
    "        Converts all text to lower case, Removes special charecters, emojis and multiple spaces\n",
    "        text - Sentence that needs to be cleaned\n",
    "        '''\n",
    "        text = re.sub('[^A-Za-z0-9]+', ' ', str(text).lower()).strip()\n",
    "        text = re.sub(' +', ' ', text)\n",
    "        emoji_pattern = re.compile(\"[\"\n",
    "                                   u\"\\U0001F600-\\U0001F64F\"  # emoticons\n",
    "                                   u\"\\U0001F300-\\U0001F5FF\"  # symbols & pictographs\n",
    "                                   u\"\\U0001F680-\\U0001F6FF\"  # transport & map symbols\n",
    "                                   u\"\\U0001F1E0-\\U0001F1FF\"  # flags (iOS)\n",
    "                                   \"]+\", flags=re.UNICODE)\n",
    "        text = emoji_pattern.sub(r'', text)\n",
    "        return text\n",
    "else:\n",
    "    def text_cleaning(text):\n",
    "        '''\n",
    "        Converts all text to lower case, Removes special charecters, emojis and multiple spaces\n",
    "        text - Sentence that needs to be cleaned\n",
    "        '''\n",
    "        text = ''.join([k for k in text if k not in string.punctuation])\n",
    "        text = re.sub('[^A-Za-z0-9]+', ' ', str(text).lower()).strip()\n",
    "        # text = re.sub(\"/'+/g\", ' ', text)\n",
    "        return text\n",
    "\n",
    "\n",
    "def read_json_pub(filename, train_data_path=train_files_path, output='text'):\n",
    "    json_path = os.path.join(train_data_path, (filename+'.json'))\n",
    "    headings = []\n",
    "    contents = []\n",
    "    combined = []\n",
    "    with open(json_path, 'r') as f:\n",
    "        json_decode = json.load(f)\n",
    "        for data in json_decode:\n",
    "            headings.append(data.get('section_title'))\n",
    "            contents.append(data.get('text'))\n",
    "            combined.append(data.get('section_title'))\n",
    "            combined.append(data.get('text'))\n",
    "    \n",
    "    all_headings = ' '.join(headings)\n",
    "    all_contents = ' '.join(contents)\n",
    "    all_data = '. '.join(combined)\n",
    "    \n",
    "    if output == 'text':\n",
    "        return all_contents\n",
    "    elif output == 'head':\n",
    "        return all_headings\n",
    "    else:\n",
    "        return all_data"
   ]
  },
  {
   "cell_type": "code",
   "execution_count": 11,
   "id": "charitable-engineering",
   "metadata": {
    "execution": {
     "iopub.execute_input": "2021-06-09T15:50:51.692168Z",
     "iopub.status.busy": "2021-06-09T15:50:51.691469Z",
     "iopub.status.idle": "2021-06-09T15:50:51.695657Z",
     "shell.execute_reply": "2021-06-09T15:50:51.696180Z",
     "shell.execute_reply.started": "2021-06-09T15:43:03.556049Z"
    },
    "papermill": {
     "duration": 0.054395,
     "end_time": "2021-06-09T15:50:51.696339",
     "exception": false,
     "start_time": "2021-06-09T15:50:51.641944",
     "status": "completed"
    },
    "tags": []
   },
   "outputs": [],
   "source": [
    "if not KEN_MATCHING and not MLM_ONLY:\n",
    "    literal_preds = []\n",
    "    for paper_id in tqdm(sample_submission['Id']):\n",
    "        paper = papers[paper_id]\n",
    "        text_1 = '. '.join(section['text'] for section in paper).lower()\n",
    "        text_2 = totally_clean_text(text_1)\n",
    "\n",
    "        labels = set()\n",
    "        for label in all_labels:\n",
    "            if label in text_1 or label in text_2:\n",
    "                labels.add(clean_text(label))\n",
    "\n",
    "        literal_preds.append('|'.join(labels))\n",
    "    literal_preds[:5]"
   ]
  },
  {
   "cell_type": "markdown",
   "id": "forward-conservation",
   "metadata": {
    "papermill": {
     "duration": 0.03055,
     "end_time": "2021-06-09T15:50:51.760513",
     "exception": false,
     "start_time": "2021-06-09T15:50:51.729963",
     "status": "completed"
    },
    "tags": []
   },
   "source": [
    "#### Ken Matching"
   ]
  },
  {
   "cell_type": "code",
   "execution_count": 12,
   "id": "varying-appearance",
   "metadata": {
    "execution": {
     "iopub.execute_input": "2021-06-09T15:50:51.849086Z",
     "iopub.status.busy": "2021-06-09T15:50:51.848179Z",
     "iopub.status.idle": "2021-06-09T15:50:52.933422Z",
     "shell.execute_reply": "2021-06-09T15:50:52.932667Z",
     "shell.execute_reply.started": "2021-06-09T15:43:03.569117Z"
    },
    "papermill": {
     "duration": 1.142215,
     "end_time": "2021-06-09T15:50:52.933570",
     "exception": false,
     "start_time": "2021-06-09T15:50:51.791355",
     "status": "completed"
    },
    "tags": []
   },
   "outputs": [
    {
     "data": {
      "application/vnd.jupyter.widget-view+json": {
       "model_id": "2b1d612b4a2d4122bce4df092c0e366b",
       "version_major": 2,
       "version_minor": 0
      },
      "text/plain": [
       "HBox(children=(FloatProgress(value=1.0, bar_style='info', layout=Layout(width='20px'), max=1.0), HTML(value=''…"
      ]
     },
     "metadata": {},
     "output_type": "display_data"
    },
    {
     "name": "stdout",
     "output_type": "stream",
     "text": [
      "\n"
     ]
    }
   ],
   "source": [
    "literal_preds = []\n",
    "\n",
    "if KEN_MATCHING and not MLM_ONLY:\n",
    "    literal_preds = []\n",
    "    to_append = []\n",
    "    for index, row in tqdm(sample_submission.iterrows()):\n",
    "        to_append = [row['Id'],'']\n",
    "        large_string = str(read_json_pub(row['Id'], test_files_path))\n",
    "        clean_string = text_cleaning(large_string)\n",
    "        for index, row2 in adnl_govt_labels.iterrows():\n",
    "            query_string = str(row2['title'])\n",
    "            if query_string in clean_string:\n",
    "                if to_append[1] != '' and clean_text(query_string) not in to_append[1]:\n",
    "                    to_append[1] = to_append[1] + '|' + clean_text(query_string)\n",
    "                if to_append[1] == '':\n",
    "                    to_append[1] = clean_text(query_string)\n",
    "        literal_preds.append(*to_append[1:])\n",
    "\n",
    "elif MLM_ONLY:\n",
    "    print('This kernel will only use MLM model to predict.')"
   ]
  },
  {
   "cell_type": "markdown",
   "id": "backed-dubai",
   "metadata": {
    "papermill": {
     "duration": 0.031329,
     "end_time": "2021-06-09T15:50:52.997093",
     "exception": false,
     "start_time": "2021-06-09T15:50:52.965764",
     "status": "completed"
    },
    "tags": []
   },
   "source": [
    "# Masked Dataset Modeling"
   ]
  },
  {
   "cell_type": "markdown",
   "id": "fluid-teens",
   "metadata": {
    "papermill": {
     "duration": 0.031437,
     "end_time": "2021-06-09T15:50:53.060109",
     "exception": false,
     "start_time": "2021-06-09T15:50:53.028672",
     "status": "completed"
    },
    "tags": []
   },
   "source": [
    "### Paths and Hyperparameters"
   ]
  },
  {
   "cell_type": "code",
   "execution_count": 13,
   "id": "located-geography",
   "metadata": {
    "execution": {
     "iopub.execute_input": "2021-06-09T15:50:53.128142Z",
     "iopub.status.busy": "2021-06-09T15:50:53.127319Z",
     "iopub.status.idle": "2021-06-09T15:50:53.130309Z",
     "shell.execute_reply": "2021-06-09T15:50:53.129904Z",
     "shell.execute_reply.started": "2021-06-09T15:43:05.035242Z"
    },
    "papermill": {
     "duration": 0.03884,
     "end_time": "2021-06-09T15:50:53.130414",
     "exception": false,
     "start_time": "2021-06-09T15:50:53.091574",
     "status": "completed"
    },
    "tags": []
   },
   "outputs": [],
   "source": [
    "if not MATCH_ONLY:\n",
    "    PRETRAINED_PATH = '../input/coleridge-bert-mlmv4/output-mlm/checkpoint-48000'\n",
    "    TOKENIZER_PATH = '../input/coleridge-bert-mlmv4/model_tokenizer'\n",
    "\n",
    "    MAX_LENGTH = 64\n",
    "    OVERLAP = 20\n",
    "\n",
    "    PREDICT_BATCH = 32 # a higher value requires higher GPU memory usage\n",
    "\n",
    "    DATASET_SYMBOL = '$' # this symbol represents a dataset name\n",
    "    NONDATA_SYMBOL = '#' # this symbol represents a non-dataset name"
   ]
  },
  {
   "cell_type": "markdown",
   "id": "actual-ladder",
   "metadata": {
    "papermill": {
     "duration": 0.031556,
     "end_time": "2021-06-09T15:50:53.194086",
     "exception": false,
     "start_time": "2021-06-09T15:50:53.162530",
     "status": "completed"
    },
    "tags": []
   },
   "source": [
    "# Transform data to MLM format"
   ]
  },
  {
   "cell_type": "markdown",
   "id": "realistic-lemon",
   "metadata": {
    "papermill": {
     "duration": 0.031231,
     "end_time": "2021-06-09T15:50:53.257085",
     "exception": false,
     "start_time": "2021-06-09T15:50:53.225854",
     "status": "completed"
    },
    "tags": []
   },
   "source": [
    "### Load model and tokenizer"
   ]
  },
  {
   "cell_type": "code",
   "execution_count": 14,
   "id": "loving-cleanup",
   "metadata": {
    "execution": {
     "iopub.execute_input": "2021-06-09T15:50:53.324611Z",
     "iopub.status.busy": "2021-06-09T15:50:53.324117Z",
     "iopub.status.idle": "2021-06-09T15:51:08.100570Z",
     "shell.execute_reply": "2021-06-09T15:51:08.099163Z",
     "shell.execute_reply.started": "2021-06-09T15:43:05.045461Z"
    },
    "papermill": {
     "duration": 14.81219,
     "end_time": "2021-06-09T15:51:08.100714",
     "exception": false,
     "start_time": "2021-06-09T15:50:53.288524",
     "status": "completed"
    },
    "tags": []
   },
   "outputs": [],
   "source": [
    "if not MATCH_ONLY:\n",
    "    tokenizer = AutoTokenizer.from_pretrained(TOKENIZER_PATH, use_fast=True)\n",
    "    model = AutoModelForMaskedLM.from_pretrained(PRETRAINED_PATH)\n",
    "\n",
    "    mlm = pipeline(\n",
    "        'fill-mask', \n",
    "        model=model,\n",
    "        tokenizer=tokenizer,\n",
    "        device=0 if torch.cuda.is_available() else -1\n",
    "    )"
   ]
  },
  {
   "cell_type": "markdown",
   "id": "informed-three",
   "metadata": {
    "papermill": {
     "duration": 0.030542,
     "end_time": "2021-06-09T15:51:08.163888",
     "exception": false,
     "start_time": "2021-06-09T15:51:08.133346",
     "status": "completed"
    },
    "tags": []
   },
   "source": [
    "### Auxiliary functions"
   ]
  },
  {
   "cell_type": "code",
   "execution_count": 15,
   "id": "peripheral-theme",
   "metadata": {
    "execution": {
     "iopub.execute_input": "2021-06-09T15:51:08.238940Z",
     "iopub.status.busy": "2021-06-09T15:51:08.238177Z",
     "iopub.status.idle": "2021-06-09T15:51:08.240861Z",
     "shell.execute_reply": "2021-06-09T15:51:08.240428Z",
     "shell.execute_reply.started": "2021-06-09T15:43:21.462664Z"
    },
    "papermill": {
     "duration": 0.046506,
     "end_time": "2021-06-09T15:51:08.240970",
     "exception": false,
     "start_time": "2021-06-09T15:51:08.194464",
     "status": "completed"
    },
    "tags": []
   },
   "outputs": [],
   "source": [
    "def jaccard_similarity(s1, s2):\n",
    "    l1 = s1.split(\" \")\n",
    "    l2 = s2.split(\" \")    \n",
    "    intersection = len(list(set(l1).intersection(l2)))\n",
    "    union = (len(l1) + len(l2)) - intersection\n",
    "    return float(intersection) / union\n",
    "\n",
    "def clean_paper_sentence(s):\n",
    "    \"\"\"\n",
    "    This function is essentially clean_text without lowercasing.\n",
    "    \"\"\"\n",
    "    s = re.sub('[^A-Za-z0-9]+', ' ', str(s)).strip()\n",
    "    s = re.sub(' +', ' ', s)\n",
    "    return s\n",
    "\n",
    "def shorten_sentences(sentences):\n",
    "    \"\"\"\n",
    "    Sentences that have more than MAX_LENGTH words will be split\n",
    "    into multiple sentences with overlappings.\n",
    "    \"\"\"\n",
    "    short_sentences = []\n",
    "    for sentence in sentences:\n",
    "        words = sentence.split()\n",
    "        if len(words) > MAX_LENGTH:\n",
    "            for p in range(0, len(words), MAX_LENGTH - OVERLAP):\n",
    "                short_sentences.append(' '.join(words[p:p+MAX_LENGTH]))\n",
    "        else:\n",
    "            short_sentences.append(sentence)\n",
    "    return short_sentences\n",
    "\n",
    "connection_tokens = {'s', 'of', 'and', 'in', 'on', 'for', 'data', 'dataset'}\n",
    "def find_mask_candidates(sentence):\n",
    "    \"\"\"\n",
    "    Extract masking candidates for Masked Dataset Modeling from a given $sentence.\n",
    "    A candidate should be a continuous sequence of at least 2 words, \n",
    "    each of these words either has the first letter in uppercase or is one of\n",
    "    the connection words ($connection_tokens). Furthermore, the connection \n",
    "    tokens are not allowed to appear at the beginning and the end of the\n",
    "    sequence.\n",
    "    \"\"\"\n",
    "    def candidate_qualified(words):\n",
    "        while len(words) and words[0].lower() in connection_tokens:\n",
    "            words = words[1:]\n",
    "        while len(words) and words[-1].lower() in connection_tokens:\n",
    "            words = words[:-1]\n",
    "        \n",
    "        return len(words) >= 2\n",
    "    \n",
    "    candidates = []\n",
    "    \n",
    "    phrase_start, phrase_end = -1, -1\n",
    "    for id in range(1, len(sentence)):\n",
    "        word = sentence[id]\n",
    "        if word[0].isupper() or word in connection_tokens:\n",
    "            if phrase_start == -1:\n",
    "                phrase_start = phrase_end = id\n",
    "            else:\n",
    "                phrase_end = id\n",
    "        else:\n",
    "            if phrase_start != -1:\n",
    "                if candidate_qualified(sentence[phrase_start:phrase_end+1]):\n",
    "                    candidates.append((phrase_start, phrase_end))\n",
    "                phrase_start = phrase_end = -1\n",
    "    \n",
    "    if phrase_start != -1:\n",
    "        if candidate_qualified(sentence[phrase_start:phrase_end+1]):\n",
    "            candidates.append((phrase_start, phrase_end))\n",
    "    \n",
    "    return candidates"
   ]
  },
  {
   "cell_type": "markdown",
   "id": "renewable-douglas",
   "metadata": {
    "papermill": {
     "duration": 0.030341,
     "end_time": "2021-06-09T15:51:08.301778",
     "exception": false,
     "start_time": "2021-06-09T15:51:08.271437",
     "status": "completed"
    },
    "tags": []
   },
   "source": [
    "### Transform"
   ]
  },
  {
   "cell_type": "code",
   "execution_count": 16,
   "id": "complimentary-philosophy",
   "metadata": {
    "execution": {
     "iopub.execute_input": "2021-06-09T15:51:08.387925Z",
     "iopub.status.busy": "2021-06-09T15:51:08.387104Z",
     "iopub.status.idle": "2021-06-09T15:51:08.457554Z",
     "shell.execute_reply": "2021-06-09T15:51:08.456950Z",
     "shell.execute_reply.started": "2021-06-09T15:43:21.481421Z"
    },
    "papermill": {
     "duration": 0.125471,
     "end_time": "2021-06-09T15:51:08.457697",
     "exception": false,
     "start_time": "2021-06-09T15:51:08.332226",
     "status": "completed"
    },
    "tags": []
   },
   "outputs": [
    {
     "data": {
      "application/vnd.jupyter.widget-view+json": {
       "model_id": "4665f4391ae94c81a328ccf0e610c09c",
       "version_major": 2,
       "version_minor": 0
      },
      "text/plain": [
       "HBox(children=(FloatProgress(value=0.0, max=4.0), HTML(value='')))"
      ]
     },
     "metadata": {},
     "output_type": "display_data"
    },
    {
     "name": "stdout",
     "output_type": "stream",
     "text": [
      "\n"
     ]
    }
   ],
   "source": [
    "if not MATCH_ONLY:\n",
    "    mask = mlm.tokenizer.mask_token\n",
    "    all_test_data = []\n",
    "    \n",
    "    for paper_id in tqdm(sample_submission['Id']):\n",
    "        # load paper\n",
    "        paper = papers[paper_id]\n",
    "\n",
    "        # extract sentences\n",
    "        sentences = set([clean_paper_sentence(sentence) for section in paper \n",
    "                         for sentence in section['text'].split('.')\n",
    "                        ])\n",
    "        sentences = shorten_sentences(sentences) # make sentences short\n",
    "        sentences = [sentence for sentence in sentences if len(sentence) > 1] # only accept sentences with length > 1 chars\n",
    "        sentences = [sentence for sentence in sentences if any(word in sentence.lower() for word in ['data', 'study'])]\n",
    "        sentences = [sentence.split() for sentence in sentences] # sentence = list of words\n",
    "\n",
    "        # mask\n",
    "        test_data = []\n",
    "        for sentence in sentences:\n",
    "            for phrase_start, phrase_end in find_mask_candidates(sentence):\n",
    "                dt_point = sentence[:phrase_start] + [mask] + sentence[phrase_end+1:]\n",
    "                test_data.append((' '.join(dt_point), ' '.join(sentence[phrase_start:phrase_end+1]))) # (masked text, phrase)\n",
    "\n",
    "        all_test_data.append(test_data)"
   ]
  },
  {
   "cell_type": "markdown",
   "id": "reflected-tunnel",
   "metadata": {
    "papermill": {
     "duration": 0.031121,
     "end_time": "2021-06-09T15:51:08.521376",
     "exception": false,
     "start_time": "2021-06-09T15:51:08.490255",
     "status": "completed"
    },
    "tags": []
   },
   "source": [
    "### Predict"
   ]
  },
  {
   "cell_type": "code",
   "execution_count": 17,
   "id": "critical-saudi",
   "metadata": {
    "execution": {
     "iopub.execute_input": "2021-06-09T15:51:08.609980Z",
     "iopub.status.busy": "2021-06-09T15:51:08.609148Z",
     "iopub.status.idle": "2021-06-09T15:51:11.360806Z",
     "shell.execute_reply": "2021-06-09T15:51:11.359591Z",
     "shell.execute_reply.started": "2021-06-09T15:43:21.606924Z"
    },
    "papermill": {
     "duration": 2.808449,
     "end_time": "2021-06-09T15:51:11.360934",
     "exception": false,
     "start_time": "2021-06-09T15:51:08.552485",
     "status": "completed"
    },
    "scrolled": true,
    "tags": []
   },
   "outputs": [
    {
     "data": {
      "application/vnd.jupyter.widget-view+json": {
       "model_id": "b6c7bb886df54e4f96e20df6f7238457",
       "version_major": 2,
       "version_minor": 0
      },
      "text/plain": [
       "HBox(children=(FloatProgress(value=0.0, max=4.0), HTML(value='')))"
      ]
     },
     "metadata": {},
     "output_type": "display_data"
    },
    {
     "name": "stdout",
     "output_type": "stream",
     "text": [
      "lothian birth cohort study lbc1936\n",
      "\n"
     ]
    }
   ],
   "source": [
    "if not MATCH_ONLY:\n",
    "    pred_mlm_labels = []\n",
    "\n",
    "    for test_data in tqdm(all_test_data):\n",
    "        pred_bag = set()\n",
    "\n",
    "        if len(test_data):\n",
    "            texts, phrases = list(zip(*test_data))\n",
    "            #print(list(zip(*test_data)))\n",
    "            mlm_pred = []\n",
    "            for p_id in range(0, len(texts), PREDICT_BATCH):\n",
    "                batch_texts = texts[p_id:p_id+PREDICT_BATCH]\n",
    "                batch_pred = mlm(list(batch_texts), targets=[f' {DATASET_SYMBOL}', f' {NONDATA_SYMBOL}'])\n",
    "                #print(batch_pred)\n",
    "                #print('\\n--------------------------------------------\\n')\n",
    "\n",
    "                if len(batch_texts) == 1:\n",
    "                    batch_pred = [batch_pred]\n",
    "\n",
    "                mlm_pred.extend(batch_pred)\n",
    "                \n",
    "            for (result1, result2), phrase in zip(mlm_pred, phrases):\n",
    "                #print(mlm_pred)\n",
    "                #print(result1,result2, phrase)\n",
    "                if (result1['score'] > result2['score']*2 and result1['token_str'] == DATASET_SYMBOL) or\\\n",
    "                   (result2['score'] > result1['score']*2 and result2['token_str'] == NONDATA_SYMBOL):\n",
    "                    pred_bag.add(clean_text(phrase))\n",
    "                    #print(phrase)\n",
    "                    print(clean_text(phrase))\n",
    "\n",
    "        # filter labels by jaccard score \n",
    "        filtered_labels = []\n",
    "        \n",
    "\n",
    "        for label in sorted(pred_bag, key=len, reverse=True):\n",
    "            if len(filtered_labels) == 0 or all(jaccard_similarity(label, got_label) < 0.75 for got_label in filtered_labels): #기존에 추가돼있는거랑 너무 비슷한거 피하기\n",
    "                filtered_labels.append(label)\n",
    "\n",
    "        pred_mlm_labels.append('|'.join(filtered_labels))\n",
    "    \n",
    "    pred_mlm_labels[:5]"
   ]
  },
  {
   "cell_type": "markdown",
   "id": "cardiac-teens",
   "metadata": {
    "papermill": {
     "duration": 0.032138,
     "end_time": "2021-06-09T15:51:11.426198",
     "exception": false,
     "start_time": "2021-06-09T15:51:11.394060",
     "status": "completed"
    },
    "tags": []
   },
   "source": [
    "# Baseline Model"
   ]
  },
  {
   "cell_type": "code",
   "execution_count": 18,
   "id": "valuable-reasoning",
   "metadata": {
    "execution": {
     "iopub.execute_input": "2021-06-09T15:51:11.499034Z",
     "iopub.status.busy": "2021-06-09T15:51:11.498367Z",
     "iopub.status.idle": "2021-06-09T15:51:11.502341Z",
     "shell.execute_reply": "2021-06-09T15:51:11.501916Z",
     "shell.execute_reply.started": "2021-06-09T15:43:24.525256Z"
    },
    "papermill": {
     "duration": 0.044144,
     "end_time": "2021-06-09T15:51:11.502446",
     "exception": false,
     "start_time": "2021-06-09T15:51:11.458302",
     "status": "completed"
    },
    "tags": []
   },
   "outputs": [],
   "source": [
    "def read_append_return(filename, train_files_path=train_files_path, output='text'):\n",
    "    \"\"\"\n",
    "    Function to read json file and then return the text data from them and append to the dataframe\n",
    "    \"\"\"\n",
    "    json_path = os.path.join(train_files_path, (filename+'.json'))\n",
    "    headings = []\n",
    "    contents = []\n",
    "    combined = []\n",
    "    with open(json_path, 'r') as f:\n",
    "        json_decode = json.load(f)\n",
    "        for data in json_decode:\n",
    "            headings.append(data.get('section_title'))\n",
    "            contents.append(data.get('text'))\n",
    "            combined.append(data.get('section_title'))\n",
    "            combined.append(data.get('text'))\n",
    "    \n",
    "    all_headings = ' '.join(headings)\n",
    "    all_contents = ' '.join(contents)\n",
    "    all_data = '. '.join(combined)\n",
    "    \n",
    "    if output == 'text':\n",
    "        return all_contents\n",
    "    elif output == 'head':\n",
    "        return all_headings\n",
    "    else:\n",
    "        return all_data\n",
    "    \n",
    "    \n",
    "def text_cleaning(text):\n",
    "    '''\n",
    "    Converts all text to lower case, Removes special charecters, emojis and multiple spaces\n",
    "    text - Sentence that needs to be cleaned\n",
    "    '''\n",
    "    text = ''.join([k for k in text if k not in string.punctuation])\n",
    "    text = re.sub('[^A-Za-z0-9]+', ' ', str(text).lower()).strip()\n",
    "    # text = re.sub(\"/'+/g\", ' ', text)\n",
    "    return text"
   ]
  },
  {
   "cell_type": "code",
   "execution_count": 19,
   "id": "differential-charles",
   "metadata": {
    "execution": {
     "iopub.execute_input": "2021-06-09T15:51:11.572161Z",
     "iopub.status.busy": "2021-06-09T15:51:11.571427Z",
     "iopub.status.idle": "2021-06-09T15:52:15.329374Z",
     "shell.execute_reply": "2021-06-09T15:52:15.328918Z",
     "shell.execute_reply.started": "2021-06-09T15:43:24.538619Z"
    },
    "papermill": {
     "duration": 63.794672,
     "end_time": "2021-06-09T15:52:15.329496",
     "exception": false,
     "start_time": "2021-06-09T15:51:11.534824",
     "status": "completed"
    },
    "tags": []
   },
   "outputs": [
    {
     "name": "stderr",
     "output_type": "stream",
     "text": [
      "/opt/conda/lib/python3.7/site-packages/tqdm/std.py:702: FutureWarning: The Panel class is removed from pandas. Accessing it from the top-level namespace will also be removed in the next version\n",
      "  \n"
     ]
    },
    {
     "data": {
      "application/vnd.jupyter.widget-view+json": {
       "model_id": "817df282da1a408196f40bcc1c47eb9d",
       "version_major": 2,
       "version_minor": 0
      },
      "text/plain": [
       "HBox(children=(FloatProgress(value=0.0, max=19661.0), HTML(value='')))"
      ]
     },
     "metadata": {},
     "output_type": "display_data"
    },
    {
     "name": "stdout",
     "output_type": "stream",
     "text": [
      "\n"
     ]
    },
    {
     "data": {
      "application/vnd.jupyter.widget-view+json": {
       "model_id": "d7f0d91e5cf9460d8eb91967e3c7bf62",
       "version_major": 2,
       "version_minor": 0
      },
      "text/plain": [
       "HBox(children=(FloatProgress(value=0.0, max=4.0), HTML(value='')))"
      ]
     },
     "metadata": {},
     "output_type": "display_data"
    },
    {
     "name": "stdout",
     "output_type": "stream",
     "text": [
      "\n"
     ]
    }
   ],
   "source": [
    "if BASELINE_HELPING or ALL_BLENDED:\n",
    "    tqdm.pandas()\n",
    "\n",
    "    train['text'] = train['Id'].progress_apply(read_append_return)\n",
    "\n",
    "    if not COMPUTE_CV:\n",
    "        sample_submission['text'] = sample_submission['Id'].progress_apply(partial(read_append_return, train_files_path=test_files_path))\n",
    "\n",
    "    train.head()"
   ]
  },
  {
   "cell_type": "code",
   "execution_count": 20,
   "id": "empty-eclipse",
   "metadata": {
    "execution": {
     "iopub.execute_input": "2021-06-09T15:52:15.419783Z",
     "iopub.status.busy": "2021-06-09T15:52:15.418930Z",
     "iopub.status.idle": "2021-06-09T15:55:30.103501Z",
     "shell.execute_reply": "2021-06-09T15:55:30.102947Z",
     "shell.execute_reply.started": "2021-06-09T15:44:35.303101Z"
    },
    "papermill": {
     "duration": 194.740084,
     "end_time": "2021-06-09T15:55:30.103640",
     "exception": false,
     "start_time": "2021-06-09T15:52:15.363556",
     "status": "completed"
    },
    "tags": []
   },
   "outputs": [
    {
     "data": {
      "application/vnd.jupyter.widget-view+json": {
       "model_id": "3f38ebc5beb94d82a936a475b3ff8554",
       "version_major": 2,
       "version_minor": 0
      },
      "text/plain": [
       "HBox(children=(FloatProgress(value=0.0, max=19661.0), HTML(value='')))"
      ]
     },
     "metadata": {},
     "output_type": "display_data"
    },
    {
     "name": "stdout",
     "output_type": "stream",
     "text": [
      "\n"
     ]
    }
   ],
   "source": [
    "if BASELINE_HELPING or ALL_BLENDED:\n",
    "    tqdm.pandas()\n",
    "    \n",
    "    train['text'] = train['text'].progress_apply(text_cleaning)"
   ]
  },
  {
   "cell_type": "code",
   "execution_count": 21,
   "id": "exciting-vampire",
   "metadata": {
    "execution": {
     "iopub.execute_input": "2021-06-09T15:55:30.182280Z",
     "iopub.status.busy": "2021-06-09T15:55:30.181579Z",
     "iopub.status.idle": "2021-06-09T15:55:30.487403Z",
     "shell.execute_reply": "2021-06-09T15:55:30.488042Z",
     "shell.execute_reply.started": "2021-06-09T15:48:14.144532Z"
    },
    "papermill": {
     "duration": 0.349763,
     "end_time": "2021-06-09T15:55:30.488233",
     "exception": false,
     "start_time": "2021-06-09T15:55:30.138470",
     "status": "completed"
    },
    "tags": []
   },
   "outputs": [
    {
     "name": "stdout",
     "output_type": "stream",
     "text": [
      "len(temp_1) = 130\n",
      "len(temp_2) = 45\n",
      "len(temp_3) = 130\n",
      "len(existing_labels) = 180\n"
     ]
    },
    {
     "data": {
      "application/vnd.jupyter.widget-view+json": {
       "model_id": "1ece16f91b3c42c491e2f84c906d6ce0",
       "version_major": 2,
       "version_minor": 0
      },
      "text/plain": [
       "HBox(children=(FloatProgress(value=1.0, bar_style='info', layout=Layout(width='20px'), max=1.0), HTML(value=''…"
      ]
     },
     "metadata": {},
     "output_type": "display_data"
    },
    {
     "name": "stdout",
     "output_type": "stream",
     "text": [
      "\n"
     ]
    }
   ],
   "source": [
    "if BASELINE_HELPING or ALL_BLENDED:\n",
    "    temp_1 = [x.lower() for x in train['dataset_label'].unique()]\n",
    "    temp_2 = [x.lower() for x in train['dataset_title'].unique()]\n",
    "    temp_3 = [x.lower() for x in train['cleaned_label'].unique()]\n",
    "\n",
    "    existing_labels = set(temp_1 + temp_2 + temp_3)\n",
    "\n",
    "    print(f'len(temp_1) = {len(temp_1)}')\n",
    "    print(f'len(temp_2) = {len(temp_2)}')\n",
    "    print(f'len(temp_3) = {len(temp_3)}')\n",
    "    print(f'len(existing_labels) = {len(existing_labels)}')\n",
    "\n",
    "    id_list = []\n",
    "    lables_list = []\n",
    "    for index, row in tqdm(sample_submission.iterrows()):\n",
    "        sample_text = row['text']\n",
    "        row_id = row['Id']\n",
    "        temp_df = train[train['text'] == text_cleaning(sample_text)]\n",
    "        cleaned_labels = temp_df['cleaned_label'].to_list()\n",
    "\n",
    "        for known_label in existing_labels:\n",
    "            if known_label in sample_text.lower():\n",
    "                cleaned_labels.append(clean_text(known_label))\n",
    "\n",
    "        cleaned_labels = [clean_text(x) for x in cleaned_labels]\n",
    "        cleaned_labels = set(cleaned_labels)\n",
    "        lables_list.append('|'.join(cleaned_labels))\n",
    "        id_list.append(row_id)"
   ]
  },
  {
   "cell_type": "markdown",
   "id": "scheduled-escape",
   "metadata": {
    "papermill": {
     "duration": 0.035051,
     "end_time": "2021-06-09T15:55:30.559720",
     "exception": false,
     "start_time": "2021-06-09T15:55:30.524669",
     "status": "completed"
    },
    "tags": []
   },
   "source": [
    "## Aggregate final predictions and write submission file"
   ]
  },
  {
   "cell_type": "code",
   "execution_count": 22,
   "id": "vertical-serum",
   "metadata": {
    "execution": {
     "iopub.execute_input": "2021-06-09T15:55:30.636100Z",
     "iopub.status.busy": "2021-06-09T15:55:30.635387Z",
     "iopub.status.idle": "2021-06-09T15:55:30.638547Z",
     "shell.execute_reply": "2021-06-09T15:55:30.639039Z",
     "shell.execute_reply.started": "2021-06-09T15:48:14.560428Z"
    },
    "papermill": {
     "duration": 0.044218,
     "end_time": "2021-06-09T15:55:30.639160",
     "exception": false,
     "start_time": "2021-06-09T15:55:30.594942",
     "status": "completed"
    },
    "tags": []
   },
   "outputs": [
    {
     "data": {
      "text/plain": [
       "['lothian birth cohort study lbc1936', '', '', '']"
      ]
     },
     "execution_count": 22,
     "metadata": {},
     "output_type": "execute_result"
    }
   ],
   "source": [
    "pred_mlm_labels"
   ]
  },
  {
   "cell_type": "code",
   "execution_count": 23,
   "id": "daily-proxy",
   "metadata": {
    "execution": {
     "iopub.execute_input": "2021-06-09T15:55:30.719789Z",
     "iopub.status.busy": "2021-06-09T15:55:30.719032Z",
     "iopub.status.idle": "2021-06-09T15:55:30.721270Z",
     "shell.execute_reply": "2021-06-09T15:55:30.721785Z",
     "shell.execute_reply.started": "2021-06-09T15:48:14.575268Z"
    },
    "papermill": {
     "duration": 0.047431,
     "end_time": "2021-06-09T15:55:30.721906",
     "exception": false,
     "start_time": "2021-06-09T15:55:30.674475",
     "status": "completed"
    },
    "tags": []
   },
   "outputs": [],
   "source": [
    "final_predictions = []\n",
    "\n",
    "if ALL_BLENDED:\n",
    "    for literal_match, mlm_pred, lables_match in zip(literal_preds, pred_mlm_labels, lables_list):\n",
    "        temp = [literal_match, mlm_pred, lables_match]\n",
    "        temp = [pred for pred in temp if pred]\n",
    "        temp = ('|').join(temp)\n",
    "        final_predictions.append(temp)\n",
    "        \n",
    "elif BASELINE_HELPING:\n",
    "    for literal_match, mlm_pred, lables_match in zip(literal_preds, pred_mlm_labels, lables_list):\n",
    "        if literal_match:\n",
    "            final_predictions.append(literal_match)\n",
    "        elif lables_match:\n",
    "            final_predictions.append(lables_match)\n",
    "        else:\n",
    "            final_predictions.append(mlm_pred)\n",
    "\n",
    "elif MATCH_ONLY:\n",
    "    final_predictions = literal_preds\n",
    "\n",
    "elif MLM_ONLY:\n",
    "    final_predictions = pred_mlm_labels\n",
    "\n",
    "elif THEO_MERGE:\n",
    "    for i in range(len(literal_preds)):\n",
    "        pred_naive = literal_preds[i].split('|')\n",
    "        pred_model = pred_mlm_labels[i].split('|')\n",
    "        pred_model_kept = []\n",
    "        for pred_m in pred_model:\n",
    "            kept = True\n",
    "            for pred_n in pred_naive:\n",
    "                if pred_m in pred_n or pred_n in pred_m:\n",
    "                    kept = False\n",
    "            if kept:\n",
    "                pred_model_kept.append(pred_m)\n",
    "        final_predictions.append(\"|\".join(pred_naive + pred_model_kept))\n",
    "\n",
    "else:\n",
    "    for literal_match, mlm_pred in zip(literal_preds, pred_mlm_labels):\n",
    "        if literal_match:\n",
    "            final_predictions.append(literal_match)\n",
    "        else:\n",
    "            final_predictions.append(mlm_pred)\n",
    "\n",
    "sample_submission['PredictionString'] = final_predictions"
   ]
  },
  {
   "cell_type": "code",
   "execution_count": 24,
   "id": "intimate-paraguay",
   "metadata": {
    "execution": {
     "iopub.execute_input": "2021-06-09T15:55:30.797723Z",
     "iopub.status.busy": "2021-06-09T15:55:30.797084Z",
     "iopub.status.idle": "2021-06-09T15:55:30.810862Z",
     "shell.execute_reply": "2021-06-09T15:55:30.810434Z",
     "shell.execute_reply.started": "2021-06-09T15:48:14.591098Z"
    },
    "papermill": {
     "duration": 0.053758,
     "end_time": "2021-06-09T15:55:30.810969",
     "exception": false,
     "start_time": "2021-06-09T15:55:30.757211",
     "status": "completed"
    },
    "tags": []
   },
   "outputs": [
    {
     "data": {
      "text/html": [
       "<div>\n",
       "<style scoped>\n",
       "    .dataframe tbody tr th:only-of-type {\n",
       "        vertical-align: middle;\n",
       "    }\n",
       "\n",
       "    .dataframe tbody tr th {\n",
       "        vertical-align: top;\n",
       "    }\n",
       "\n",
       "    .dataframe thead th {\n",
       "        text-align: right;\n",
       "    }\n",
       "</style>\n",
       "<table border=\"1\" class=\"dataframe\">\n",
       "  <thead>\n",
       "    <tr style=\"text-align: right;\">\n",
       "      <th></th>\n",
       "      <th>Id</th>\n",
       "      <th>PredictionString</th>\n",
       "      <th>text</th>\n",
       "    </tr>\n",
       "  </thead>\n",
       "  <tbody>\n",
       "    <tr>\n",
       "      <th>0</th>\n",
       "      <td>2100032a-7c33-4bff-97ef-690822c43466</td>\n",
       "      <td>adni|alzheimer s disease neuroimaging initiati...</td>\n",
       "      <td>Cognitive deficits and reduced educational ach...</td>\n",
       "    </tr>\n",
       "    <tr>\n",
       "      <th>1</th>\n",
       "      <td>2f392438-e215-4169-bebf-21ac4ff253e1</td>\n",
       "      <td>common core of data|nces common core of data|t...</td>\n",
       "      <td>This report describes how the education system...</td>\n",
       "    </tr>\n",
       "    <tr>\n",
       "      <th>2</th>\n",
       "      <td>3f316b38-1a24-45a9-8d8c-4e05a42257c6</td>\n",
       "      <td>slosh model|noaa storm surge inundation|sea la...</td>\n",
       "      <td>Cape Hatteras National Seashore (CAHA), locate...</td>\n",
       "    </tr>\n",
       "    <tr>\n",
       "      <th>3</th>\n",
       "      <td>8e6996b4-ca08-4c0b-bed2-aaf07a4c6a60</td>\n",
       "      <td>rural urban continuum codes</td>\n",
       "      <td>A significant body of research has been conduc...</td>\n",
       "    </tr>\n",
       "  </tbody>\n",
       "</table>\n",
       "</div>"
      ],
      "text/plain": [
       "                                     Id  \\\n",
       "0  2100032a-7c33-4bff-97ef-690822c43466   \n",
       "1  2f392438-e215-4169-bebf-21ac4ff253e1   \n",
       "2  3f316b38-1a24-45a9-8d8c-4e05a42257c6   \n",
       "3  8e6996b4-ca08-4c0b-bed2-aaf07a4c6a60   \n",
       "\n",
       "                                    PredictionString  \\\n",
       "0  adni|alzheimer s disease neuroimaging initiati...   \n",
       "1  common core of data|nces common core of data|t...   \n",
       "2  slosh model|noaa storm surge inundation|sea la...   \n",
       "3                        rural urban continuum codes   \n",
       "\n",
       "                                                text  \n",
       "0  Cognitive deficits and reduced educational ach...  \n",
       "1  This report describes how the education system...  \n",
       "2  Cape Hatteras National Seashore (CAHA), locate...  \n",
       "3  A significant body of research has been conduc...  "
      ]
     },
     "execution_count": 24,
     "metadata": {},
     "output_type": "execute_result"
    }
   ],
   "source": [
    "sample_submission['PredictionString'] = final_predictions\n",
    "sample_submission[['Id', 'PredictionString']].to_csv('submission.csv', index=False)\n",
    "\n",
    "sample_submission.head()"
   ]
  },
  {
   "cell_type": "code",
   "execution_count": 25,
   "id": "three-garage",
   "metadata": {
    "execution": {
     "iopub.execute_input": "2021-06-09T15:55:30.887331Z",
     "iopub.status.busy": "2021-06-09T15:55:30.886632Z",
     "iopub.status.idle": "2021-06-09T15:55:30.890059Z",
     "shell.execute_reply": "2021-06-09T15:55:30.889566Z",
     "shell.execute_reply.started": "2021-06-09T15:48:14.623362Z"
    },
    "papermill": {
     "duration": 0.043715,
     "end_time": "2021-06-09T15:55:30.890158",
     "exception": false,
     "start_time": "2021-06-09T15:55:30.846443",
     "status": "completed"
    },
    "tags": []
   },
   "outputs": [
    {
     "data": {
      "text/plain": [
       "'adni|alzheimer s disease neuroimaging initiative adni|pubmed'"
      ]
     },
     "execution_count": 25,
     "metadata": {},
     "output_type": "execute_result"
    }
   ],
   "source": [
    "sample_submission.loc[0,'PredictionString']"
   ]
  },
  {
   "cell_type": "code",
   "execution_count": 26,
   "id": "exact-waterproof",
   "metadata": {
    "execution": {
     "iopub.execute_input": "2021-06-09T15:55:30.967056Z",
     "iopub.status.busy": "2021-06-09T15:55:30.966265Z",
     "iopub.status.idle": "2021-06-09T15:55:30.969684Z",
     "shell.execute_reply": "2021-06-09T15:55:30.970135Z",
     "shell.execute_reply.started": "2021-06-09T15:48:14.634544Z"
    },
    "papermill": {
     "duration": 0.044175,
     "end_time": "2021-06-09T15:55:30.970248",
     "exception": false,
     "start_time": "2021-06-09T15:55:30.926073",
     "status": "completed"
    },
    "tags": []
   },
   "outputs": [
    {
     "data": {
      "text/plain": [
       "'common core of data|nces common core of data|trends in international mathematics and science study|schools and staffing survey|integrated postsecondary education data system|ipeds|progress in international reading literacy study'"
      ]
     },
     "execution_count": 26,
     "metadata": {},
     "output_type": "execute_result"
    }
   ],
   "source": [
    "sample_submission.loc[1,'PredictionString']"
   ]
  },
  {
   "cell_type": "code",
   "execution_count": 27,
   "id": "suitable-devon",
   "metadata": {
    "execution": {
     "iopub.execute_input": "2021-06-09T15:55:31.046666Z",
     "iopub.status.busy": "2021-06-09T15:55:31.045893Z",
     "iopub.status.idle": "2021-06-09T15:55:31.049111Z",
     "shell.execute_reply": "2021-06-09T15:55:31.049468Z",
     "shell.execute_reply.started": "2021-06-09T15:48:14.644389Z"
    },
    "papermill": {
     "duration": 0.043068,
     "end_time": "2021-06-09T15:55:31.049583",
     "exception": false,
     "start_time": "2021-06-09T15:55:31.006515",
     "status": "completed"
    },
    "tags": []
   },
   "outputs": [
    {
     "data": {
      "text/plain": [
       "'slosh model|noaa storm surge inundation|sea lake and overland surges from hurricanes'"
      ]
     },
     "execution_count": 27,
     "metadata": {},
     "output_type": "execute_result"
    }
   ],
   "source": [
    "sample_submission.loc[2,'PredictionString']"
   ]
  },
  {
   "cell_type": "code",
   "execution_count": 28,
   "id": "static-pattern",
   "metadata": {
    "execution": {
     "iopub.execute_input": "2021-06-09T15:55:31.126664Z",
     "iopub.status.busy": "2021-06-09T15:55:31.126178Z",
     "iopub.status.idle": "2021-06-09T15:55:31.131724Z",
     "shell.execute_reply": "2021-06-09T15:55:31.131324Z",
     "shell.execute_reply.started": "2021-06-09T15:48:14.659449Z"
    },
    "papermill": {
     "duration": 0.045462,
     "end_time": "2021-06-09T15:55:31.131901",
     "exception": false,
     "start_time": "2021-06-09T15:55:31.086439",
     "status": "completed"
    },
    "tags": []
   },
   "outputs": [
    {
     "data": {
      "text/plain": [
       "'rural urban continuum codes'"
      ]
     },
     "execution_count": 28,
     "metadata": {},
     "output_type": "execute_result"
    }
   ],
   "source": [
    "sample_submission.loc[3,'PredictionString']"
   ]
  },
  {
   "cell_type": "markdown",
   "id": "later-habitat",
   "metadata": {
    "papermill": {
     "duration": 0.036649,
     "end_time": "2021-06-09T15:55:31.205200",
     "exception": false,
     "start_time": "2021-06-09T15:55:31.168551",
     "status": "completed"
    },
    "tags": []
   },
   "source": [
    "# Evaluation Metric"
   ]
  },
  {
   "cell_type": "code",
   "execution_count": 29,
   "id": "entire-canvas",
   "metadata": {
    "execution": {
     "iopub.execute_input": "2021-06-09T15:55:31.288154Z",
     "iopub.status.busy": "2021-06-09T15:55:31.287499Z",
     "iopub.status.idle": "2021-06-09T15:55:31.290654Z",
     "shell.execute_reply": "2021-06-09T15:55:31.291040Z",
     "shell.execute_reply.started": "2021-06-09T15:48:14.670803Z"
    },
    "papermill": {
     "duration": 0.048721,
     "end_time": "2021-06-09T15:55:31.291158",
     "exception": false,
     "start_time": "2021-06-09T15:55:31.242437",
     "status": "completed"
    },
    "tags": []
   },
   "outputs": [],
   "source": [
    "# https://www.kaggle.com/c/coleridgeinitiative-show-us-the-data/discussion/230091\n",
    "def compute_fbeta(y_true: List[List[str]],\n",
    "                  y_pred: List[List[str]],\n",
    "                  beta: float = 0.5) -> float:\n",
    "    \"\"\"Compute the Jaccard-based micro FBeta score.\n",
    "\n",
    "    References\n",
    "    ----------\n",
    "    - https://www.kaggle.com/c/coleridgeinitiative-show-us-the-data/overview/evaluation\n",
    "    \"\"\"\n",
    "\n",
    "    def _jaccard_similarity(str1: str, str2: str) -> float:\n",
    "        a = set(str1.split()) \n",
    "        b = set(str2.split())\n",
    "        c = a.intersection(b)\n",
    "        return float(len(c)) / (len(a) + len(b) - len(c))\n",
    "\n",
    "    tp = 0  # true positive\n",
    "    fp = 0  # false positive\n",
    "    fn = 0  # false negative\n",
    "    for ground_truth_list, predicted_string_list in zip(y_true, y_pred):\n",
    "        predicted_string_list_sorted = sorted(predicted_string_list)\n",
    "        for ground_truth in sorted(ground_truth_list):            \n",
    "            if len(predicted_string_list_sorted) == 0:\n",
    "                fn += 1\n",
    "            else:\n",
    "                similarity_scores = [\n",
    "                    _jaccard_similarity(ground_truth, predicted_string)\n",
    "                    for predicted_string in predicted_string_list_sorted\n",
    "                ]\n",
    "                matched_idx = np.argmax(similarity_scores)\n",
    "                if similarity_scores[matched_idx] >= 0.5:\n",
    "                    predicted_string_list_sorted.pop(matched_idx)\n",
    "                    tp += 1\n",
    "                else:\n",
    "                    fn += 1\n",
    "        fp += len(predicted_string_list_sorted)\n",
    "\n",
    "    tp *= (1 + beta ** 2)\n",
    "    fn *= beta ** 2\n",
    "    fbeta_score = tp / (tp + fp + fn)\n",
    "    return fbeta_score"
   ]
  },
  {
   "cell_type": "code",
   "execution_count": 30,
   "id": "wound-crown",
   "metadata": {
    "execution": {
     "iopub.execute_input": "2021-06-09T15:55:31.372930Z",
     "iopub.status.busy": "2021-06-09T15:55:31.372383Z",
     "iopub.status.idle": "2021-06-09T15:55:31.377200Z",
     "shell.execute_reply": "2021-06-09T15:55:31.376631Z",
     "shell.execute_reply.started": "2021-06-09T15:48:14.687324Z"
    },
    "papermill": {
     "duration": 0.049252,
     "end_time": "2021-06-09T15:55:31.377336",
     "exception": false,
     "start_time": "2021-06-09T15:55:31.328084",
     "status": "completed"
    },
    "tags": []
   },
   "outputs": [
    {
     "name": "stdout",
     "output_type": "stream",
     "text": [
      "COMPUTE_CV = False\n",
      "EDA_DEMO = False\n",
      "ALL_BLENDED = False\n",
      "BASELINE_HELPING = True\n",
      "MATCH_ONLY = False\n",
      "MLM_ONLY = False\n",
      "KEN_MATCHING = True\n",
      "BS_CLEANING = False\n",
      "THEO_MERGE = False\n",
      "SEED = 347\n"
     ]
    }
   ],
   "source": [
    "if COMPUTE_CV:\n",
    "    COMPUTE_CV_SCORE = compute_fbeta(sample_submission['cleaned_label'].apply(lambda x: [x]),\\\n",
    "                  sample_submission['PredictionString'].apply(lambda x: x.split('|')))\n",
    "    print('COMPUTE_CV_SCORE =', COMPUTE_CV_SCORE)\n",
    "else:\n",
    "    print(f'COMPUTE_CV = {COMPUTE_CV}')\n",
    "    \n",
    "print(f'EDA_DEMO = {EDA_DEMO}')\n",
    "print(f'ALL_BLENDED = {ALL_BLENDED}')\n",
    "print(f'BASELINE_HELPING = {BASELINE_HELPING}')\n",
    "print(f'MATCH_ONLY = {MATCH_ONLY}')\n",
    "print(f'MLM_ONLY = {MLM_ONLY}')\n",
    "print(f'KEN_MATCHING = {KEN_MATCHING}')\n",
    "print(f'BS_CLEANING = {BS_CLEANING}')\n",
    "print(f'THEO_MERGE = {THEO_MERGE}')\n",
    "print(f'SEED = {SEED}')"
   ]
  }
 ],
 "metadata": {
  "kernelspec": {
   "display_name": "Python 3",
   "language": "python",
   "name": "python3"
  },
  "language_info": {
   "codemirror_mode": {
    "name": "ipython",
    "version": 3
   },
   "file_extension": ".py",
   "mimetype": "text/x-python",
   "name": "python",
   "nbconvert_exporter": "python",
   "pygments_lexer": "ipython3",
   "version": "3.7.9"
  },
  "papermill": {
   "default_parameters": {},
   "duration": 382.759957,
   "end_time": "2021-06-09T15:55:32.927654",
   "environment_variables": {},
   "exception": null,
   "input_path": "__notebook__.ipynb",
   "output_path": "__notebook__.ipynb",
   "parameters": {},
   "start_time": "2021-06-09T15:49:10.167697",
   "version": "2.3.2"
  },
  "widgets": {
   "application/vnd.jupyter.widget-state+json": {
    "state": {
     "0d41ab0e5d14403c9a4c8db96bb94555": {
      "model_module": "@jupyter-widgets/controls",
      "model_module_version": "1.5.0",
      "model_name": "HTMLModel",
      "state": {
       "_dom_classes": [],
       "_model_module": "@jupyter-widgets/controls",
       "_model_module_version": "1.5.0",
       "_model_name": "HTMLModel",
       "_view_count": null,
       "_view_module": "@jupyter-widgets/controls",
       "_view_module_version": "1.5.0",
       "_view_name": "HTMLView",
       "description": "",
       "description_tooltip": null,
       "layout": "IPY_MODEL_78816c8a27ec4c1aaa0570a89ef839aa",
       "placeholder": "​",
       "style": "IPY_MODEL_5d58366f113441fda2d8d2f8c1d8cb13",
       "value": "&lt;tqdm.notebook.tqdm_notebook object at 0x7f653c1fbf50&gt;"
      }
     },
     "0e6dcfc01e684578b9de696d69a49ec7": {
      "model_module": "@jupyter-widgets/base",
      "model_module_version": "1.2.0",
      "model_name": "LayoutModel",
      "state": {
       "_model_module": "@jupyter-widgets/base",
       "_model_module_version": "1.2.0",
       "_model_name": "LayoutModel",
       "_view_count": null,
       "_view_module": "@jupyter-widgets/base",
       "_view_module_version": "1.2.0",
       "_view_name": "LayoutView",
       "align_content": null,
       "align_items": null,
       "align_self": null,
       "border": null,
       "bottom": null,
       "display": null,
       "flex": null,
       "flex_flow": null,
       "grid_area": null,
       "grid_auto_columns": null,
       "grid_auto_flow": null,
       "grid_auto_rows": null,
       "grid_column": null,
       "grid_gap": null,
       "grid_row": null,
       "grid_template_areas": null,
       "grid_template_columns": null,
       "grid_template_rows": null,
       "height": null,
       "justify_content": null,
       "justify_items": null,
       "left": null,
       "margin": null,
       "max_height": null,
       "max_width": null,
       "min_height": null,
       "min_width": null,
       "object_fit": null,
       "object_position": null,
       "order": null,
       "overflow": null,
       "overflow_x": null,
       "overflow_y": null,
       "padding": null,
       "right": null,
       "top": null,
       "visibility": null,
       "width": null
      }
     },
     "13999b5866b44142afcbab11e83e134d": {
      "model_module": "@jupyter-widgets/controls",
      "model_module_version": "1.5.0",
      "model_name": "FloatProgressModel",
      "state": {
       "_dom_classes": [],
       "_model_module": "@jupyter-widgets/controls",
       "_model_module_version": "1.5.0",
       "_model_name": "FloatProgressModel",
       "_view_count": null,
       "_view_module": "@jupyter-widgets/controls",
       "_view_module_version": "1.5.0",
       "_view_name": "ProgressView",
       "bar_style": "success",
       "description": "",
       "description_tooltip": null,
       "layout": "IPY_MODEL_cf834411e9654f938b444bdfb7382f6a",
       "max": 19661.0,
       "min": 0.0,
       "orientation": "horizontal",
       "style": "IPY_MODEL_9aa53447937a402fbb35a6b105377368",
       "value": 19661.0
      }
     },
     "14ec361f69a44e34b151afb1379264af": {
      "model_module": "@jupyter-widgets/controls",
      "model_module_version": "1.5.0",
      "model_name": "FloatProgressModel",
      "state": {
       "_dom_classes": [],
       "_model_module": "@jupyter-widgets/controls",
       "_model_module_version": "1.5.0",
       "_model_name": "FloatProgressModel",
       "_view_count": null,
       "_view_module": "@jupyter-widgets/controls",
       "_view_module_version": "1.5.0",
       "_view_name": "ProgressView",
       "bar_style": "success",
       "description": "",
       "description_tooltip": null,
       "layout": "IPY_MODEL_c50e48d3fdc54b76a0c29ba1f63e4901",
       "max": 1.0,
       "min": 0.0,
       "orientation": "horizontal",
       "style": "IPY_MODEL_b10309751ddb49cfa164a69772795297",
       "value": 1.0
      }
     },
     "17f677bdffda4317afddb0bacc684430": {
      "model_module": "@jupyter-widgets/base",
      "model_module_version": "1.2.0",
      "model_name": "LayoutModel",
      "state": {
       "_model_module": "@jupyter-widgets/base",
       "_model_module_version": "1.2.0",
       "_model_name": "LayoutModel",
       "_view_count": null,
       "_view_module": "@jupyter-widgets/base",
       "_view_module_version": "1.2.0",
       "_view_name": "LayoutView",
       "align_content": null,
       "align_items": null,
       "align_self": null,
       "border": null,
       "bottom": null,
       "display": null,
       "flex": null,
       "flex_flow": null,
       "grid_area": null,
       "grid_auto_columns": null,
       "grid_auto_flow": null,
       "grid_auto_rows": null,
       "grid_column": null,
       "grid_gap": null,
       "grid_row": null,
       "grid_template_areas": null,
       "grid_template_columns": null,
       "grid_template_rows": null,
       "height": null,
       "justify_content": null,
       "justify_items": null,
       "left": null,
       "margin": null,
       "max_height": null,
       "max_width": null,
       "min_height": null,
       "min_width": null,
       "object_fit": null,
       "object_position": null,
       "order": null,
       "overflow": null,
       "overflow_x": null,
       "overflow_y": null,
       "padding": null,
       "right": null,
       "top": null,
       "visibility": null,
       "width": null
      }
     },
     "1c68a718b4af431abd7f22c35687f64f": {
      "model_module": "@jupyter-widgets/controls",
      "model_module_version": "1.5.0",
      "model_name": "ProgressStyleModel",
      "state": {
       "_model_module": "@jupyter-widgets/controls",
       "_model_module_version": "1.5.0",
       "_model_name": "ProgressStyleModel",
       "_view_count": null,
       "_view_module": "@jupyter-widgets/base",
       "_view_module_version": "1.2.0",
       "_view_name": "StyleView",
       "bar_color": null,
       "description_width": "initial"
      }
     },
     "1ece16f91b3c42c491e2f84c906d6ce0": {
      "model_module": "@jupyter-widgets/controls",
      "model_module_version": "1.5.0",
      "model_name": "HBoxModel",
      "state": {
       "_dom_classes": [],
       "_model_module": "@jupyter-widgets/controls",
       "_model_module_version": "1.5.0",
       "_model_name": "HBoxModel",
       "_view_count": null,
       "_view_module": "@jupyter-widgets/controls",
       "_view_module_version": "1.5.0",
       "_view_name": "HBoxView",
       "box_style": "",
       "children": [
        "IPY_MODEL_14ec361f69a44e34b151afb1379264af",
        "IPY_MODEL_22e13ec0125042ddb4f7897cd1911267"
       ],
       "layout": "IPY_MODEL_9efbf905f43a4a41be4f2f9b9389e166"
      }
     },
     "22e13ec0125042ddb4f7897cd1911267": {
      "model_module": "@jupyter-widgets/controls",
      "model_module_version": "1.5.0",
      "model_name": "HTMLModel",
      "state": {
       "_dom_classes": [],
       "_model_module": "@jupyter-widgets/controls",
       "_model_module_version": "1.5.0",
       "_model_name": "HTMLModel",
       "_view_count": null,
       "_view_module": "@jupyter-widgets/controls",
       "_view_module_version": "1.5.0",
       "_view_name": "HTMLView",
       "description": "",
       "description_tooltip": null,
       "layout": "IPY_MODEL_8231061ffd074bd3b7aa2620f00460df",
       "placeholder": "​",
       "style": "IPY_MODEL_e5c5e1237ec54ca98599f149595e8373",
       "value": "&lt;tqdm.notebook.tqdm_notebook object at 0x7f653bf7e190&gt;"
      }
     },
     "2a40a5dfa5bc4356a1dacbe3c63a9599": {
      "model_module": "@jupyter-widgets/base",
      "model_module_version": "1.2.0",
      "model_name": "LayoutModel",
      "state": {
       "_model_module": "@jupyter-widgets/base",
       "_model_module_version": "1.2.0",
       "_model_name": "LayoutModel",
       "_view_count": null,
       "_view_module": "@jupyter-widgets/base",
       "_view_module_version": "1.2.0",
       "_view_name": "LayoutView",
       "align_content": null,
       "align_items": null,
       "align_self": null,
       "border": null,
       "bottom": null,
       "display": null,
       "flex": null,
       "flex_flow": null,
       "grid_area": null,
       "grid_auto_columns": null,
       "grid_auto_flow": null,
       "grid_auto_rows": null,
       "grid_column": null,
       "grid_gap": null,
       "grid_row": null,
       "grid_template_areas": null,
       "grid_template_columns": null,
       "grid_template_rows": null,
       "height": null,
       "justify_content": null,
       "justify_items": null,
       "left": null,
       "margin": null,
       "max_height": null,
       "max_width": null,
       "min_height": null,
       "min_width": null,
       "object_fit": null,
       "object_position": null,
       "order": null,
       "overflow": null,
       "overflow_x": null,
       "overflow_y": null,
       "padding": null,
       "right": null,
       "top": null,
       "visibility": null,
       "width": null
      }
     },
     "2b1d612b4a2d4122bce4df092c0e366b": {
      "model_module": "@jupyter-widgets/controls",
      "model_module_version": "1.5.0",
      "model_name": "HBoxModel",
      "state": {
       "_dom_classes": [],
       "_model_module": "@jupyter-widgets/controls",
       "_model_module_version": "1.5.0",
       "_model_name": "HBoxModel",
       "_view_count": null,
       "_view_module": "@jupyter-widgets/controls",
       "_view_module_version": "1.5.0",
       "_view_name": "HBoxView",
       "box_style": "",
       "children": [
        "IPY_MODEL_a8411b07eb854d36b0aa4d23f28d4ca4",
        "IPY_MODEL_e33159e344254307b7f381385bc18a9f"
       ],
       "layout": "IPY_MODEL_9f7f7ad2e8d8436686d8f4920ef35e28"
      }
     },
     "2f2ef6cd7b2c44688da0b7f9d8ceed15": {
      "model_module": "@jupyter-widgets/controls",
      "model_module_version": "1.5.0",
      "model_name": "HTMLModel",
      "state": {
       "_dom_classes": [],
       "_model_module": "@jupyter-widgets/controls",
       "_model_module_version": "1.5.0",
       "_model_name": "HTMLModel",
       "_view_count": null,
       "_view_module": "@jupyter-widgets/controls",
       "_view_module_version": "1.5.0",
       "_view_name": "HTMLView",
       "description": "",
       "description_tooltip": null,
       "layout": "IPY_MODEL_56e098d3702f4cf59cfcdb7601df23a4",
       "placeholder": "​",
       "style": "IPY_MODEL_6ecc17b5e7754e42ad42fcb227369367",
       "value": "&lt;tqdm.notebook.tqdm_notebook object at 0x7f653cbd8710&gt;"
      }
     },
     "3c0a72f7b3b945ee8db7681eb6e5a604": {
      "model_module": "@jupyter-widgets/base",
      "model_module_version": "1.2.0",
      "model_name": "LayoutModel",
      "state": {
       "_model_module": "@jupyter-widgets/base",
       "_model_module_version": "1.2.0",
       "_model_name": "LayoutModel",
       "_view_count": null,
       "_view_module": "@jupyter-widgets/base",
       "_view_module_version": "1.2.0",
       "_view_name": "LayoutView",
       "align_content": null,
       "align_items": null,
       "align_self": null,
       "border": null,
       "bottom": null,
       "display": null,
       "flex": null,
       "flex_flow": null,
       "grid_area": null,
       "grid_auto_columns": null,
       "grid_auto_flow": null,
       "grid_auto_rows": null,
       "grid_column": null,
       "grid_gap": null,
       "grid_row": null,
       "grid_template_areas": null,
       "grid_template_columns": null,
       "grid_template_rows": null,
       "height": null,
       "justify_content": null,
       "justify_items": null,
       "left": null,
       "margin": null,
       "max_height": null,
       "max_width": null,
       "min_height": null,
       "min_width": null,
       "object_fit": null,
       "object_position": null,
       "order": null,
       "overflow": null,
       "overflow_x": null,
       "overflow_y": null,
       "padding": null,
       "right": null,
       "top": null,
       "visibility": null,
       "width": null
      }
     },
     "3d2818867059405bb82056ca3dfd2602": {
      "model_module": "@jupyter-widgets/base",
      "model_module_version": "1.2.0",
      "model_name": "LayoutModel",
      "state": {
       "_model_module": "@jupyter-widgets/base",
       "_model_module_version": "1.2.0",
       "_model_name": "LayoutModel",
       "_view_count": null,
       "_view_module": "@jupyter-widgets/base",
       "_view_module_version": "1.2.0",
       "_view_name": "LayoutView",
       "align_content": null,
       "align_items": null,
       "align_self": null,
       "border": null,
       "bottom": null,
       "display": null,
       "flex": null,
       "flex_flow": null,
       "grid_area": null,
       "grid_auto_columns": null,
       "grid_auto_flow": null,
       "grid_auto_rows": null,
       "grid_column": null,
       "grid_gap": null,
       "grid_row": null,
       "grid_template_areas": null,
       "grid_template_columns": null,
       "grid_template_rows": null,
       "height": null,
       "justify_content": null,
       "justify_items": null,
       "left": null,
       "margin": null,
       "max_height": null,
       "max_width": null,
       "min_height": null,
       "min_width": null,
       "object_fit": null,
       "object_position": null,
       "order": null,
       "overflow": null,
       "overflow_x": null,
       "overflow_y": null,
       "padding": null,
       "right": null,
       "top": null,
       "visibility": null,
       "width": null
      }
     },
     "3e53cc9ce59741c1a495c35883fc1b4d": {
      "model_module": "@jupyter-widgets/controls",
      "model_module_version": "1.5.0",
      "model_name": "ProgressStyleModel",
      "state": {
       "_model_module": "@jupyter-widgets/controls",
       "_model_module_version": "1.5.0",
       "_model_name": "ProgressStyleModel",
       "_view_count": null,
       "_view_module": "@jupyter-widgets/base",
       "_view_module_version": "1.2.0",
       "_view_name": "StyleView",
       "bar_color": null,
       "description_width": "initial"
      }
     },
     "3f38ebc5beb94d82a936a475b3ff8554": {
      "model_module": "@jupyter-widgets/controls",
      "model_module_version": "1.5.0",
      "model_name": "HBoxModel",
      "state": {
       "_dom_classes": [],
       "_model_module": "@jupyter-widgets/controls",
       "_model_module_version": "1.5.0",
       "_model_name": "HBoxModel",
       "_view_count": null,
       "_view_module": "@jupyter-widgets/controls",
       "_view_module_version": "1.5.0",
       "_view_name": "HBoxView",
       "box_style": "",
       "children": [
        "IPY_MODEL_cf1c2599c99f464abc5a1c1cb2b7c898",
        "IPY_MODEL_0d41ab0e5d14403c9a4c8db96bb94555"
       ],
       "layout": "IPY_MODEL_8f41c5173e5746cd9dd076e53c9d4135"
      }
     },
     "43e3bc3e59e441fd9fe33fd7996df246": {
      "model_module": "@jupyter-widgets/controls",
      "model_module_version": "1.5.0",
      "model_name": "FloatProgressModel",
      "state": {
       "_dom_classes": [],
       "_model_module": "@jupyter-widgets/controls",
       "_model_module_version": "1.5.0",
       "_model_name": "FloatProgressModel",
       "_view_count": null,
       "_view_module": "@jupyter-widgets/controls",
       "_view_module_version": "1.5.0",
       "_view_name": "ProgressView",
       "bar_style": "success",
       "description": "",
       "description_tooltip": null,
       "layout": "IPY_MODEL_2a40a5dfa5bc4356a1dacbe3c63a9599",
       "max": 4.0,
       "min": 0.0,
       "orientation": "horizontal",
       "style": "IPY_MODEL_3e53cc9ce59741c1a495c35883fc1b4d",
       "value": 4.0
      }
     },
     "457f6c49bc5d498fb1274ca1697778b2": {
      "model_module": "@jupyter-widgets/base",
      "model_module_version": "1.2.0",
      "model_name": "LayoutModel",
      "state": {
       "_model_module": "@jupyter-widgets/base",
       "_model_module_version": "1.2.0",
       "_model_name": "LayoutModel",
       "_view_count": null,
       "_view_module": "@jupyter-widgets/base",
       "_view_module_version": "1.2.0",
       "_view_name": "LayoutView",
       "align_content": null,
       "align_items": null,
       "align_self": null,
       "border": null,
       "bottom": null,
       "display": null,
       "flex": null,
       "flex_flow": null,
       "grid_area": null,
       "grid_auto_columns": null,
       "grid_auto_flow": null,
       "grid_auto_rows": null,
       "grid_column": null,
       "grid_gap": null,
       "grid_row": null,
       "grid_template_areas": null,
       "grid_template_columns": null,
       "grid_template_rows": null,
       "height": null,
       "justify_content": null,
       "justify_items": null,
       "left": null,
       "margin": null,
       "max_height": null,
       "max_width": null,
       "min_height": null,
       "min_width": null,
       "object_fit": null,
       "object_position": null,
       "order": null,
       "overflow": null,
       "overflow_x": null,
       "overflow_y": null,
       "padding": null,
       "right": null,
       "top": null,
       "visibility": null,
       "width": null
      }
     },
     "45cbbeee3e5b4d5f9cea0e7321ca2cdf": {
      "model_module": "@jupyter-widgets/base",
      "model_module_version": "1.2.0",
      "model_name": "LayoutModel",
      "state": {
       "_model_module": "@jupyter-widgets/base",
       "_model_module_version": "1.2.0",
       "_model_name": "LayoutModel",
       "_view_count": null,
       "_view_module": "@jupyter-widgets/base",
       "_view_module_version": "1.2.0",
       "_view_name": "LayoutView",
       "align_content": null,
       "align_items": null,
       "align_self": null,
       "border": null,
       "bottom": null,
       "display": null,
       "flex": null,
       "flex_flow": null,
       "grid_area": null,
       "grid_auto_columns": null,
       "grid_auto_flow": null,
       "grid_auto_rows": null,
       "grid_column": null,
       "grid_gap": null,
       "grid_row": null,
       "grid_template_areas": null,
       "grid_template_columns": null,
       "grid_template_rows": null,
       "height": null,
       "justify_content": null,
       "justify_items": null,
       "left": null,
       "margin": null,
       "max_height": null,
       "max_width": null,
       "min_height": null,
       "min_width": null,
       "object_fit": null,
       "object_position": null,
       "order": null,
       "overflow": null,
       "overflow_x": null,
       "overflow_y": null,
       "padding": null,
       "right": null,
       "top": null,
       "visibility": null,
       "width": null
      }
     },
     "4665f4391ae94c81a328ccf0e610c09c": {
      "model_module": "@jupyter-widgets/controls",
      "model_module_version": "1.5.0",
      "model_name": "HBoxModel",
      "state": {
       "_dom_classes": [],
       "_model_module": "@jupyter-widgets/controls",
       "_model_module_version": "1.5.0",
       "_model_name": "HBoxModel",
       "_view_count": null,
       "_view_module": "@jupyter-widgets/controls",
       "_view_module_version": "1.5.0",
       "_view_name": "HBoxView",
       "box_style": "",
       "children": [
        "IPY_MODEL_c296593ec1bd48c6be2987048b23f25e",
        "IPY_MODEL_d8f953e850694f0b8851f6f0be858410"
       ],
       "layout": "IPY_MODEL_91ef5d73bf454138a7be61eab4c476c6"
      }
     },
     "5387c32255f74d029426203bfcfab4d1": {
      "model_module": "@jupyter-widgets/controls",
      "model_module_version": "1.5.0",
      "model_name": "DescriptionStyleModel",
      "state": {
       "_model_module": "@jupyter-widgets/controls",
       "_model_module_version": "1.5.0",
       "_model_name": "DescriptionStyleModel",
       "_view_count": null,
       "_view_module": "@jupyter-widgets/base",
       "_view_module_version": "1.2.0",
       "_view_name": "StyleView",
       "description_width": ""
      }
     },
     "5415933d78c54828a8a8896bd1139821": {
      "model_module": "@jupyter-widgets/base",
      "model_module_version": "1.2.0",
      "model_name": "LayoutModel",
      "state": {
       "_model_module": "@jupyter-widgets/base",
       "_model_module_version": "1.2.0",
       "_model_name": "LayoutModel",
       "_view_count": null,
       "_view_module": "@jupyter-widgets/base",
       "_view_module_version": "1.2.0",
       "_view_name": "LayoutView",
       "align_content": null,
       "align_items": null,
       "align_self": null,
       "border": null,
       "bottom": null,
       "display": null,
       "flex": null,
       "flex_flow": null,
       "grid_area": null,
       "grid_auto_columns": null,
       "grid_auto_flow": null,
       "grid_auto_rows": null,
       "grid_column": null,
       "grid_gap": null,
       "grid_row": null,
       "grid_template_areas": null,
       "grid_template_columns": null,
       "grid_template_rows": null,
       "height": null,
       "justify_content": null,
       "justify_items": null,
       "left": null,
       "margin": null,
       "max_height": null,
       "max_width": null,
       "min_height": null,
       "min_width": null,
       "object_fit": null,
       "object_position": null,
       "order": null,
       "overflow": null,
       "overflow_x": null,
       "overflow_y": null,
       "padding": null,
       "right": null,
       "top": null,
       "visibility": null,
       "width": null
      }
     },
     "56e098d3702f4cf59cfcdb7601df23a4": {
      "model_module": "@jupyter-widgets/base",
      "model_module_version": "1.2.0",
      "model_name": "LayoutModel",
      "state": {
       "_model_module": "@jupyter-widgets/base",
       "_model_module_version": "1.2.0",
       "_model_name": "LayoutModel",
       "_view_count": null,
       "_view_module": "@jupyter-widgets/base",
       "_view_module_version": "1.2.0",
       "_view_name": "LayoutView",
       "align_content": null,
       "align_items": null,
       "align_self": null,
       "border": null,
       "bottom": null,
       "display": null,
       "flex": null,
       "flex_flow": null,
       "grid_area": null,
       "grid_auto_columns": null,
       "grid_auto_flow": null,
       "grid_auto_rows": null,
       "grid_column": null,
       "grid_gap": null,
       "grid_row": null,
       "grid_template_areas": null,
       "grid_template_columns": null,
       "grid_template_rows": null,
       "height": null,
       "justify_content": null,
       "justify_items": null,
       "left": null,
       "margin": null,
       "max_height": null,
       "max_width": null,
       "min_height": null,
       "min_width": null,
       "object_fit": null,
       "object_position": null,
       "order": null,
       "overflow": null,
       "overflow_x": null,
       "overflow_y": null,
       "padding": null,
       "right": null,
       "top": null,
       "visibility": null,
       "width": null
      }
     },
     "58358b0c9970447abbb01c94bd8348ca": {
      "model_module": "@jupyter-widgets/base",
      "model_module_version": "1.2.0",
      "model_name": "LayoutModel",
      "state": {
       "_model_module": "@jupyter-widgets/base",
       "_model_module_version": "1.2.0",
       "_model_name": "LayoutModel",
       "_view_count": null,
       "_view_module": "@jupyter-widgets/base",
       "_view_module_version": "1.2.0",
       "_view_name": "LayoutView",
       "align_content": null,
       "align_items": null,
       "align_self": null,
       "border": null,
       "bottom": null,
       "display": null,
       "flex": null,
       "flex_flow": null,
       "grid_area": null,
       "grid_auto_columns": null,
       "grid_auto_flow": null,
       "grid_auto_rows": null,
       "grid_column": null,
       "grid_gap": null,
       "grid_row": null,
       "grid_template_areas": null,
       "grid_template_columns": null,
       "grid_template_rows": null,
       "height": null,
       "justify_content": null,
       "justify_items": null,
       "left": null,
       "margin": null,
       "max_height": null,
       "max_width": null,
       "min_height": null,
       "min_width": null,
       "object_fit": null,
       "object_position": null,
       "order": null,
       "overflow": null,
       "overflow_x": null,
       "overflow_y": null,
       "padding": null,
       "right": null,
       "top": null,
       "visibility": null,
       "width": null
      }
     },
     "5a2d470e12d84361ab5e3b728bc8e5ef": {
      "model_module": "@jupyter-widgets/controls",
      "model_module_version": "1.5.0",
      "model_name": "ProgressStyleModel",
      "state": {
       "_model_module": "@jupyter-widgets/controls",
       "_model_module_version": "1.5.0",
       "_model_name": "ProgressStyleModel",
       "_view_count": null,
       "_view_module": "@jupyter-widgets/base",
       "_view_module_version": "1.2.0",
       "_view_name": "StyleView",
       "bar_color": null,
       "description_width": "initial"
      }
     },
     "5d58366f113441fda2d8d2f8c1d8cb13": {
      "model_module": "@jupyter-widgets/controls",
      "model_module_version": "1.5.0",
      "model_name": "DescriptionStyleModel",
      "state": {
       "_model_module": "@jupyter-widgets/controls",
       "_model_module_version": "1.5.0",
       "_model_name": "DescriptionStyleModel",
       "_view_count": null,
       "_view_module": "@jupyter-widgets/base",
       "_view_module_version": "1.2.0",
       "_view_name": "StyleView",
       "description_width": ""
      }
     },
     "664ff2feb3c6417caaad875091452420": {
      "model_module": "@jupyter-widgets/controls",
      "model_module_version": "1.5.0",
      "model_name": "HTMLModel",
      "state": {
       "_dom_classes": [],
       "_model_module": "@jupyter-widgets/controls",
       "_model_module_version": "1.5.0",
       "_model_name": "HTMLModel",
       "_view_count": null,
       "_view_module": "@jupyter-widgets/controls",
       "_view_module_version": "1.5.0",
       "_view_name": "HTMLView",
       "description": "",
       "description_tooltip": null,
       "layout": "IPY_MODEL_17f677bdffda4317afddb0bacc684430",
       "placeholder": "​",
       "style": "IPY_MODEL_f4def74633ab49169c13008033941e74",
       "value": "&lt;tqdm.notebook.tqdm_notebook object at 0x7f653c261f90&gt;"
      }
     },
     "6ecc17b5e7754e42ad42fcb227369367": {
      "model_module": "@jupyter-widgets/controls",
      "model_module_version": "1.5.0",
      "model_name": "DescriptionStyleModel",
      "state": {
       "_model_module": "@jupyter-widgets/controls",
       "_model_module_version": "1.5.0",
       "_model_name": "DescriptionStyleModel",
       "_view_count": null,
       "_view_module": "@jupyter-widgets/base",
       "_view_module_version": "1.2.0",
       "_view_name": "StyleView",
       "description_width": ""
      }
     },
     "78816c8a27ec4c1aaa0570a89ef839aa": {
      "model_module": "@jupyter-widgets/base",
      "model_module_version": "1.2.0",
      "model_name": "LayoutModel",
      "state": {
       "_model_module": "@jupyter-widgets/base",
       "_model_module_version": "1.2.0",
       "_model_name": "LayoutModel",
       "_view_count": null,
       "_view_module": "@jupyter-widgets/base",
       "_view_module_version": "1.2.0",
       "_view_name": "LayoutView",
       "align_content": null,
       "align_items": null,
       "align_self": null,
       "border": null,
       "bottom": null,
       "display": null,
       "flex": null,
       "flex_flow": null,
       "grid_area": null,
       "grid_auto_columns": null,
       "grid_auto_flow": null,
       "grid_auto_rows": null,
       "grid_column": null,
       "grid_gap": null,
       "grid_row": null,
       "grid_template_areas": null,
       "grid_template_columns": null,
       "grid_template_rows": null,
       "height": null,
       "justify_content": null,
       "justify_items": null,
       "left": null,
       "margin": null,
       "max_height": null,
       "max_width": null,
       "min_height": null,
       "min_width": null,
       "object_fit": null,
       "object_position": null,
       "order": null,
       "overflow": null,
       "overflow_x": null,
       "overflow_y": null,
       "padding": null,
       "right": null,
       "top": null,
       "visibility": null,
       "width": null
      }
     },
     "7ef14bd105134d7cae2ee6db390c6aa8": {
      "model_module": "@jupyter-widgets/controls",
      "model_module_version": "1.5.0",
      "model_name": "HTMLModel",
      "state": {
       "_dom_classes": [],
       "_model_module": "@jupyter-widgets/controls",
       "_model_module_version": "1.5.0",
       "_model_name": "HTMLModel",
       "_view_count": null,
       "_view_module": "@jupyter-widgets/controls",
       "_view_module_version": "1.5.0",
       "_view_name": "HTMLView",
       "description": "",
       "description_tooltip": null,
       "layout": "IPY_MODEL_3c0a72f7b3b945ee8db7681eb6e5a604",
       "placeholder": "​",
       "style": "IPY_MODEL_5387c32255f74d029426203bfcfab4d1",
       "value": "&lt;tqdm.notebook.tqdm_notebook object at 0x7f653c1e6a10&gt;"
      }
     },
     "817df282da1a408196f40bcc1c47eb9d": {
      "model_module": "@jupyter-widgets/controls",
      "model_module_version": "1.5.0",
      "model_name": "HBoxModel",
      "state": {
       "_dom_classes": [],
       "_model_module": "@jupyter-widgets/controls",
       "_model_module_version": "1.5.0",
       "_model_name": "HBoxModel",
       "_view_count": null,
       "_view_module": "@jupyter-widgets/controls",
       "_view_module_version": "1.5.0",
       "_view_name": "HBoxView",
       "box_style": "",
       "children": [
        "IPY_MODEL_13999b5866b44142afcbab11e83e134d",
        "IPY_MODEL_664ff2feb3c6417caaad875091452420"
       ],
       "layout": "IPY_MODEL_5415933d78c54828a8a8896bd1139821"
      }
     },
     "8231061ffd074bd3b7aa2620f00460df": {
      "model_module": "@jupyter-widgets/base",
      "model_module_version": "1.2.0",
      "model_name": "LayoutModel",
      "state": {
       "_model_module": "@jupyter-widgets/base",
       "_model_module_version": "1.2.0",
       "_model_name": "LayoutModel",
       "_view_count": null,
       "_view_module": "@jupyter-widgets/base",
       "_view_module_version": "1.2.0",
       "_view_name": "LayoutView",
       "align_content": null,
       "align_items": null,
       "align_self": null,
       "border": null,
       "bottom": null,
       "display": null,
       "flex": null,
       "flex_flow": null,
       "grid_area": null,
       "grid_auto_columns": null,
       "grid_auto_flow": null,
       "grid_auto_rows": null,
       "grid_column": null,
       "grid_gap": null,
       "grid_row": null,
       "grid_template_areas": null,
       "grid_template_columns": null,
       "grid_template_rows": null,
       "height": null,
       "justify_content": null,
       "justify_items": null,
       "left": null,
       "margin": null,
       "max_height": null,
       "max_width": null,
       "min_height": null,
       "min_width": null,
       "object_fit": null,
       "object_position": null,
       "order": null,
       "overflow": null,
       "overflow_x": null,
       "overflow_y": null,
       "padding": null,
       "right": null,
       "top": null,
       "visibility": null,
       "width": null
      }
     },
     "8f41c5173e5746cd9dd076e53c9d4135": {
      "model_module": "@jupyter-widgets/base",
      "model_module_version": "1.2.0",
      "model_name": "LayoutModel",
      "state": {
       "_model_module": "@jupyter-widgets/base",
       "_model_module_version": "1.2.0",
       "_model_name": "LayoutModel",
       "_view_count": null,
       "_view_module": "@jupyter-widgets/base",
       "_view_module_version": "1.2.0",
       "_view_name": "LayoutView",
       "align_content": null,
       "align_items": null,
       "align_self": null,
       "border": null,
       "bottom": null,
       "display": null,
       "flex": null,
       "flex_flow": null,
       "grid_area": null,
       "grid_auto_columns": null,
       "grid_auto_flow": null,
       "grid_auto_rows": null,
       "grid_column": null,
       "grid_gap": null,
       "grid_row": null,
       "grid_template_areas": null,
       "grid_template_columns": null,
       "grid_template_rows": null,
       "height": null,
       "justify_content": null,
       "justify_items": null,
       "left": null,
       "margin": null,
       "max_height": null,
       "max_width": null,
       "min_height": null,
       "min_width": null,
       "object_fit": null,
       "object_position": null,
       "order": null,
       "overflow": null,
       "overflow_x": null,
       "overflow_y": null,
       "padding": null,
       "right": null,
       "top": null,
       "visibility": null,
       "width": null
      }
     },
     "9066269db6a74561b607f8673c8c4b1c": {
      "model_module": "@jupyter-widgets/base",
      "model_module_version": "1.2.0",
      "model_name": "LayoutModel",
      "state": {
       "_model_module": "@jupyter-widgets/base",
       "_model_module_version": "1.2.0",
       "_model_name": "LayoutModel",
       "_view_count": null,
       "_view_module": "@jupyter-widgets/base",
       "_view_module_version": "1.2.0",
       "_view_name": "LayoutView",
       "align_content": null,
       "align_items": null,
       "align_self": null,
       "border": null,
       "bottom": null,
       "display": null,
       "flex": null,
       "flex_flow": null,
       "grid_area": null,
       "grid_auto_columns": null,
       "grid_auto_flow": null,
       "grid_auto_rows": null,
       "grid_column": null,
       "grid_gap": null,
       "grid_row": null,
       "grid_template_areas": null,
       "grid_template_columns": null,
       "grid_template_rows": null,
       "height": null,
       "justify_content": null,
       "justify_items": null,
       "left": null,
       "margin": null,
       "max_height": null,
       "max_width": null,
       "min_height": null,
       "min_width": null,
       "object_fit": null,
       "object_position": null,
       "order": null,
       "overflow": null,
       "overflow_x": null,
       "overflow_y": null,
       "padding": null,
       "right": null,
       "top": null,
       "visibility": null,
       "width": null
      }
     },
     "91ef5d73bf454138a7be61eab4c476c6": {
      "model_module": "@jupyter-widgets/base",
      "model_module_version": "1.2.0",
      "model_name": "LayoutModel",
      "state": {
       "_model_module": "@jupyter-widgets/base",
       "_model_module_version": "1.2.0",
       "_model_name": "LayoutModel",
       "_view_count": null,
       "_view_module": "@jupyter-widgets/base",
       "_view_module_version": "1.2.0",
       "_view_name": "LayoutView",
       "align_content": null,
       "align_items": null,
       "align_self": null,
       "border": null,
       "bottom": null,
       "display": null,
       "flex": null,
       "flex_flow": null,
       "grid_area": null,
       "grid_auto_columns": null,
       "grid_auto_flow": null,
       "grid_auto_rows": null,
       "grid_column": null,
       "grid_gap": null,
       "grid_row": null,
       "grid_template_areas": null,
       "grid_template_columns": null,
       "grid_template_rows": null,
       "height": null,
       "justify_content": null,
       "justify_items": null,
       "left": null,
       "margin": null,
       "max_height": null,
       "max_width": null,
       "min_height": null,
       "min_width": null,
       "object_fit": null,
       "object_position": null,
       "order": null,
       "overflow": null,
       "overflow_x": null,
       "overflow_y": null,
       "padding": null,
       "right": null,
       "top": null,
       "visibility": null,
       "width": null
      }
     },
     "993d3d5f3351443b888941f232b27b80": {
      "model_module": "@jupyter-widgets/controls",
      "model_module_version": "1.5.0",
      "model_name": "ProgressStyleModel",
      "state": {
       "_model_module": "@jupyter-widgets/controls",
       "_model_module_version": "1.5.0",
       "_model_name": "ProgressStyleModel",
       "_view_count": null,
       "_view_module": "@jupyter-widgets/base",
       "_view_module_version": "1.2.0",
       "_view_name": "StyleView",
       "bar_color": null,
       "description_width": "initial"
      }
     },
     "9aa53447937a402fbb35a6b105377368": {
      "model_module": "@jupyter-widgets/controls",
      "model_module_version": "1.5.0",
      "model_name": "ProgressStyleModel",
      "state": {
       "_model_module": "@jupyter-widgets/controls",
       "_model_module_version": "1.5.0",
       "_model_name": "ProgressStyleModel",
       "_view_count": null,
       "_view_module": "@jupyter-widgets/base",
       "_view_module_version": "1.2.0",
       "_view_name": "StyleView",
       "bar_color": null,
       "description_width": "initial"
      }
     },
     "9efbf905f43a4a41be4f2f9b9389e166": {
      "model_module": "@jupyter-widgets/base",
      "model_module_version": "1.2.0",
      "model_name": "LayoutModel",
      "state": {
       "_model_module": "@jupyter-widgets/base",
       "_model_module_version": "1.2.0",
       "_model_name": "LayoutModel",
       "_view_count": null,
       "_view_module": "@jupyter-widgets/base",
       "_view_module_version": "1.2.0",
       "_view_name": "LayoutView",
       "align_content": null,
       "align_items": null,
       "align_self": null,
       "border": null,
       "bottom": null,
       "display": null,
       "flex": null,
       "flex_flow": null,
       "grid_area": null,
       "grid_auto_columns": null,
       "grid_auto_flow": null,
       "grid_auto_rows": null,
       "grid_column": null,
       "grid_gap": null,
       "grid_row": null,
       "grid_template_areas": null,
       "grid_template_columns": null,
       "grid_template_rows": null,
       "height": null,
       "justify_content": null,
       "justify_items": null,
       "left": null,
       "margin": null,
       "max_height": null,
       "max_width": null,
       "min_height": null,
       "min_width": null,
       "object_fit": null,
       "object_position": null,
       "order": null,
       "overflow": null,
       "overflow_x": null,
       "overflow_y": null,
       "padding": null,
       "right": null,
       "top": null,
       "visibility": null,
       "width": null
      }
     },
     "9f7f7ad2e8d8436686d8f4920ef35e28": {
      "model_module": "@jupyter-widgets/base",
      "model_module_version": "1.2.0",
      "model_name": "LayoutModel",
      "state": {
       "_model_module": "@jupyter-widgets/base",
       "_model_module_version": "1.2.0",
       "_model_name": "LayoutModel",
       "_view_count": null,
       "_view_module": "@jupyter-widgets/base",
       "_view_module_version": "1.2.0",
       "_view_name": "LayoutView",
       "align_content": null,
       "align_items": null,
       "align_self": null,
       "border": null,
       "bottom": null,
       "display": null,
       "flex": null,
       "flex_flow": null,
       "grid_area": null,
       "grid_auto_columns": null,
       "grid_auto_flow": null,
       "grid_auto_rows": null,
       "grid_column": null,
       "grid_gap": null,
       "grid_row": null,
       "grid_template_areas": null,
       "grid_template_columns": null,
       "grid_template_rows": null,
       "height": null,
       "justify_content": null,
       "justify_items": null,
       "left": null,
       "margin": null,
       "max_height": null,
       "max_width": null,
       "min_height": null,
       "min_width": null,
       "object_fit": null,
       "object_position": null,
       "order": null,
       "overflow": null,
       "overflow_x": null,
       "overflow_y": null,
       "padding": null,
       "right": null,
       "top": null,
       "visibility": null,
       "width": null
      }
     },
     "a07786d07cd14ffba6be73cbf78005ca": {
      "model_module": "@jupyter-widgets/controls",
      "model_module_version": "1.5.0",
      "model_name": "ProgressStyleModel",
      "state": {
       "_model_module": "@jupyter-widgets/controls",
       "_model_module_version": "1.5.0",
       "_model_name": "ProgressStyleModel",
       "_view_count": null,
       "_view_module": "@jupyter-widgets/base",
       "_view_module_version": "1.2.0",
       "_view_name": "StyleView",
       "bar_color": null,
       "description_width": "initial"
      }
     },
     "a75f327207824b16a6e1cf885ee9454c": {
      "model_module": "@jupyter-widgets/base",
      "model_module_version": "1.2.0",
      "model_name": "LayoutModel",
      "state": {
       "_model_module": "@jupyter-widgets/base",
       "_model_module_version": "1.2.0",
       "_model_name": "LayoutModel",
       "_view_count": null,
       "_view_module": "@jupyter-widgets/base",
       "_view_module_version": "1.2.0",
       "_view_name": "LayoutView",
       "align_content": null,
       "align_items": null,
       "align_self": null,
       "border": null,
       "bottom": null,
       "display": null,
       "flex": null,
       "flex_flow": null,
       "grid_area": null,
       "grid_auto_columns": null,
       "grid_auto_flow": null,
       "grid_auto_rows": null,
       "grid_column": null,
       "grid_gap": null,
       "grid_row": null,
       "grid_template_areas": null,
       "grid_template_columns": null,
       "grid_template_rows": null,
       "height": null,
       "justify_content": null,
       "justify_items": null,
       "left": null,
       "margin": null,
       "max_height": null,
       "max_width": null,
       "min_height": null,
       "min_width": null,
       "object_fit": null,
       "object_position": null,
       "order": null,
       "overflow": null,
       "overflow_x": null,
       "overflow_y": null,
       "padding": null,
       "right": null,
       "top": null,
       "visibility": null,
       "width": null
      }
     },
     "a8411b07eb854d36b0aa4d23f28d4ca4": {
      "model_module": "@jupyter-widgets/controls",
      "model_module_version": "1.5.0",
      "model_name": "FloatProgressModel",
      "state": {
       "_dom_classes": [],
       "_model_module": "@jupyter-widgets/controls",
       "_model_module_version": "1.5.0",
       "_model_name": "FloatProgressModel",
       "_view_count": null,
       "_view_module": "@jupyter-widgets/controls",
       "_view_module_version": "1.5.0",
       "_view_name": "ProgressView",
       "bar_style": "success",
       "description": "",
       "description_tooltip": null,
       "layout": "IPY_MODEL_c1db6ab9e82d42e88410c8f2d05be0c4",
       "max": 1.0,
       "min": 0.0,
       "orientation": "horizontal",
       "style": "IPY_MODEL_993d3d5f3351443b888941f232b27b80",
       "value": 1.0
      }
     },
     "b10309751ddb49cfa164a69772795297": {
      "model_module": "@jupyter-widgets/controls",
      "model_module_version": "1.5.0",
      "model_name": "ProgressStyleModel",
      "state": {
       "_model_module": "@jupyter-widgets/controls",
       "_model_module_version": "1.5.0",
       "_model_name": "ProgressStyleModel",
       "_view_count": null,
       "_view_module": "@jupyter-widgets/base",
       "_view_module_version": "1.2.0",
       "_view_name": "StyleView",
       "bar_color": null,
       "description_width": "initial"
      }
     },
     "b661da8cd79b4fdbbda2ec496e54d10d": {
      "model_module": "@jupyter-widgets/controls",
      "model_module_version": "1.5.0",
      "model_name": "FloatProgressModel",
      "state": {
       "_dom_classes": [],
       "_model_module": "@jupyter-widgets/controls",
       "_model_module_version": "1.5.0",
       "_model_name": "FloatProgressModel",
       "_view_count": null,
       "_view_module": "@jupyter-widgets/controls",
       "_view_module_version": "1.5.0",
       "_view_name": "ProgressView",
       "bar_style": "success",
       "description": "",
       "description_tooltip": null,
       "layout": "IPY_MODEL_457f6c49bc5d498fb1274ca1697778b2",
       "max": 4.0,
       "min": 0.0,
       "orientation": "horizontal",
       "style": "IPY_MODEL_1c68a718b4af431abd7f22c35687f64f",
       "value": 4.0
      }
     },
     "b6c7bb886df54e4f96e20df6f7238457": {
      "model_module": "@jupyter-widgets/controls",
      "model_module_version": "1.5.0",
      "model_name": "HBoxModel",
      "state": {
       "_dom_classes": [],
       "_model_module": "@jupyter-widgets/controls",
       "_model_module_version": "1.5.0",
       "_model_name": "HBoxModel",
       "_view_count": null,
       "_view_module": "@jupyter-widgets/controls",
       "_view_module_version": "1.5.0",
       "_view_name": "HBoxView",
       "box_style": "",
       "children": [
        "IPY_MODEL_43e3bc3e59e441fd9fe33fd7996df246",
        "IPY_MODEL_7ef14bd105134d7cae2ee6db390c6aa8"
       ],
       "layout": "IPY_MODEL_58358b0c9970447abbb01c94bd8348ca"
      }
     },
     "c1db6ab9e82d42e88410c8f2d05be0c4": {
      "model_module": "@jupyter-widgets/base",
      "model_module_version": "1.2.0",
      "model_name": "LayoutModel",
      "state": {
       "_model_module": "@jupyter-widgets/base",
       "_model_module_version": "1.2.0",
       "_model_name": "LayoutModel",
       "_view_count": null,
       "_view_module": "@jupyter-widgets/base",
       "_view_module_version": "1.2.0",
       "_view_name": "LayoutView",
       "align_content": null,
       "align_items": null,
       "align_self": null,
       "border": null,
       "bottom": null,
       "display": null,
       "flex": null,
       "flex_flow": null,
       "grid_area": null,
       "grid_auto_columns": null,
       "grid_auto_flow": null,
       "grid_auto_rows": null,
       "grid_column": null,
       "grid_gap": null,
       "grid_row": null,
       "grid_template_areas": null,
       "grid_template_columns": null,
       "grid_template_rows": null,
       "height": null,
       "justify_content": null,
       "justify_items": null,
       "left": null,
       "margin": null,
       "max_height": null,
       "max_width": null,
       "min_height": null,
       "min_width": null,
       "object_fit": null,
       "object_position": null,
       "order": null,
       "overflow": null,
       "overflow_x": null,
       "overflow_y": null,
       "padding": null,
       "right": null,
       "top": null,
       "visibility": null,
       "width": "20px"
      }
     },
     "c296593ec1bd48c6be2987048b23f25e": {
      "model_module": "@jupyter-widgets/controls",
      "model_module_version": "1.5.0",
      "model_name": "FloatProgressModel",
      "state": {
       "_dom_classes": [],
       "_model_module": "@jupyter-widgets/controls",
       "_model_module_version": "1.5.0",
       "_model_name": "FloatProgressModel",
       "_view_count": null,
       "_view_module": "@jupyter-widgets/controls",
       "_view_module_version": "1.5.0",
       "_view_name": "ProgressView",
       "bar_style": "success",
       "description": "",
       "description_tooltip": null,
       "layout": "IPY_MODEL_0e6dcfc01e684578b9de696d69a49ec7",
       "max": 4.0,
       "min": 0.0,
       "orientation": "horizontal",
       "style": "IPY_MODEL_a07786d07cd14ffba6be73cbf78005ca",
       "value": 4.0
      }
     },
     "c2d121199a2247d7aac1e27d75d105a9": {
      "model_module": "@jupyter-widgets/base",
      "model_module_version": "1.2.0",
      "model_name": "LayoutModel",
      "state": {
       "_model_module": "@jupyter-widgets/base",
       "_model_module_version": "1.2.0",
       "_model_name": "LayoutModel",
       "_view_count": null,
       "_view_module": "@jupyter-widgets/base",
       "_view_module_version": "1.2.0",
       "_view_name": "LayoutView",
       "align_content": null,
       "align_items": null,
       "align_self": null,
       "border": null,
       "bottom": null,
       "display": null,
       "flex": null,
       "flex_flow": null,
       "grid_area": null,
       "grid_auto_columns": null,
       "grid_auto_flow": null,
       "grid_auto_rows": null,
       "grid_column": null,
       "grid_gap": null,
       "grid_row": null,
       "grid_template_areas": null,
       "grid_template_columns": null,
       "grid_template_rows": null,
       "height": null,
       "justify_content": null,
       "justify_items": null,
       "left": null,
       "margin": null,
       "max_height": null,
       "max_width": null,
       "min_height": null,
       "min_width": null,
       "object_fit": null,
       "object_position": null,
       "order": null,
       "overflow": null,
       "overflow_x": null,
       "overflow_y": null,
       "padding": null,
       "right": null,
       "top": null,
       "visibility": null,
       "width": null
      }
     },
     "c39c7572b695492198ba73f0fb457491": {
      "model_module": "@jupyter-widgets/controls",
      "model_module_version": "1.5.0",
      "model_name": "HTMLModel",
      "state": {
       "_dom_classes": [],
       "_model_module": "@jupyter-widgets/controls",
       "_model_module_version": "1.5.0",
       "_model_name": "HTMLModel",
       "_view_count": null,
       "_view_module": "@jupyter-widgets/controls",
       "_view_module_version": "1.5.0",
       "_view_name": "HTMLView",
       "description": "",
       "description_tooltip": null,
       "layout": "IPY_MODEL_f063d1944b46487381f26d4b40a56dd0",
       "placeholder": "​",
       "style": "IPY_MODEL_ff1bdd1523a7437ba2f9a98ded10fd8f",
       "value": "&lt;tqdm.notebook.tqdm_notebook object at 0x7f65f8ac0f50&gt;"
      }
     },
     "c50e48d3fdc54b76a0c29ba1f63e4901": {
      "model_module": "@jupyter-widgets/base",
      "model_module_version": "1.2.0",
      "model_name": "LayoutModel",
      "state": {
       "_model_module": "@jupyter-widgets/base",
       "_model_module_version": "1.2.0",
       "_model_name": "LayoutModel",
       "_view_count": null,
       "_view_module": "@jupyter-widgets/base",
       "_view_module_version": "1.2.0",
       "_view_name": "LayoutView",
       "align_content": null,
       "align_items": null,
       "align_self": null,
       "border": null,
       "bottom": null,
       "display": null,
       "flex": null,
       "flex_flow": null,
       "grid_area": null,
       "grid_auto_columns": null,
       "grid_auto_flow": null,
       "grid_auto_rows": null,
       "grid_column": null,
       "grid_gap": null,
       "grid_row": null,
       "grid_template_areas": null,
       "grid_template_columns": null,
       "grid_template_rows": null,
       "height": null,
       "justify_content": null,
       "justify_items": null,
       "left": null,
       "margin": null,
       "max_height": null,
       "max_width": null,
       "min_height": null,
       "min_width": null,
       "object_fit": null,
       "object_position": null,
       "order": null,
       "overflow": null,
       "overflow_x": null,
       "overflow_y": null,
       "padding": null,
       "right": null,
       "top": null,
       "visibility": null,
       "width": "20px"
      }
     },
     "cbfb902f533c41a896c0c71958155c39": {
      "model_module": "@jupyter-widgets/controls",
      "model_module_version": "1.5.0",
      "model_name": "ProgressStyleModel",
      "state": {
       "_model_module": "@jupyter-widgets/controls",
       "_model_module_version": "1.5.0",
       "_model_name": "ProgressStyleModel",
       "_view_count": null,
       "_view_module": "@jupyter-widgets/base",
       "_view_module_version": "1.2.0",
       "_view_name": "StyleView",
       "bar_color": null,
       "description_width": "initial"
      }
     },
     "cf1c2599c99f464abc5a1c1cb2b7c898": {
      "model_module": "@jupyter-widgets/controls",
      "model_module_version": "1.5.0",
      "model_name": "FloatProgressModel",
      "state": {
       "_dom_classes": [],
       "_model_module": "@jupyter-widgets/controls",
       "_model_module_version": "1.5.0",
       "_model_name": "FloatProgressModel",
       "_view_count": null,
       "_view_module": "@jupyter-widgets/controls",
       "_view_module_version": "1.5.0",
       "_view_name": "ProgressView",
       "bar_style": "success",
       "description": "",
       "description_tooltip": null,
       "layout": "IPY_MODEL_9066269db6a74561b607f8673c8c4b1c",
       "max": 19661.0,
       "min": 0.0,
       "orientation": "horizontal",
       "style": "IPY_MODEL_cbfb902f533c41a896c0c71958155c39",
       "value": 19661.0
      }
     },
     "cf834411e9654f938b444bdfb7382f6a": {
      "model_module": "@jupyter-widgets/base",
      "model_module_version": "1.2.0",
      "model_name": "LayoutModel",
      "state": {
       "_model_module": "@jupyter-widgets/base",
       "_model_module_version": "1.2.0",
       "_model_name": "LayoutModel",
       "_view_count": null,
       "_view_module": "@jupyter-widgets/base",
       "_view_module_version": "1.2.0",
       "_view_name": "LayoutView",
       "align_content": null,
       "align_items": null,
       "align_self": null,
       "border": null,
       "bottom": null,
       "display": null,
       "flex": null,
       "flex_flow": null,
       "grid_area": null,
       "grid_auto_columns": null,
       "grid_auto_flow": null,
       "grid_auto_rows": null,
       "grid_column": null,
       "grid_gap": null,
       "grid_row": null,
       "grid_template_areas": null,
       "grid_template_columns": null,
       "grid_template_rows": null,
       "height": null,
       "justify_content": null,
       "justify_items": null,
       "left": null,
       "margin": null,
       "max_height": null,
       "max_width": null,
       "min_height": null,
       "min_width": null,
       "object_fit": null,
       "object_position": null,
       "order": null,
       "overflow": null,
       "overflow_x": null,
       "overflow_y": null,
       "padding": null,
       "right": null,
       "top": null,
       "visibility": null,
       "width": null
      }
     },
     "d7f0d91e5cf9460d8eb91967e3c7bf62": {
      "model_module": "@jupyter-widgets/controls",
      "model_module_version": "1.5.0",
      "model_name": "HBoxModel",
      "state": {
       "_dom_classes": [],
       "_model_module": "@jupyter-widgets/controls",
       "_model_module_version": "1.5.0",
       "_model_name": "HBoxModel",
       "_view_count": null,
       "_view_module": "@jupyter-widgets/controls",
       "_view_module_version": "1.5.0",
       "_view_name": "HBoxView",
       "box_style": "",
       "children": [
        "IPY_MODEL_b661da8cd79b4fdbbda2ec496e54d10d",
        "IPY_MODEL_c39c7572b695492198ba73f0fb457491"
       ],
       "layout": "IPY_MODEL_3d2818867059405bb82056ca3dfd2602"
      }
     },
     "d8e8cb01d41c493183f86531f9357fb0": {
      "model_module": "@jupyter-widgets/base",
      "model_module_version": "1.2.0",
      "model_name": "LayoutModel",
      "state": {
       "_model_module": "@jupyter-widgets/base",
       "_model_module_version": "1.2.0",
       "_model_name": "LayoutModel",
       "_view_count": null,
       "_view_module": "@jupyter-widgets/base",
       "_view_module_version": "1.2.0",
       "_view_name": "LayoutView",
       "align_content": null,
       "align_items": null,
       "align_self": null,
       "border": null,
       "bottom": null,
       "display": null,
       "flex": null,
       "flex_flow": null,
       "grid_area": null,
       "grid_auto_columns": null,
       "grid_auto_flow": null,
       "grid_auto_rows": null,
       "grid_column": null,
       "grid_gap": null,
       "grid_row": null,
       "grid_template_areas": null,
       "grid_template_columns": null,
       "grid_template_rows": null,
       "height": null,
       "justify_content": null,
       "justify_items": null,
       "left": null,
       "margin": null,
       "max_height": null,
       "max_width": null,
       "min_height": null,
       "min_width": null,
       "object_fit": null,
       "object_position": null,
       "order": null,
       "overflow": null,
       "overflow_x": null,
       "overflow_y": null,
       "padding": null,
       "right": null,
       "top": null,
       "visibility": null,
       "width": null
      }
     },
     "d8f953e850694f0b8851f6f0be858410": {
      "model_module": "@jupyter-widgets/controls",
      "model_module_version": "1.5.0",
      "model_name": "HTMLModel",
      "state": {
       "_dom_classes": [],
       "_model_module": "@jupyter-widgets/controls",
       "_model_module_version": "1.5.0",
       "_model_name": "HTMLModel",
       "_view_count": null,
       "_view_module": "@jupyter-widgets/controls",
       "_view_module_version": "1.5.0",
       "_view_name": "HTMLView",
       "description": "",
       "description_tooltip": null,
       "layout": "IPY_MODEL_d8e8cb01d41c493183f86531f9357fb0",
       "placeholder": "​",
       "style": "IPY_MODEL_f39e538efe6d418dbc22265b640fe9d6",
       "value": "&lt;tqdm.notebook.tqdm_notebook object at 0x7f653c33ce10&gt;"
      }
     },
     "de13637f43804e6693a4a4e9c4d20304": {
      "model_module": "@jupyter-widgets/controls",
      "model_module_version": "1.5.0",
      "model_name": "FloatProgressModel",
      "state": {
       "_dom_classes": [],
       "_model_module": "@jupyter-widgets/controls",
       "_model_module_version": "1.5.0",
       "_model_name": "FloatProgressModel",
       "_view_count": null,
       "_view_module": "@jupyter-widgets/controls",
       "_view_module_version": "1.5.0",
       "_view_name": "ProgressView",
       "bar_style": "success",
       "description": "",
       "description_tooltip": null,
       "layout": "IPY_MODEL_c2d121199a2247d7aac1e27d75d105a9",
       "max": 4.0,
       "min": 0.0,
       "orientation": "horizontal",
       "style": "IPY_MODEL_5a2d470e12d84361ab5e3b728bc8e5ef",
       "value": 4.0
      }
     },
     "e33159e344254307b7f381385bc18a9f": {
      "model_module": "@jupyter-widgets/controls",
      "model_module_version": "1.5.0",
      "model_name": "HTMLModel",
      "state": {
       "_dom_classes": [],
       "_model_module": "@jupyter-widgets/controls",
       "_model_module_version": "1.5.0",
       "_model_name": "HTMLModel",
       "_view_count": null,
       "_view_module": "@jupyter-widgets/controls",
       "_view_module_version": "1.5.0",
       "_view_name": "HTMLView",
       "description": "",
       "description_tooltip": null,
       "layout": "IPY_MODEL_45cbbeee3e5b4d5f9cea0e7321ca2cdf",
       "placeholder": "​",
       "style": "IPY_MODEL_ef1ba5c3bbb04c2ea22ff9c198fc7c22",
       "value": "&lt;tqdm.notebook.tqdm_notebook object at 0x7f653c2c0c50&gt;"
      }
     },
     "e5c5e1237ec54ca98599f149595e8373": {
      "model_module": "@jupyter-widgets/controls",
      "model_module_version": "1.5.0",
      "model_name": "DescriptionStyleModel",
      "state": {
       "_model_module": "@jupyter-widgets/controls",
       "_model_module_version": "1.5.0",
       "_model_name": "DescriptionStyleModel",
       "_view_count": null,
       "_view_module": "@jupyter-widgets/base",
       "_view_module_version": "1.2.0",
       "_view_name": "StyleView",
       "description_width": ""
      }
     },
     "ef1ba5c3bbb04c2ea22ff9c198fc7c22": {
      "model_module": "@jupyter-widgets/controls",
      "model_module_version": "1.5.0",
      "model_name": "DescriptionStyleModel",
      "state": {
       "_model_module": "@jupyter-widgets/controls",
       "_model_module_version": "1.5.0",
       "_model_name": "DescriptionStyleModel",
       "_view_count": null,
       "_view_module": "@jupyter-widgets/base",
       "_view_module_version": "1.2.0",
       "_view_name": "StyleView",
       "description_width": ""
      }
     },
     "f063d1944b46487381f26d4b40a56dd0": {
      "model_module": "@jupyter-widgets/base",
      "model_module_version": "1.2.0",
      "model_name": "LayoutModel",
      "state": {
       "_model_module": "@jupyter-widgets/base",
       "_model_module_version": "1.2.0",
       "_model_name": "LayoutModel",
       "_view_count": null,
       "_view_module": "@jupyter-widgets/base",
       "_view_module_version": "1.2.0",
       "_view_name": "LayoutView",
       "align_content": null,
       "align_items": null,
       "align_self": null,
       "border": null,
       "bottom": null,
       "display": null,
       "flex": null,
       "flex_flow": null,
       "grid_area": null,
       "grid_auto_columns": null,
       "grid_auto_flow": null,
       "grid_auto_rows": null,
       "grid_column": null,
       "grid_gap": null,
       "grid_row": null,
       "grid_template_areas": null,
       "grid_template_columns": null,
       "grid_template_rows": null,
       "height": null,
       "justify_content": null,
       "justify_items": null,
       "left": null,
       "margin": null,
       "max_height": null,
       "max_width": null,
       "min_height": null,
       "min_width": null,
       "object_fit": null,
       "object_position": null,
       "order": null,
       "overflow": null,
       "overflow_x": null,
       "overflow_y": null,
       "padding": null,
       "right": null,
       "top": null,
       "visibility": null,
       "width": null
      }
     },
     "f39e538efe6d418dbc22265b640fe9d6": {
      "model_module": "@jupyter-widgets/controls",
      "model_module_version": "1.5.0",
      "model_name": "DescriptionStyleModel",
      "state": {
       "_model_module": "@jupyter-widgets/controls",
       "_model_module_version": "1.5.0",
       "_model_name": "DescriptionStyleModel",
       "_view_count": null,
       "_view_module": "@jupyter-widgets/base",
       "_view_module_version": "1.2.0",
       "_view_name": "StyleView",
       "description_width": ""
      }
     },
     "f4def74633ab49169c13008033941e74": {
      "model_module": "@jupyter-widgets/controls",
      "model_module_version": "1.5.0",
      "model_name": "DescriptionStyleModel",
      "state": {
       "_model_module": "@jupyter-widgets/controls",
       "_model_module_version": "1.5.0",
       "_model_name": "DescriptionStyleModel",
       "_view_count": null,
       "_view_module": "@jupyter-widgets/base",
       "_view_module_version": "1.2.0",
       "_view_name": "StyleView",
       "description_width": ""
      }
     },
     "ff1bdd1523a7437ba2f9a98ded10fd8f": {
      "model_module": "@jupyter-widgets/controls",
      "model_module_version": "1.5.0",
      "model_name": "DescriptionStyleModel",
      "state": {
       "_model_module": "@jupyter-widgets/controls",
       "_model_module_version": "1.5.0",
       "_model_name": "DescriptionStyleModel",
       "_view_count": null,
       "_view_module": "@jupyter-widgets/base",
       "_view_module_version": "1.2.0",
       "_view_name": "StyleView",
       "description_width": ""
      }
     },
     "ff3096b37ca54a2397864e47efb97c52": {
      "model_module": "@jupyter-widgets/controls",
      "model_module_version": "1.5.0",
      "model_name": "HBoxModel",
      "state": {
       "_dom_classes": [],
       "_model_module": "@jupyter-widgets/controls",
       "_model_module_version": "1.5.0",
       "_model_name": "HBoxModel",
       "_view_count": null,
       "_view_module": "@jupyter-widgets/controls",
       "_view_module_version": "1.5.0",
       "_view_name": "HBoxView",
       "box_style": "",
       "children": [
        "IPY_MODEL_de13637f43804e6693a4a4e9c4d20304",
        "IPY_MODEL_2f2ef6cd7b2c44688da0b7f9d8ceed15"
       ],
       "layout": "IPY_MODEL_a75f327207824b16a6e1cf885ee9454c"
      }
     }
    },
    "version_major": 2,
    "version_minor": 0
   }
  }
 },
 "nbformat": 4,
 "nbformat_minor": 5
}
