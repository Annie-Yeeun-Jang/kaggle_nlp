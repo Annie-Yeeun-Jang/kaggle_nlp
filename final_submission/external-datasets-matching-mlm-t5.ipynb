{
 "cells": [
  {
   "cell_type": "markdown",
   "id": "functional-maximum",
   "metadata": {
    "papermill": {
     "duration": 0.051711,
     "end_time": "2021-06-10T13:20:36.153341",
     "exception": false,
     "start_time": "2021-06-10T13:20:36.101630",
     "status": "completed"
    },
    "tags": []
   },
   "source": [
    "# About\n",
    "\n",
    "Trained a `New MLM` and added on [External_Datasets_Matching + MLM](https://www.kaggle.com/chienhsianghung/external-datasets-matching-mlm).\n",
    "\n",
    "\n",
    "`New MLM`\n",
    "- [[Coleridge] BERT - MLMv4](https://www.kaggle.com/chienhsianghung/coleridge-bert-mlmv4)\n"
   ]
  },
  {
   "cell_type": "markdown",
   "id": "desperate-balloon",
   "metadata": {
    "papermill": {
     "duration": 0.079233,
     "end_time": "2021-06-10T13:20:36.321921",
     "exception": false,
     "start_time": "2021-06-10T13:20:36.242688",
     "status": "completed"
    },
    "tags": []
   },
   "source": [
    "# Setting"
   ]
  },
  {
   "cell_type": "code",
   "execution_count": 1,
   "id": "vertical-madagascar",
   "metadata": {
    "execution": {
     "iopub.execute_input": "2021-06-10T13:20:36.490765Z",
     "iopub.status.busy": "2021-06-10T13:20:36.489939Z",
     "iopub.status.idle": "2021-06-10T13:20:36.494464Z",
     "shell.execute_reply": "2021-06-10T13:20:36.495123Z",
     "shell.execute_reply.started": "2021-06-10T13:08:52.094633Z"
    },
    "papermill": {
     "duration": 0.092278,
     "end_time": "2021-06-10T13:20:36.495416",
     "exception": false,
     "start_time": "2021-06-10T13:20:36.403138",
     "status": "completed"
    },
    "tags": []
   },
   "outputs": [],
   "source": [
    "COMPUTE_CV = False\n",
    "EDA_DEMO = False\n",
    "ALL_BLENDED = False\n",
    "BASELINE_HELPING = True\n",
    "MATCH_ONLY = False\n",
    "MLM_ONLY = False\n",
    "KEN_MATCHING = True\n",
    "BS_CLEANING = False\n",
    "THEO_MERGE = False\n",
    "SEED = 347"
   ]
  },
  {
   "cell_type": "markdown",
   "id": "interim-renewal",
   "metadata": {
    "_cell_guid": "b1076dfc-b9ad-4769-8c92-a6c4dae69d19",
    "_uuid": "8f2839f25d086af736a60e9eeb907d3b93b6e0e5",
    "papermill": {
     "duration": 0.082526,
     "end_time": "2021-06-10T13:20:36.662674",
     "exception": false,
     "start_time": "2021-06-10T13:20:36.580148",
     "status": "completed"
    },
    "tags": []
   },
   "source": [
    "# Install packages"
   ]
  },
  {
   "cell_type": "code",
   "execution_count": 2,
   "id": "essential-basic",
   "metadata": {
    "_kg_hide-output": true,
    "execution": {
     "iopub.execute_input": "2021-06-10T13:20:36.836503Z",
     "iopub.status.busy": "2021-06-10T13:20:36.835571Z",
     "iopub.status.idle": "2021-06-10T13:22:04.234996Z",
     "shell.execute_reply": "2021-06-10T13:22:04.234514Z",
     "shell.execute_reply.started": "2021-06-10T13:08:52.105985Z"
    },
    "papermill": {
     "duration": 87.490588,
     "end_time": "2021-06-10T13:22:04.235140",
     "exception": false,
     "start_time": "2021-06-10T13:20:36.744552",
     "status": "completed"
    },
    "tags": []
   },
   "outputs": [],
   "source": [
    "!pip install datasets --no-index --find-links=file:///kaggle/input/coleridge-packages/packages/datasets\n",
    "!pip install ../input/coleridge-packages/seqeval-1.2.2-py3-none-any.whl\n",
    "!pip install ../input/coleridge-packages/tokenizers-0.10.1-cp37-cp37m-manylinux1_x86_64.whl\n",
    "!pip install ../input/coleridge-packages/transformers-4.5.0.dev0-py3-none-any.whl\n",
    "\n",
    "from IPython.display import clear_output\n",
    "clear_output()"
   ]
  },
  {
   "cell_type": "markdown",
   "id": "european-typing",
   "metadata": {
    "papermill": {
     "duration": 0.049576,
     "end_time": "2021-06-10T13:22:04.335313",
     "exception": false,
     "start_time": "2021-06-10T13:22:04.285737",
     "status": "completed"
    },
    "tags": []
   },
   "source": [
    "# Import"
   ]
  },
  {
   "cell_type": "code",
   "execution_count": 3,
   "id": "blond-eclipse",
   "metadata": {
    "execution": {
     "iopub.execute_input": "2021-06-10T13:22:04.444700Z",
     "iopub.status.busy": "2021-06-10T13:22:04.443834Z",
     "iopub.status.idle": "2021-06-10T13:22:11.935895Z",
     "shell.execute_reply": "2021-06-10T13:22:11.936323Z",
     "shell.execute_reply.started": "2021-06-10T13:10:18.751016Z"
    },
    "papermill": {
     "duration": 7.551666,
     "end_time": "2021-06-10T13:22:11.936483",
     "exception": false,
     "start_time": "2021-06-10T13:22:04.384817",
     "status": "completed"
    },
    "tags": []
   },
   "outputs": [
    {
     "name": "stderr",
     "output_type": "stream",
     "text": [
      "/opt/conda/lib/python3.7/site-packages/ipykernel_launcher.py:12: TqdmExperimentalWarning: Using `tqdm.autonotebook.tqdm` in notebook mode. Use `tqdm.tqdm` instead to force console mode (e.g. in jupyter console)\n",
      "  if sys.path[0] == '':\n"
     ]
    },
    {
     "name": "stdout",
     "output_type": "stream",
     "text": [
      "this submission notebook will only be used to submit result\n"
     ]
    }
   ],
   "source": [
    "import os\n",
    "import re\n",
    "import json\n",
    "import time\n",
    "import random\n",
    "import glob\n",
    "import importlib\n",
    "\n",
    "import numpy as np\n",
    "import pandas as pd\n",
    "\n",
    "from tqdm.autonotebook import tqdm\n",
    "\n",
    "import torch\n",
    "from datasets import load_dataset\n",
    "from transformers import AutoTokenizer, DataCollatorForLanguageModeling, \\\n",
    "AutoModelForMaskedLM, Trainer, TrainingArguments, pipeline\n",
    "\n",
    "from typing import List\n",
    "import string\n",
    "from functools import partial\n",
    "import warnings\n",
    "warnings.filterwarnings(\"ignore\", 'This pattern has match groups')\n",
    "\n",
    "random.seed(SEED)\n",
    "np.random.seed(SEED)\n",
    "torch.manual_seed(SEED)\n",
    "torch.backends.cudnn.deterministic = True\n",
    "torch.backends.cudnn.benchmark = False\n",
    "\n",
    "sample_submission = pd.read_csv('../input/coleridgeinitiative-show-us-the-data/sample_submission.csv')\n",
    "if len(sample_submission) > 4: COMPUTE_CV = False\n",
    "if COMPUTE_CV: \n",
    "    print('this submission notebook will compute CV score but commit notebook will not')\n",
    "else:\n",
    "    print('this submission notebook will only be used to submit result')"
   ]
  },
  {
   "cell_type": "markdown",
   "id": "incident-spotlight",
   "metadata": {
    "papermill": {
     "duration": 0.049991,
     "end_time": "2021-06-10T13:22:12.036885",
     "exception": false,
     "start_time": "2021-06-10T13:22:11.986894",
     "status": "completed"
    },
    "tags": []
   },
   "source": [
    "# Load data"
   ]
  },
  {
   "cell_type": "code",
   "execution_count": 4,
   "id": "thrown-mitchell",
   "metadata": {
    "execution": {
     "iopub.execute_input": "2021-06-10T13:22:12.144411Z",
     "iopub.status.busy": "2021-06-10T13:22:12.143812Z",
     "iopub.status.idle": "2021-06-10T13:22:12.242795Z",
     "shell.execute_reply": "2021-06-10T13:22:12.242029Z",
     "shell.execute_reply.started": "2021-06-10T13:10:26.555595Z"
    },
    "papermill": {
     "duration": 0.155846,
     "end_time": "2021-06-10T13:22:12.242955",
     "exception": false,
     "start_time": "2021-06-10T13:22:12.087109",
     "status": "completed"
    },
    "tags": []
   },
   "outputs": [],
   "source": [
    "train_path = '../input/coleridgeinitiative-show-us-the-data/train.csv'\n",
    "train_files_path = '../input/coleridgeinitiative-show-us-the-data/train'\n",
    "train = pd.read_csv(train_path)\n",
    "\n",
    "if COMPUTE_CV: \n",
    "    sample_submission = train\n",
    "    paper_test_folder = '../input/coleridgeinitiative-show-us-the-data/train'\n",
    "    test_files_path = paper_test_folder\n",
    "else:\n",
    "    sample_submission = pd.read_csv('../input/coleridgeinitiative-show-us-the-data/sample_submission.csv')\n",
    "    paper_test_folder = '../input/coleridgeinitiative-show-us-the-data/test'\n",
    "    test_files_path = paper_test_folder\n",
    "    \n",
    "adnl_govt_labels_path = '../input/bigger-govt-dataset-list/data_set_800.csv'"
   ]
  },
  {
   "cell_type": "code",
   "execution_count": 5,
   "id": "statutory-arctic",
   "metadata": {
    "execution": {
     "iopub.execute_input": "2021-06-10T13:22:12.372881Z",
     "iopub.status.busy": "2021-06-10T13:22:12.354044Z",
     "iopub.status.idle": "2021-06-10T13:22:12.408265Z",
     "shell.execute_reply": "2021-06-10T13:22:12.407618Z",
     "shell.execute_reply.started": "2021-06-10T13:10:26.660480Z"
    },
    "papermill": {
     "duration": 0.114778,
     "end_time": "2021-06-10T13:22:12.408420",
     "exception": false,
     "start_time": "2021-06-10T13:22:12.293642",
     "status": "completed"
    },
    "tags": []
   },
   "outputs": [
    {
     "data": {
      "application/vnd.jupyter.widget-view+json": {
       "model_id": "527ef7b9193643e3bb68270c2105df7d",
       "version_major": 2,
       "version_minor": 0
      },
      "text/plain": [
       "HBox(children=(FloatProgress(value=0.0, max=4.0), HTML(value='')))"
      ]
     },
     "metadata": {},
     "output_type": "display_data"
    },
    {
     "name": "stdout",
     "output_type": "stream",
     "text": [
      "\n"
     ]
    }
   ],
   "source": [
    "papers = {}\n",
    "for paper_id in tqdm(sample_submission['Id']):\n",
    "    with open(f'{paper_test_folder}/{paper_id}.json', 'r') as f:\n",
    "        paper = json.load(f)\n",
    "        papers[paper_id] = paper"
   ]
  },
  {
   "cell_type": "markdown",
   "id": "outstanding-honey",
   "metadata": {
    "papermill": {
     "duration": 0.050839,
     "end_time": "2021-06-10T13:22:12.510410",
     "exception": false,
     "start_time": "2021-06-10T13:22:12.459571",
     "status": "completed"
    },
    "tags": []
   },
   "source": [
    "## A Bit EDA"
   ]
  },
  {
   "cell_type": "code",
   "execution_count": 6,
   "id": "deadly-poverty",
   "metadata": {
    "execution": {
     "iopub.execute_input": "2021-06-10T13:22:12.618879Z",
     "iopub.status.busy": "2021-06-10T13:22:12.618369Z",
     "iopub.status.idle": "2021-06-10T13:22:12.622422Z",
     "shell.execute_reply": "2021-06-10T13:22:12.622017Z",
     "shell.execute_reply.started": "2021-06-10T13:10:26.728661Z"
    },
    "papermill": {
     "duration": 0.061248,
     "end_time": "2021-06-10T13:22:12.622532",
     "exception": false,
     "start_time": "2021-06-10T13:22:12.561284",
     "status": "completed"
    },
    "tags": []
   },
   "outputs": [],
   "source": [
    "if EDA_DEMO:\n",
    "    df_input = pd.DataFrame(columns=['id','section_title','text','data_label'])\n",
    "    for id in tqdm(train['Id'].values):\n",
    "        df=pd.read_json('../input/coleridgeinitiative-show-us-the-data/train/{}.json'.format(id))    \n",
    "        for data_label in train[train['Id']==id]['dataset_label'].values:        \n",
    "            new_df=df[df['text'].str.contains(data_label)].copy(deep=True)\n",
    "            new_df.loc[:,['data_label']] = data_label\n",
    "            new_df.loc[:,['id']] = id\n",
    "            new_df.reset_index(inplace=True,drop=True)\n",
    "            df_input=pd.concat([df_input, new_df], ignore_index=True)\n",
    "            df_input.reset_index(inplace=True,drop=True)\n",
    "else: df_input = None\n",
    "\n",
    "df_input"
   ]
  },
  {
   "cell_type": "code",
   "execution_count": 7,
   "id": "effective-eight",
   "metadata": {
    "execution": {
     "iopub.execute_input": "2021-06-10T13:22:12.727412Z",
     "iopub.status.busy": "2021-06-10T13:22:12.726855Z",
     "iopub.status.idle": "2021-06-10T13:22:12.730777Z",
     "shell.execute_reply": "2021-06-10T13:22:12.730356Z",
     "shell.execute_reply.started": "2021-06-10T13:10:26.739321Z"
    },
    "papermill": {
     "duration": 0.0581,
     "end_time": "2021-06-10T13:22:12.730883",
     "exception": false,
     "start_time": "2021-06-10T13:22:12.672783",
     "status": "completed"
    },
    "tags": []
   },
   "outputs": [],
   "source": [
    "if EDA_DEMO: df_input = df_input[ df_input['section_title'] != '' ]\n",
    "\n",
    "df_input"
   ]
  },
  {
   "cell_type": "markdown",
   "id": "declared-automation",
   "metadata": {
    "papermill": {
     "duration": 0.050721,
     "end_time": "2021-06-10T13:22:12.833562",
     "exception": false,
     "start_time": "2021-06-10T13:22:12.782841",
     "status": "completed"
    },
    "tags": []
   },
   "source": [
    "# Literal Matching"
   ]
  },
  {
   "cell_type": "markdown",
   "id": "dominant-classification",
   "metadata": {
    "papermill": {
     "duration": 0.051929,
     "end_time": "2021-06-10T13:22:12.941286",
     "exception": false,
     "start_time": "2021-06-10T13:22:12.889357",
     "status": "completed"
    },
    "tags": []
   },
   "source": [
    "### Create a Knowledge Bank"
   ]
  },
  {
   "cell_type": "code",
   "execution_count": 8,
   "id": "closing-cocktail",
   "metadata": {
    "execution": {
     "iopub.execute_input": "2021-06-10T13:22:13.053963Z",
     "iopub.status.busy": "2021-06-10T13:22:13.053196Z",
     "iopub.status.idle": "2021-06-10T13:22:13.101819Z",
     "shell.execute_reply": "2021-06-10T13:22:13.101221Z",
     "shell.execute_reply.started": "2021-06-10T13:10:26.747724Z"
    },
    "papermill": {
     "duration": 0.108536,
     "end_time": "2021-06-10T13:22:13.101980",
     "exception": false,
     "start_time": "2021-06-10T13:22:12.993444",
     "status": "completed"
    },
    "tags": []
   },
   "outputs": [
    {
     "name": "stdout",
     "output_type": "stream",
     "text": [
      "No. different labels: 180\n"
     ]
    }
   ],
   "source": [
    "all_labels = set()\n",
    "\n",
    "for label_1, label_2, label_3 in train[['dataset_title', 'dataset_label', 'cleaned_label']].itertuples(index=False):\n",
    "    all_labels.add(str(label_1).lower())\n",
    "    all_labels.add(str(label_2).lower())\n",
    "    all_labels.add(str(label_3).lower())\n",
    "    \n",
    "print(f'No. different labels: {len(all_labels)}')"
   ]
  },
  {
   "cell_type": "markdown",
   "id": "specific-renaissance",
   "metadata": {
    "papermill": {
     "duration": 0.051519,
     "end_time": "2021-06-10T13:22:13.205404",
     "exception": false,
     "start_time": "2021-06-10T13:22:13.153885",
     "status": "completed"
    },
    "tags": []
   },
   "source": [
    "#### Additional Govt Datasets"
   ]
  },
  {
   "cell_type": "code",
   "execution_count": 9,
   "id": "smaller-friendship",
   "metadata": {
    "execution": {
     "iopub.execute_input": "2021-06-10T13:22:13.317391Z",
     "iopub.status.busy": "2021-06-10T13:22:13.316868Z",
     "iopub.status.idle": "2021-06-10T13:22:13.330608Z",
     "shell.execute_reply": "2021-06-10T13:22:13.330164Z",
     "shell.execute_reply.started": "2021-06-10T13:10:26.805529Z"
    },
    "papermill": {
     "duration": 0.074075,
     "end_time": "2021-06-10T13:22:13.330729",
     "exception": false,
     "start_time": "2021-06-10T13:22:13.256654",
     "status": "completed"
    },
    "tags": []
   },
   "outputs": [
    {
     "name": "stdout",
     "output_type": "stream",
     "text": [
      "No. different labels: 2159\n"
     ]
    }
   ],
   "source": [
    "adnl_govt_labels = pd.read_csv(adnl_govt_labels_path)\n",
    "\n",
    "for l in adnl_govt_labels.title:\n",
    "    all_labels.add(l)\n",
    "    \n",
    "all_labels = set(all_labels)\n",
    "print(f'No. different labels: {len(all_labels)}')"
   ]
  },
  {
   "cell_type": "markdown",
   "id": "national-particular",
   "metadata": {
    "papermill": {
     "duration": 0.052209,
     "end_time": "2021-06-10T13:22:13.434590",
     "exception": false,
     "start_time": "2021-06-10T13:22:13.382381",
     "status": "completed"
    },
    "tags": []
   },
   "source": [
    "### Matching on test data"
   ]
  },
  {
   "cell_type": "code",
   "execution_count": 10,
   "id": "bearing-sleeping",
   "metadata": {
    "execution": {
     "iopub.execute_input": "2021-06-10T13:22:13.549686Z",
     "iopub.status.busy": "2021-06-10T13:22:13.548988Z",
     "iopub.status.idle": "2021-06-10T13:22:13.551875Z",
     "shell.execute_reply": "2021-06-10T13:22:13.551453Z",
     "shell.execute_reply.started": "2021-06-10T13:10:26.824432Z"
    },
    "papermill": {
     "duration": 0.066052,
     "end_time": "2021-06-10T13:22:13.551998",
     "exception": false,
     "start_time": "2021-06-10T13:22:13.485946",
     "status": "completed"
    },
    "tags": []
   },
   "outputs": [],
   "source": [
    "def clean_text(txt):\n",
    "    return re.sub('[^A-Za-z0-9]+', ' ', str(txt).lower()).strip()\n",
    "\n",
    "\n",
    "def totally_clean_text(txt):\n",
    "    txt = clean_text(txt)\n",
    "    txt = re.sub(' +', ' ', txt)\n",
    "    return txt\n",
    "\n",
    "if not BS_CLEANING:\n",
    "    def text_cleaning(text):\n",
    "        '''\n",
    "        Converts all text to lower case, Removes special charecters, emojis and multiple spaces\n",
    "        text - Sentence that needs to be cleaned\n",
    "        '''\n",
    "        text = re.sub('[^A-Za-z0-9]+', ' ', str(text).lower()).strip()\n",
    "        text = re.sub(' +', ' ', text)\n",
    "        emoji_pattern = re.compile(\"[\"\n",
    "                                   u\"\\U0001F600-\\U0001F64F\"  # emoticons\n",
    "                                   u\"\\U0001F300-\\U0001F5FF\"  # symbols & pictographs\n",
    "                                   u\"\\U0001F680-\\U0001F6FF\"  # transport & map symbols\n",
    "                                   u\"\\U0001F1E0-\\U0001F1FF\"  # flags (iOS)\n",
    "                                   \"]+\", flags=re.UNICODE)\n",
    "        text = emoji_pattern.sub(r'', text)\n",
    "        return text\n",
    "else:\n",
    "    def text_cleaning(text):\n",
    "        '''\n",
    "        Converts all text to lower case, Removes special charecters, emojis and multiple spaces\n",
    "        text - Sentence that needs to be cleaned\n",
    "        '''\n",
    "        text = ''.join([k for k in text if k not in string.punctuation])\n",
    "        text = re.sub('[^A-Za-z0-9]+', ' ', str(text).lower()).strip()\n",
    "        # text = re.sub(\"/'+/g\", ' ', text)\n",
    "        return text\n",
    "\n",
    "\n",
    "def read_json_pub(filename, train_data_path=train_files_path, output='text'):\n",
    "    json_path = os.path.join(train_data_path, (filename+'.json'))\n",
    "    headings = []\n",
    "    contents = []\n",
    "    combined = []\n",
    "    with open(json_path, 'r') as f:\n",
    "        json_decode = json.load(f)\n",
    "        for data in json_decode:\n",
    "            headings.append(data.get('section_title'))\n",
    "            contents.append(data.get('text'))\n",
    "            combined.append(data.get('section_title'))\n",
    "            combined.append(data.get('text'))\n",
    "    \n",
    "    all_headings = ' '.join(headings)\n",
    "    all_contents = ' '.join(contents)\n",
    "    all_data = '. '.join(combined)\n",
    "    \n",
    "    if output == 'text':\n",
    "        return all_contents\n",
    "    elif output == 'head':\n",
    "        return all_headings\n",
    "    else:\n",
    "        return all_data"
   ]
  },
  {
   "cell_type": "code",
   "execution_count": 11,
   "id": "interim-picking",
   "metadata": {
    "execution": {
     "iopub.execute_input": "2021-06-10T13:22:13.660607Z",
     "iopub.status.busy": "2021-06-10T13:22:13.659897Z",
     "iopub.status.idle": "2021-06-10T13:22:13.662503Z",
     "shell.execute_reply": "2021-06-10T13:22:13.662954Z",
     "shell.execute_reply.started": "2021-06-10T13:10:26.839582Z"
    },
    "papermill": {
     "duration": 0.060017,
     "end_time": "2021-06-10T13:22:13.663091",
     "exception": false,
     "start_time": "2021-06-10T13:22:13.603074",
     "status": "completed"
    },
    "tags": []
   },
   "outputs": [],
   "source": [
    "if not KEN_MATCHING and not MLM_ONLY:\n",
    "    literal_preds = []\n",
    "    for paper_id in tqdm(sample_submission['Id']):\n",
    "        paper = papers[paper_id]\n",
    "        text_1 = '. '.join(section['text'] for section in paper).lower()\n",
    "        text_2 = totally_clean_text(text_1)\n",
    "\n",
    "        labels = set()\n",
    "        for label in all_labels:\n",
    "            if label in text_1 or label in text_2:\n",
    "                labels.add(clean_text(label))\n",
    "\n",
    "        literal_preds.append('|'.join(labels))\n",
    "    literal_preds[:5]"
   ]
  },
  {
   "cell_type": "markdown",
   "id": "noticed-score",
   "metadata": {
    "papermill": {
     "duration": 0.051106,
     "end_time": "2021-06-10T13:22:13.765233",
     "exception": false,
     "start_time": "2021-06-10T13:22:13.714127",
     "status": "completed"
    },
    "tags": []
   },
   "source": [
    "#### Ken Matching"
   ]
  },
  {
   "cell_type": "code",
   "execution_count": 12,
   "id": "spiritual-unknown",
   "metadata": {
    "execution": {
     "iopub.execute_input": "2021-06-10T13:22:13.895966Z",
     "iopub.status.busy": "2021-06-10T13:22:13.895090Z",
     "iopub.status.idle": "2021-06-10T13:22:14.915034Z",
     "shell.execute_reply": "2021-06-10T13:22:14.915430Z",
     "shell.execute_reply.started": "2021-06-10T13:10:26.850904Z"
    },
    "papermill": {
     "duration": 1.09861,
     "end_time": "2021-06-10T13:22:14.915603",
     "exception": false,
     "start_time": "2021-06-10T13:22:13.816993",
     "status": "completed"
    },
    "tags": []
   },
   "outputs": [
    {
     "data": {
      "application/vnd.jupyter.widget-view+json": {
       "model_id": "de2c007e48bf4fba8bcde464e3879d77",
       "version_major": 2,
       "version_minor": 0
      },
      "text/plain": [
       "HBox(children=(FloatProgress(value=1.0, bar_style='info', layout=Layout(width='20px'), max=1.0), HTML(value=''…"
      ]
     },
     "metadata": {},
     "output_type": "display_data"
    },
    {
     "name": "stdout",
     "output_type": "stream",
     "text": [
      "\n"
     ]
    }
   ],
   "source": [
    "literal_preds = []\n",
    "\n",
    "if KEN_MATCHING and not MLM_ONLY:\n",
    "    literal_preds = []\n",
    "    to_append = []\n",
    "    for index, row in tqdm(sample_submission.iterrows()):\n",
    "        to_append = [row['Id'],'']\n",
    "        large_string = str(read_json_pub(row['Id'], test_files_path))\n",
    "        clean_string = text_cleaning(large_string)\n",
    "        for index, row2 in adnl_govt_labels.iterrows():\n",
    "            query_string = str(row2['title'])\n",
    "            if query_string in clean_string:\n",
    "                if to_append[1] != '' and clean_text(query_string) not in to_append[1]:\n",
    "                    to_append[1] = to_append[1] + '|' + clean_text(query_string)\n",
    "                if to_append[1] == '':\n",
    "                    to_append[1] = clean_text(query_string)\n",
    "        literal_preds.append(*to_append[1:])\n",
    "\n",
    "elif MLM_ONLY:\n",
    "    print('This kernel will only use MLM model to predict.')"
   ]
  },
  {
   "cell_type": "markdown",
   "id": "compact-gallery",
   "metadata": {
    "papermill": {
     "duration": 0.051714,
     "end_time": "2021-06-10T13:22:15.020480",
     "exception": false,
     "start_time": "2021-06-10T13:22:14.968766",
     "status": "completed"
    },
    "tags": []
   },
   "source": [
    "# Masked Dataset Modeling"
   ]
  },
  {
   "cell_type": "markdown",
   "id": "arctic-retail",
   "metadata": {
    "papermill": {
     "duration": 0.051745,
     "end_time": "2021-06-10T13:22:15.125306",
     "exception": false,
     "start_time": "2021-06-10T13:22:15.073561",
     "status": "completed"
    },
    "tags": []
   },
   "source": [
    "### Paths and Hyperparameters"
   ]
  },
  {
   "cell_type": "code",
   "execution_count": 13,
   "id": "forward-creator",
   "metadata": {
    "execution": {
     "iopub.execute_input": "2021-06-10T13:22:15.233704Z",
     "iopub.status.busy": "2021-06-10T13:22:15.232974Z",
     "iopub.status.idle": "2021-06-10T13:22:15.235926Z",
     "shell.execute_reply": "2021-06-10T13:22:15.235381Z",
     "shell.execute_reply.started": "2021-06-10T13:10:27.909392Z"
    },
    "papermill": {
     "duration": 0.058931,
     "end_time": "2021-06-10T13:22:15.236035",
     "exception": false,
     "start_time": "2021-06-10T13:22:15.177104",
     "status": "completed"
    },
    "tags": []
   },
   "outputs": [],
   "source": [
    "if not MATCH_ONLY:\n",
    "    PRETRAINED_PATH = '../input/coleridge-bert-mlmv4/output-mlm/checkpoint-48000'\n",
    "    TOKENIZER_PATH = '../input/coleridge-bert-mlmv4/model_tokenizer'\n",
    "\n",
    "    MAX_LENGTH = 64\n",
    "    OVERLAP = 20\n",
    "\n",
    "    PREDICT_BATCH = 32 # a higher value requires higher GPU memory usage\n",
    "\n",
    "    DATASET_SYMBOL = '$' # this symbol represents a dataset name\n",
    "    NONDATA_SYMBOL = '#' # this symbol represents a non-dataset name"
   ]
  },
  {
   "cell_type": "markdown",
   "id": "joint-faculty",
   "metadata": {
    "papermill": {
     "duration": 0.092091,
     "end_time": "2021-06-10T13:22:15.383432",
     "exception": false,
     "start_time": "2021-06-10T13:22:15.291341",
     "status": "completed"
    },
    "tags": []
   },
   "source": [
    "# Transform data to MLM format"
   ]
  },
  {
   "cell_type": "markdown",
   "id": "sustainable-southwest",
   "metadata": {
    "papermill": {
     "duration": 0.100674,
     "end_time": "2021-06-10T13:22:15.567126",
     "exception": false,
     "start_time": "2021-06-10T13:22:15.466452",
     "status": "completed"
    },
    "tags": []
   },
   "source": [
    "### Load model and tokenizer"
   ]
  },
  {
   "cell_type": "code",
   "execution_count": 14,
   "id": "interpreted-capital",
   "metadata": {
    "execution": {
     "iopub.execute_input": "2021-06-10T13:22:15.752846Z",
     "iopub.status.busy": "2021-06-10T13:22:15.752011Z",
     "iopub.status.idle": "2021-06-10T13:22:30.098383Z",
     "shell.execute_reply": "2021-06-10T13:22:30.097889Z",
     "shell.execute_reply.started": "2021-06-10T13:10:27.916373Z"
    },
    "papermill": {
     "duration": 14.442514,
     "end_time": "2021-06-10T13:22:30.098515",
     "exception": false,
     "start_time": "2021-06-10T13:22:15.656001",
     "status": "completed"
    },
    "tags": []
   },
   "outputs": [],
   "source": [
    "if not MATCH_ONLY:\n",
    "    tokenizer = AutoTokenizer.from_pretrained(TOKENIZER_PATH, use_fast=True)\n",
    "    model = AutoModelForMaskedLM.from_pretrained(PRETRAINED_PATH)\n",
    "\n",
    "    mlm = pipeline(\n",
    "        'fill-mask', \n",
    "        model=model,\n",
    "        tokenizer=tokenizer,\n",
    "        device=0 if torch.cuda.is_available() else -1\n",
    "    )"
   ]
  },
  {
   "cell_type": "markdown",
   "id": "worthy-prediction",
   "metadata": {
    "papermill": {
     "duration": 0.052147,
     "end_time": "2021-06-10T13:22:30.203736",
     "exception": false,
     "start_time": "2021-06-10T13:22:30.151589",
     "status": "completed"
    },
    "tags": []
   },
   "source": [
    "### Auxiliary functions"
   ]
  },
  {
   "cell_type": "code",
   "execution_count": 15,
   "id": "antique-powell",
   "metadata": {
    "execution": {
     "iopub.execute_input": "2021-06-10T13:22:30.321930Z",
     "iopub.status.busy": "2021-06-10T13:22:30.321292Z",
     "iopub.status.idle": "2021-06-10T13:22:30.324560Z",
     "shell.execute_reply": "2021-06-10T13:22:30.324130Z",
     "shell.execute_reply.started": "2021-06-10T13:10:42.618511Z"
    },
    "papermill": {
     "duration": 0.069014,
     "end_time": "2021-06-10T13:22:30.324671",
     "exception": false,
     "start_time": "2021-06-10T13:22:30.255657",
     "status": "completed"
    },
    "tags": []
   },
   "outputs": [],
   "source": [
    "def jaccard_similarity(s1, s2):\n",
    "    l1 = s1.split(\" \")\n",
    "    l2 = s2.split(\" \")    \n",
    "    intersection = len(list(set(l1).intersection(l2)))\n",
    "    union = (len(l1) + len(l2)) - intersection\n",
    "    return float(intersection) / union\n",
    "\n",
    "def clean_paper_sentence(s):\n",
    "    \"\"\"\n",
    "    This function is essentially clean_text without lowercasing.\n",
    "    \"\"\"\n",
    "    s = re.sub('[^A-Za-z0-9]+', ' ', str(s)).strip()\n",
    "    s = re.sub(' +', ' ', s)\n",
    "    return s\n",
    "\n",
    "def shorten_sentences(sentences):\n",
    "    \"\"\"\n",
    "    Sentences that have more than MAX_LENGTH words will be split\n",
    "    into multiple sentences with overlappings.\n",
    "    \"\"\"\n",
    "    short_sentences = []\n",
    "    for sentence in sentences:\n",
    "        words = sentence.split()\n",
    "        if len(words) > MAX_LENGTH:\n",
    "            for p in range(0, len(words), MAX_LENGTH - OVERLAP):\n",
    "                short_sentences.append(' '.join(words[p:p+MAX_LENGTH]))\n",
    "        else:\n",
    "            short_sentences.append(sentence)\n",
    "    return short_sentences\n",
    "\n",
    "connection_tokens = {'s', 'of', 'and', 'in', 'on', 'for', 'data', 'dataset'}\n",
    "def find_mask_candidates(sentence):\n",
    "    \"\"\"\n",
    "    Extract masking candidates for Masked Dataset Modeling from a given $sentence.\n",
    "    A candidate should be a continuous sequence of at least 2 words, \n",
    "    each of these words either has the first letter in uppercase or is one of\n",
    "    the connection words ($connection_tokens). Furthermore, the connection \n",
    "    tokens are not allowed to appear at the beginning and the end of the\n",
    "    sequence.\n",
    "    \"\"\"\n",
    "    def candidate_qualified(words):\n",
    "        while len(words) and words[0].lower() in connection_tokens:\n",
    "            words = words[1:]\n",
    "        while len(words) and words[-1].lower() in connection_tokens:\n",
    "            words = words[:-1]\n",
    "        \n",
    "        return len(words) >= 2\n",
    "    \n",
    "    candidates = []\n",
    "    \n",
    "    phrase_start, phrase_end = -1, -1\n",
    "    for id in range(1, len(sentence)):\n",
    "        word = sentence[id]\n",
    "        if word[0].isupper() or word in connection_tokens:\n",
    "            if phrase_start == -1:\n",
    "                phrase_start = phrase_end = id\n",
    "            else:\n",
    "                phrase_end = id\n",
    "        else:\n",
    "            if phrase_start != -1:\n",
    "                if candidate_qualified(sentence[phrase_start:phrase_end+1]):\n",
    "                    candidates.append((phrase_start, phrase_end))\n",
    "                phrase_start = phrase_end = -1\n",
    "    \n",
    "    if phrase_start != -1:\n",
    "        if candidate_qualified(sentence[phrase_start:phrase_end+1]):\n",
    "            candidates.append((phrase_start, phrase_end))\n",
    "    \n",
    "    return candidates"
   ]
  },
  {
   "cell_type": "markdown",
   "id": "impressed-convergence",
   "metadata": {
    "papermill": {
     "duration": 0.052139,
     "end_time": "2021-06-10T13:22:30.428812",
     "exception": false,
     "start_time": "2021-06-10T13:22:30.376673",
     "status": "completed"
    },
    "tags": []
   },
   "source": [
    "### Transform"
   ]
  },
  {
   "cell_type": "code",
   "execution_count": 16,
   "id": "genetic-column",
   "metadata": {
    "execution": {
     "iopub.execute_input": "2021-06-10T13:22:30.557943Z",
     "iopub.status.busy": "2021-06-10T13:22:30.556992Z",
     "iopub.status.idle": "2021-06-10T13:22:30.627608Z",
     "shell.execute_reply": "2021-06-10T13:22:30.627181Z",
     "shell.execute_reply.started": "2021-06-10T13:10:42.633962Z"
    },
    "papermill": {
     "duration": 0.147069,
     "end_time": "2021-06-10T13:22:30.627717",
     "exception": false,
     "start_time": "2021-06-10T13:22:30.480648",
     "status": "completed"
    },
    "tags": []
   },
   "outputs": [
    {
     "data": {
      "application/vnd.jupyter.widget-view+json": {
       "model_id": "b6820fdf7c1542639f4941f44a759b22",
       "version_major": 2,
       "version_minor": 0
      },
      "text/plain": [
       "HBox(children=(FloatProgress(value=0.0, max=4.0), HTML(value='')))"
      ]
     },
     "metadata": {},
     "output_type": "display_data"
    },
    {
     "name": "stdout",
     "output_type": "stream",
     "text": [
      "\n"
     ]
    }
   ],
   "source": [
    "if not MATCH_ONLY:\n",
    "    mask = mlm.tokenizer.mask_token\n",
    "    all_test_data = []\n",
    "    \n",
    "    for paper_id in tqdm(sample_submission['Id']):\n",
    "        # load paper\n",
    "        paper = papers[paper_id]\n",
    "\n",
    "        # extract sentences\n",
    "        sentences = set([clean_paper_sentence(sentence) for section in paper \n",
    "                         for sentence in section['text'].split('.')\n",
    "                        ])\n",
    "        sentences = shorten_sentences(sentences) # make sentences short\n",
    "        sentences = [sentence for sentence in sentences if len(sentence) > 1] # only accept sentences with length > 1 chars\n",
    "        sentences = [sentence for sentence in sentences if any(word in sentence.lower() for word in ['data', 'study'])]\n",
    "        sentences = [sentence.split() for sentence in sentences] # sentence = list of words\n",
    "\n",
    "        # mask\n",
    "        test_data = []\n",
    "        for sentence in sentences:\n",
    "            for phrase_start, phrase_end in find_mask_candidates(sentence):\n",
    "                dt_point = sentence[:phrase_start] + [mask] + sentence[phrase_end+1:]\n",
    "                test_data.append((' '.join(dt_point), ' '.join(sentence[phrase_start:phrase_end+1]))) # (masked text, phrase)\n",
    "\n",
    "        all_test_data.append(test_data)"
   ]
  },
  {
   "cell_type": "markdown",
   "id": "given-agency",
   "metadata": {
    "papermill": {
     "duration": 0.092835,
     "end_time": "2021-06-10T13:22:30.799793",
     "exception": false,
     "start_time": "2021-06-10T13:22:30.706958",
     "status": "completed"
    },
    "tags": []
   },
   "source": [
    "### Predict"
   ]
  },
  {
   "cell_type": "code",
   "execution_count": 17,
   "id": "arranged-boundary",
   "metadata": {
    "execution": {
     "iopub.execute_input": "2021-06-10T13:22:30.984247Z",
     "iopub.status.busy": "2021-06-10T13:22:30.983367Z",
     "iopub.status.idle": "2021-06-10T13:22:34.012467Z",
     "shell.execute_reply": "2021-06-10T13:22:34.012010Z",
     "shell.execute_reply.started": "2021-06-10T13:10:42.749209Z"
    },
    "papermill": {
     "duration": 3.127129,
     "end_time": "2021-06-10T13:22:34.012599",
     "exception": false,
     "start_time": "2021-06-10T13:22:30.885470",
     "status": "completed"
    },
    "scrolled": true,
    "tags": []
   },
   "outputs": [
    {
     "data": {
      "application/vnd.jupyter.widget-view+json": {
       "model_id": "3e5583eed35c43d090a6526c6f5c7245",
       "version_major": 2,
       "version_minor": 0
      },
      "text/plain": [
       "HBox(children=(FloatProgress(value=0.0, max=4.0), HTML(value='')))"
      ]
     },
     "metadata": {},
     "output_type": "display_data"
    },
    {
     "name": "stdout",
     "output_type": "stream",
     "text": [
      "lothian birth cohort study lbc1936\n",
      "\n"
     ]
    }
   ],
   "source": [
    "if not MATCH_ONLY:\n",
    "    pred_mlm_labels = []\n",
    "\n",
    "    for test_data in tqdm(all_test_data):\n",
    "        pred_bag = set()\n",
    "\n",
    "        if len(test_data):\n",
    "            texts, phrases = list(zip(*test_data))\n",
    "            mlm_pred = []\n",
    "            for p_id in range(0, len(texts), PREDICT_BATCH):\n",
    "                batch_texts = texts[p_id:p_id+PREDICT_BATCH]\n",
    "                batch_pred = mlm(list(batch_texts), targets=[f' {DATASET_SYMBOL}', f' {NONDATA_SYMBOL}'])\n",
    "               \n",
    "\n",
    "                if len(batch_texts) == 1:\n",
    "                    batch_pred = [batch_pred]\n",
    "\n",
    "                mlm_pred.extend(batch_pred)\n",
    "                \n",
    "            for (result1, result2), phrase in zip(mlm_pred, phrases):\n",
    "                if (result1['score'] > result2['score']*2 and result1['token_str'] == DATASET_SYMBOL) or\\\n",
    "                   (result2['score'] > result1['score']*2 and result2['token_str'] == NONDATA_SYMBOL):\n",
    "                    pred_bag.add(clean_text(phrase))\n",
    "                    #print(phrase)\n",
    "                    print(clean_text(phrase))\n",
    "\n",
    "        # filter labels by jaccard score \n",
    "        filtered_labels = []\n",
    "        \n",
    "\n",
    "        for label in sorted(pred_bag, key=len, reverse=True):\n",
    "            if len(filtered_labels) == 0 or all(jaccard_similarity(label, got_label) < 0.75 for got_label in filtered_labels): #기존에 추가돼있는거랑 너무 비슷한거 피하기\n",
    "                filtered_labels.append(label)\n",
    "\n",
    "        #pred_mlm_labels.append('|'.join(filtered_labels))\n",
    "        pred_mlm_labels.append(filtered_labels)\n",
    "    pred_mlm_labels[:5]"
   ]
  },
  {
   "cell_type": "code",
   "execution_count": 18,
   "id": "dried-maker",
   "metadata": {
    "execution": {
     "iopub.execute_input": "2021-06-10T13:22:34.133553Z",
     "iopub.status.busy": "2021-06-10T13:22:34.132770Z",
     "iopub.status.idle": "2021-06-10T13:22:34.136170Z",
     "shell.execute_reply": "2021-06-10T13:22:34.136568Z",
     "shell.execute_reply.started": "2021-06-10T13:10:45.540585Z"
    },
    "papermill": {
     "duration": 0.065856,
     "end_time": "2021-06-10T13:22:34.136695",
     "exception": false,
     "start_time": "2021-06-10T13:22:34.070839",
     "status": "completed"
    },
    "tags": []
   },
   "outputs": [
    {
     "data": {
      "text/plain": [
       "[['lothian birth cohort study lbc1936'], [], [], []]"
      ]
     },
     "execution_count": 18,
     "metadata": {},
     "output_type": "execute_result"
    }
   ],
   "source": [
    "pred_mlm_labels"
   ]
  },
  {
   "cell_type": "markdown",
   "id": "quick-limit",
   "metadata": {
    "papermill": {
     "duration": 0.055381,
     "end_time": "2021-06-10T13:22:34.248100",
     "exception": false,
     "start_time": "2021-06-10T13:22:34.192719",
     "status": "completed"
    },
    "tags": []
   },
   "source": [
    "# Baseline Model"
   ]
  },
  {
   "cell_type": "code",
   "execution_count": 19,
   "id": "virtual-logan",
   "metadata": {
    "execution": {
     "iopub.execute_input": "2021-06-10T13:22:34.368436Z",
     "iopub.status.busy": "2021-06-10T13:22:34.367788Z",
     "iopub.status.idle": "2021-06-10T13:22:34.370764Z",
     "shell.execute_reply": "2021-06-10T13:22:34.371142Z",
     "shell.execute_reply.started": "2021-06-10T13:10:45.550812Z"
    },
    "papermill": {
     "duration": 0.067404,
     "end_time": "2021-06-10T13:22:34.371355",
     "exception": false,
     "start_time": "2021-06-10T13:22:34.303951",
     "status": "completed"
    },
    "tags": []
   },
   "outputs": [],
   "source": [
    "def read_append_return(filename, train_files_path=train_files_path, output='text'):\n",
    "    \"\"\"\n",
    "    Function to read json file and then return the text data from them and append to the dataframe\n",
    "    \"\"\"\n",
    "    json_path = os.path.join(train_files_path, (filename+'.json'))\n",
    "    headings = []\n",
    "    contents = []\n",
    "    combined = []\n",
    "    with open(json_path, 'r') as f:\n",
    "        json_decode = json.load(f)\n",
    "        for data in json_decode:\n",
    "            headings.append(data.get('section_title'))\n",
    "            contents.append(data.get('text'))\n",
    "            combined.append(data.get('section_title'))\n",
    "            combined.append(data.get('text'))\n",
    "    \n",
    "    all_headings = ' '.join(headings)\n",
    "    all_contents = ' '.join(contents)\n",
    "    all_data = '. '.join(combined)\n",
    "    \n",
    "    if output == 'text':\n",
    "        return all_contents\n",
    "    elif output == 'head':\n",
    "        return all_headings\n",
    "    else:\n",
    "        return all_data\n",
    "    \n",
    "    \n",
    "def text_cleaning(text):\n",
    "    '''\n",
    "    Converts all text to lower case, Removes special charecters, emojis and multiple spaces\n",
    "    text - Sentence that needs to be cleaned\n",
    "    '''\n",
    "    text = ''.join([k for k in text if k not in string.punctuation])\n",
    "    text = re.sub('[^A-Za-z0-9]+', ' ', str(text).lower()).strip()\n",
    "    # text = re.sub(\"/'+/g\", ' ', text)\n",
    "    return text"
   ]
  },
  {
   "cell_type": "code",
   "execution_count": 20,
   "id": "elder-redhead",
   "metadata": {
    "execution": {
     "iopub.execute_input": "2021-06-10T13:22:34.501002Z",
     "iopub.status.busy": "2021-06-10T13:22:34.500137Z",
     "iopub.status.idle": "2021-06-10T13:23:32.566817Z",
     "shell.execute_reply": "2021-06-10T13:23:32.566175Z",
     "shell.execute_reply.started": "2021-06-10T13:10:45.562829Z"
    },
    "papermill": {
     "duration": 58.13876,
     "end_time": "2021-06-10T13:23:32.566992",
     "exception": false,
     "start_time": "2021-06-10T13:22:34.428232",
     "status": "completed"
    },
    "tags": []
   },
   "outputs": [
    {
     "name": "stderr",
     "output_type": "stream",
     "text": [
      "/opt/conda/lib/python3.7/site-packages/tqdm/std.py:702: FutureWarning: The Panel class is removed from pandas. Accessing it from the top-level namespace will also be removed in the next version\n",
      "  \n"
     ]
    },
    {
     "data": {
      "application/vnd.jupyter.widget-view+json": {
       "model_id": "2cc496f4f5254f0db7db21b2307d6443",
       "version_major": 2,
       "version_minor": 0
      },
      "text/plain": [
       "HBox(children=(FloatProgress(value=0.0, max=19661.0), HTML(value='')))"
      ]
     },
     "metadata": {},
     "output_type": "display_data"
    },
    {
     "name": "stdout",
     "output_type": "stream",
     "text": [
      "\n"
     ]
    },
    {
     "data": {
      "application/vnd.jupyter.widget-view+json": {
       "model_id": "324d6ab5da354bb08cfbbf22dcbe2301",
       "version_major": 2,
       "version_minor": 0
      },
      "text/plain": [
       "HBox(children=(FloatProgress(value=0.0, max=4.0), HTML(value='')))"
      ]
     },
     "metadata": {},
     "output_type": "display_data"
    },
    {
     "name": "stdout",
     "output_type": "stream",
     "text": [
      "\n"
     ]
    }
   ],
   "source": [
    "if BASELINE_HELPING or ALL_BLENDED:\n",
    "    tqdm.pandas()\n",
    "\n",
    "    train['text'] = train['Id'].progress_apply(read_append_return)\n",
    "\n",
    "    if not COMPUTE_CV:\n",
    "        sample_submission['text'] = sample_submission['Id'].progress_apply(partial(read_append_return, train_files_path=test_files_path))\n",
    "\n",
    "    train.head()"
   ]
  },
  {
   "cell_type": "code",
   "execution_count": 21,
   "id": "rental-proceeding",
   "metadata": {
    "execution": {
     "iopub.execute_input": "2021-06-10T13:23:32.700903Z",
     "iopub.status.busy": "2021-06-10T13:23:32.700046Z",
     "iopub.status.idle": "2021-06-10T13:26:46.312468Z",
     "shell.execute_reply": "2021-06-10T13:26:46.311387Z",
     "shell.execute_reply.started": "2021-06-10T13:11:53.583393Z"
    },
    "papermill": {
     "duration": 193.688556,
     "end_time": "2021-06-10T13:26:46.312646",
     "exception": false,
     "start_time": "2021-06-10T13:23:32.624090",
     "status": "completed"
    },
    "tags": []
   },
   "outputs": [
    {
     "data": {
      "application/vnd.jupyter.widget-view+json": {
       "model_id": "48c09dcce5d94bfb87301d9d3c66d1d2",
       "version_major": 2,
       "version_minor": 0
      },
      "text/plain": [
       "HBox(children=(FloatProgress(value=0.0, max=19661.0), HTML(value='')))"
      ]
     },
     "metadata": {},
     "output_type": "display_data"
    },
    {
     "name": "stdout",
     "output_type": "stream",
     "text": [
      "\n"
     ]
    }
   ],
   "source": [
    "if BASELINE_HELPING or ALL_BLENDED:\n",
    "    tqdm.pandas()\n",
    "    \n",
    "    train['text'] = train['text'].progress_apply(text_cleaning)"
   ]
  },
  {
   "cell_type": "code",
   "execution_count": 22,
   "id": "integrated-madonna",
   "metadata": {
    "execution": {
     "iopub.execute_input": "2021-06-10T13:26:46.435885Z",
     "iopub.status.busy": "2021-06-10T13:26:46.435157Z",
     "iopub.status.idle": "2021-06-10T13:26:46.752171Z",
     "shell.execute_reply": "2021-06-10T13:26:46.751521Z",
     "shell.execute_reply.started": "2021-06-10T13:15:07.750623Z"
    },
    "papermill": {
     "duration": 0.382883,
     "end_time": "2021-06-10T13:26:46.752333",
     "exception": false,
     "start_time": "2021-06-10T13:26:46.369450",
     "status": "completed"
    },
    "tags": []
   },
   "outputs": [
    {
     "name": "stdout",
     "output_type": "stream",
     "text": [
      "len(temp_1) = 130\n",
      "len(temp_2) = 45\n",
      "len(temp_3) = 130\n",
      "len(existing_labels) = 180\n"
     ]
    },
    {
     "data": {
      "application/vnd.jupyter.widget-view+json": {
       "model_id": "e7369447e3ba4863894b818b8f8e770a",
       "version_major": 2,
       "version_minor": 0
      },
      "text/plain": [
       "HBox(children=(FloatProgress(value=1.0, bar_style='info', layout=Layout(width='20px'), max=1.0), HTML(value=''…"
      ]
     },
     "metadata": {},
     "output_type": "display_data"
    },
    {
     "name": "stdout",
     "output_type": "stream",
     "text": [
      "\n"
     ]
    }
   ],
   "source": [
    "if BASELINE_HELPING or ALL_BLENDED:\n",
    "    temp_1 = [x.lower() for x in train['dataset_label'].unique()]\n",
    "    temp_2 = [x.lower() for x in train['dataset_title'].unique()]\n",
    "    temp_3 = [x.lower() for x in train['cleaned_label'].unique()]\n",
    "\n",
    "    existing_labels = set(temp_1 + temp_2 + temp_3)\n",
    "\n",
    "    print(f'len(temp_1) = {len(temp_1)}')\n",
    "    print(f'len(temp_2) = {len(temp_2)}')\n",
    "    print(f'len(temp_3) = {len(temp_3)}')\n",
    "    print(f'len(existing_labels) = {len(existing_labels)}')\n",
    "\n",
    "    id_list = []\n",
    "    lables_list = []\n",
    "    for index, row in tqdm(sample_submission.iterrows()):\n",
    "        sample_text = row['text']\n",
    "        row_id = row['Id']\n",
    "        temp_df = train[train['text'] == text_cleaning(sample_text)]\n",
    "        cleaned_labels = temp_df['cleaned_label'].to_list()\n",
    "\n",
    "        for known_label in existing_labels:\n",
    "            if known_label in sample_text.lower():\n",
    "                cleaned_labels.append(clean_text(known_label))\n",
    "\n",
    "        cleaned_labels = [clean_text(x) for x in cleaned_labels]\n",
    "        cleaned_labels = set(cleaned_labels)\n",
    "        lables_list.append('|'.join(cleaned_labels))\n",
    "        id_list.append(row_id)"
   ]
  },
  {
   "cell_type": "markdown",
   "id": "united-feature",
   "metadata": {
    "papermill": {
     "duration": 0.057618,
     "end_time": "2021-06-10T13:26:46.867336",
     "exception": false,
     "start_time": "2021-06-10T13:26:46.809718",
     "status": "completed"
    },
    "tags": []
   },
   "source": [
    "# T5 inference"
   ]
  },
  {
   "cell_type": "code",
   "execution_count": 23,
   "id": "thick-british",
   "metadata": {
    "execution": {
     "iopub.execute_input": "2021-06-10T13:26:46.989853Z",
     "iopub.status.busy": "2021-06-10T13:26:46.989324Z",
     "iopub.status.idle": "2021-06-10T13:26:48.044361Z",
     "shell.execute_reply": "2021-06-10T13:26:48.043387Z",
     "shell.execute_reply.started": "2021-06-10T13:15:08.085873Z"
    },
    "papermill": {
     "duration": 1.120393,
     "end_time": "2021-06-10T13:26:48.044496",
     "exception": false,
     "start_time": "2021-06-10T13:26:46.924103",
     "status": "completed"
    },
    "tags": []
   },
   "outputs": [],
   "source": [
    "import warnings\n",
    "warnings.filterwarnings('ignore', category=DeprecationWarning)\n",
    "warnings.filterwarnings('ignore', category=FutureWarning)\n",
    "\n",
    "import os\n",
    "import re\n",
    "import json\n",
    "import glob\n",
    "from collections import defaultdict\n",
    "from functools import partial\n",
    "from pathlib import Path\n",
    "import random\n",
    "import time\n",
    "\n",
    "import pandas as pd\n",
    "import numpy as np\n",
    "\n",
    "import matplotlib.pyplot as plt\n",
    "\n",
    "from tqdm.autonotebook import tqdm\n",
    "\n",
    "import torch\n",
    "from torch.utils.data import Dataset, DataLoader\n",
    "import pytorch_lightning as pl\n",
    "from pytorch_lightning.callbacks import ModelCheckpoint\n",
    "from sklearn.model_selection import train_test_split\n",
    "\n",
    "from transformers import (\n",
    "    AdamW,\n",
    "    T5ForConditionalGeneration,\n",
    "    T5Tokenizer,\n",
    "    get_linear_schedule_with_warmup\n",
    ")\n",
    "\n",
    "%matplotlib inline"
   ]
  },
  {
   "cell_type": "code",
   "execution_count": 24,
   "id": "undefined-contrast",
   "metadata": {
    "execution": {
     "iopub.execute_input": "2021-06-10T13:26:48.164214Z",
     "iopub.status.busy": "2021-06-10T13:26:48.163387Z",
     "iopub.status.idle": "2021-06-10T13:26:48.167226Z",
     "shell.execute_reply": "2021-06-10T13:26:48.166812Z",
     "shell.execute_reply.started": "2021-06-10T13:15:09.051339Z"
    },
    "papermill": {
     "duration": 0.065204,
     "end_time": "2021-06-10T13:26:48.167336",
     "exception": false,
     "start_time": "2021-06-10T13:26:48.102132",
     "status": "completed"
    },
    "tags": []
   },
   "outputs": [
    {
     "data": {
      "text/plain": [
       "42"
      ]
     },
     "execution_count": 24,
     "metadata": {},
     "output_type": "execute_result"
    }
   ],
   "source": [
    "pl.seed_everything(42)"
   ]
  },
  {
   "cell_type": "code",
   "execution_count": 25,
   "id": "bibliographic-client",
   "metadata": {
    "execution": {
     "iopub.execute_input": "2021-06-10T13:26:48.288208Z",
     "iopub.status.busy": "2021-06-10T13:26:48.287258Z",
     "iopub.status.idle": "2021-06-10T13:26:48.340879Z",
     "shell.execute_reply": "2021-06-10T13:26:48.340422Z",
     "shell.execute_reply.started": "2021-06-10T13:15:09.063489Z"
    },
    "papermill": {
     "duration": 0.117061,
     "end_time": "2021-06-10T13:26:48.341038",
     "exception": false,
     "start_time": "2021-06-10T13:26:48.223977",
     "status": "completed"
    },
    "tags": []
   },
   "outputs": [],
   "source": [
    "#kaggle 버전\n",
    "\n",
    "train_df = pd.read_csv('../input/coleridgeinitiative-show-us-the-data/train.csv')\n",
    "train_files_path = '../input/coleridgeinitiative-show-us-the-data/train'\n",
    "test_files_path = '../input/coleridgeinitiative-show-us-the-data/test'\n"
   ]
  },
  {
   "cell_type": "code",
   "execution_count": 26,
   "id": "connected-struggle",
   "metadata": {
    "execution": {
     "iopub.execute_input": "2021-06-10T13:26:48.463446Z",
     "iopub.status.busy": "2021-06-10T13:26:48.462680Z",
     "iopub.status.idle": "2021-06-10T13:26:48.465516Z",
     "shell.execute_reply": "2021-06-10T13:26:48.465094Z",
     "shell.execute_reply.started": "2021-06-10T13:15:09.123227Z"
    },
    "papermill": {
     "duration": 0.067266,
     "end_time": "2021-06-10T13:26:48.465633",
     "exception": false,
     "start_time": "2021-06-10T13:26:48.398367",
     "status": "completed"
    },
    "tags": []
   },
   "outputs": [],
   "source": [
    "#해당 id에 해당하는 text를 불러오는 함수 (json파일에서)\n",
    "def read_append_return(filename, train_files_path=train_files_path, output='text'):\n",
    "    \"\"\"\n",
    "    Function to read json file and then return the text data from them and append to the dataframe\n",
    "    \"\"\"\n",
    "    json_path = os.path.join(train_files_path, (filename+'.json'))\n",
    "    headings = []\n",
    "    contents = []\n",
    "    combined = []\n",
    "    with open(json_path, 'r') as f:\n",
    "        json_decode = json.load(f)\n",
    "        for data in json_decode:\n",
    "            headings.append(data.get('section_title'))\n",
    "            contents.append(data.get('text'))\n",
    "            combined.append(data.get('section_title'))\n",
    "            combined.append(data.get('text'))\n",
    "    \n",
    "    tmp_df = pd.DataFrame([headings, contents]).T\n",
    "    tmp_df.columns = (\"section_title\", \"text\")\n",
    "    \n",
    "    return tmp_df"
   ]
  },
  {
   "cell_type": "code",
   "execution_count": 27,
   "id": "armed-shareware",
   "metadata": {
    "execution": {
     "iopub.execute_input": "2021-06-10T13:26:48.602043Z",
     "iopub.status.busy": "2021-06-10T13:26:48.601238Z",
     "iopub.status.idle": "2021-06-10T13:27:50.321984Z",
     "shell.execute_reply": "2021-06-10T13:27:50.321356Z",
     "shell.execute_reply.started": "2021-06-10T13:15:09.132195Z"
    },
    "papermill": {
     "duration": 61.799702,
     "end_time": "2021-06-10T13:27:50.322153",
     "exception": false,
     "start_time": "2021-06-10T13:26:48.522451",
     "status": "completed"
    },
    "tags": []
   },
   "outputs": [
    {
     "data": {
      "application/vnd.jupyter.widget-view+json": {
       "model_id": "d4c30ac7b78c4de5b54a19b5a59d632e",
       "version_major": 2,
       "version_minor": 0
      },
      "text/plain": [
       "HBox(children=(FloatProgress(value=0.0, max=19661.0), HTML(value='')))"
      ]
     },
     "metadata": {},
     "output_type": "display_data"
    },
    {
     "name": "stdout",
     "output_type": "stream",
     "text": [
      "\n"
     ]
    }
   ],
   "source": [
    "tqdm.pandas()\n",
    "train_df[\"text\"] = train_df[\"Id\"].progress_apply(read_append_return)"
   ]
  },
  {
   "cell_type": "code",
   "execution_count": 28,
   "id": "settled-continuity",
   "metadata": {
    "execution": {
     "iopub.execute_input": "2021-06-10T13:27:50.498784Z",
     "iopub.status.busy": "2021-06-10T13:27:50.478310Z",
     "iopub.status.idle": "2021-06-10T13:28:26.788269Z",
     "shell.execute_reply": "2021-06-10T13:28:26.787203Z",
     "shell.execute_reply.started": "2021-06-10T13:16:11.381032Z"
    },
    "papermill": {
     "duration": 36.407694,
     "end_time": "2021-06-10T13:28:26.788526",
     "exception": false,
     "start_time": "2021-06-10T13:27:50.380832",
     "status": "completed"
    },
    "tags": []
   },
   "outputs": [],
   "source": [
    "answers = []\n",
    "contexts = []\n",
    "for i in range(len(train_df)):\n",
    "    tmp = train_df.iloc[i]\n",
    "    texts = tmp[\"text\"][\"text\"]\n",
    "    dataset_title = tmp[\"dataset_title\"]\n",
    "    for j in range(len(texts)):\n",
    "        text_j = texts[j]\n",
    "        contexts.append(text_j)\n",
    "        if text_j.find(dataset_title) >= 0:\n",
    "            answers.append(dataset_title)\n",
    "        else:\n",
    "            answers.append(\"None\")\n",
    "\n",
    "df = pd.DataFrame([answers, contexts])\n",
    "df = df.T"
   ]
  },
  {
   "cell_type": "code",
   "execution_count": 29,
   "id": "cordless-turtle",
   "metadata": {
    "execution": {
     "iopub.execute_input": "2021-06-10T13:28:26.984450Z",
     "iopub.status.busy": "2021-06-10T13:28:26.948743Z",
     "iopub.status.idle": "2021-06-10T13:28:53.793283Z",
     "shell.execute_reply": "2021-06-10T13:28:53.792801Z",
     "shell.execute_reply.started": "2021-06-10T13:16:48.283126Z"
    },
    "papermill": {
     "duration": 26.943555,
     "end_time": "2021-06-10T13:28:53.793420",
     "exception": false,
     "start_time": "2021-06-10T13:28:26.849865",
     "status": "completed"
    },
    "tags": []
   },
   "outputs": [],
   "source": [
    "remove_idx = []\n",
    "for i in range(len(df)):\n",
    "    tmp = df.iloc[i]\n",
    "    if tmp[0] != \"None\":\n",
    "        continue\n",
    "    else:\n",
    "        remove_idx.append(i)"
   ]
  },
  {
   "cell_type": "code",
   "execution_count": 30,
   "id": "twelve-proposal",
   "metadata": {
    "execution": {
     "iopub.execute_input": "2021-06-10T13:28:53.912020Z",
     "iopub.status.busy": "2021-06-10T13:28:53.911209Z",
     "iopub.status.idle": "2021-06-10T13:28:53.988744Z",
     "shell.execute_reply": "2021-06-10T13:28:53.988305Z",
     "shell.execute_reply.started": "2021-06-10T13:17:15.242305Z"
    },
    "papermill": {
     "duration": 0.137816,
     "end_time": "2021-06-10T13:28:53.988871",
     "exception": false,
     "start_time": "2021-06-10T13:28:53.851055",
     "status": "completed"
    },
    "tags": []
   },
   "outputs": [],
   "source": [
    "df = df.drop(remove_idx).reset_index(drop=True)"
   ]
  },
  {
   "cell_type": "code",
   "execution_count": 31,
   "id": "seeing-socket",
   "metadata": {
    "execution": {
     "iopub.execute_input": "2021-06-10T13:28:54.115813Z",
     "iopub.status.busy": "2021-06-10T13:28:54.115215Z",
     "iopub.status.idle": "2021-06-10T13:28:54.123094Z",
     "shell.execute_reply": "2021-06-10T13:28:54.122550Z",
     "shell.execute_reply.started": "2021-06-10T13:17:15.321388Z"
    },
    "papermill": {
     "duration": 0.07618,
     "end_time": "2021-06-10T13:28:54.123209",
     "exception": false,
     "start_time": "2021-06-10T13:28:54.047029",
     "status": "completed"
    },
    "tags": []
   },
   "outputs": [
    {
     "data": {
      "text/html": [
       "<div>\n",
       "<style scoped>\n",
       "    .dataframe tbody tr th:only-of-type {\n",
       "        vertical-align: middle;\n",
       "    }\n",
       "\n",
       "    .dataframe tbody tr th {\n",
       "        vertical-align: top;\n",
       "    }\n",
       "\n",
       "    .dataframe thead th {\n",
       "        text-align: right;\n",
       "    }\n",
       "</style>\n",
       "<table border=\"1\" class=\"dataframe\">\n",
       "  <thead>\n",
       "    <tr style=\"text-align: right;\">\n",
       "      <th></th>\n",
       "      <th>answer_text</th>\n",
       "      <th>context</th>\n",
       "      <th>question</th>\n",
       "    </tr>\n",
       "  </thead>\n",
       "  <tbody>\n",
       "    <tr>\n",
       "      <th>0</th>\n",
       "      <td>National Education Longitudinal Study</td>\n",
       "      <td>This study used data from the National Educati...</td>\n",
       "      <td>what is the dataset?</td>\n",
       "    </tr>\n",
       "    <tr>\n",
       "      <th>1</th>\n",
       "      <td>National Education Longitudinal Study</td>\n",
       "      <td>Any college degree attainment The study author...</td>\n",
       "      <td>what is the dataset?</td>\n",
       "    </tr>\n",
       "    <tr>\n",
       "      <th>2</th>\n",
       "      <td>National Education Longitudinal Study</td>\n",
       "      <td>The study author collected information on bach...</td>\n",
       "      <td>what is the dataset?</td>\n",
       "    </tr>\n",
       "    <tr>\n",
       "      <th>3</th>\n",
       "      <td>National Education Longitudinal Study</td>\n",
       "      <td>Dropping out of high school is not necessarily...</td>\n",
       "      <td>what is the dataset?</td>\n",
       "    </tr>\n",
       "    <tr>\n",
       "      <th>4</th>\n",
       "      <td>National Education Longitudinal Study</td>\n",
       "      <td>There are a number of ways to define dropouts....</td>\n",
       "      <td>what is the dataset?</td>\n",
       "    </tr>\n",
       "  </tbody>\n",
       "</table>\n",
       "</div>"
      ],
      "text/plain": [
       "                             answer_text  \\\n",
       "0  National Education Longitudinal Study   \n",
       "1  National Education Longitudinal Study   \n",
       "2  National Education Longitudinal Study   \n",
       "3  National Education Longitudinal Study   \n",
       "4  National Education Longitudinal Study   \n",
       "\n",
       "                                             context              question  \n",
       "0  This study used data from the National Educati...  what is the dataset?  \n",
       "1  Any college degree attainment The study author...  what is the dataset?  \n",
       "2  The study author collected information on bach...  what is the dataset?  \n",
       "3  Dropping out of high school is not necessarily...  what is the dataset?  \n",
       "4  There are a number of ways to define dropouts....  what is the dataset?  "
      ]
     },
     "execution_count": 31,
     "metadata": {},
     "output_type": "execute_result"
    }
   ],
   "source": [
    "#question col을 추가한 새로운 df 만들기\n",
    "df[\"question\"] = pd.Series([\"what is the dataset?\"]*len(df))\n",
    "df.columns = ['answer_text', 'context', 'question'] # column 이름 바꾸기\n",
    "df.head()"
   ]
  },
  {
   "cell_type": "markdown",
   "id": "upper-trance",
   "metadata": {
    "papermill": {
     "duration": 0.058302,
     "end_time": "2021-06-10T13:28:54.239880",
     "exception": false,
     "start_time": "2021-06-10T13:28:54.181578",
     "status": "completed"
    },
    "tags": []
   },
   "source": [
    "Tokenizer"
   ]
  },
  {
   "cell_type": "code",
   "execution_count": 32,
   "id": "behind-singer",
   "metadata": {
    "execution": {
     "iopub.execute_input": "2021-06-10T13:28:54.360655Z",
     "iopub.status.busy": "2021-06-10T13:28:54.360174Z",
     "iopub.status.idle": "2021-06-10T13:28:54.474556Z",
     "shell.execute_reply": "2021-06-10T13:28:54.473263Z",
     "shell.execute_reply.started": "2021-06-10T13:17:15.346900Z"
    },
    "papermill": {
     "duration": 0.176069,
     "end_time": "2021-06-10T13:28:54.474683",
     "exception": false,
     "start_time": "2021-06-10T13:28:54.298614",
     "status": "completed"
    },
    "tags": []
   },
   "outputs": [],
   "source": [
    "tokenizer = T5Tokenizer.from_pretrained(\"../input/t5base\")\n",
    "#../input/t5trainbysh\n",
    "#../input/t5base"
   ]
  },
  {
   "cell_type": "code",
   "execution_count": 33,
   "id": "israeli-matter",
   "metadata": {
    "execution": {
     "iopub.execute_input": "2021-06-10T13:28:54.602499Z",
     "iopub.status.busy": "2021-06-10T13:28:54.601408Z",
     "iopub.status.idle": "2021-06-10T13:28:54.612140Z",
     "shell.execute_reply": "2021-06-10T13:28:54.611505Z",
     "shell.execute_reply.started": "2021-06-10T13:17:15.448634Z"
    },
    "papermill": {
     "duration": 0.079126,
     "end_time": "2021-06-10T13:28:54.612293",
     "exception": false,
     "start_time": "2021-06-10T13:28:54.533167",
     "status": "completed"
    },
    "tags": []
   },
   "outputs": [
    {
     "name": "stdout",
     "output_type": "stream",
     "text": [
      "check the tokenized sample\n",
      "{'input_ids': [100, 810, 261, 331, 45, 8, 868, 2855, 3230, 155, 76, 26, 10270, 9165, 41, 4171, 7600, 10, 4060, 61, 12, 5443, 8, 1951, 13, 7013, 17938, 1356, 21, 306, 496, 481, 30, 1900, 1952, 14568, 297, 5, 37, 810, 92, 2196, 823, 8, 11737, 13, 7013, 17938, 1356, 130, 315, 21, 166, 3381, 1900, 481, 3, 8911, 481, 3, 2544, 1362, 141, 5526, 44, 709, 128, 1900, 5, 86, 811, 6, 3, 9, 3, 29672, 1693, 2279, 30, 8, 1113, 13, 315, 6201, 13, 7013, 17938, 503, 18, 14867, 11, 1900, 1952, 14568, 297, 5, 17338, 17938, 1356, 462, 1900, 18, 4563, 1036, 2704, 21, 306, 496, 481, 5, 37, 1356, 462, 1900, 2996, 11, 87, 127, 8, 1004, 12, 3807, 1900, 11893, 21, 481, 298, 341, 16, 306, 496, 5, 37, 7897, 563, 16, 8, 810, 47, 9418, 26, 13, 3, 4171, 7600, 3008, 113, 5526, 3, 9, 442, 12091, 1208, 496, 11, 113, 10627, 16, 3, 9, 7013, 17938, 478, 298, 16, 306, 496, 41, 29, 3274, 505, 2079, 137, 37, 810, 2291, 261, 813, 3801, 485, 2604, 8150, 2254, 12, 482, 3, 9, 4993, 563, 13, 3, 4171, 7600, 3008, 113, 92, 5526, 3, 9, 442, 12091, 1208, 496, 68, 113, 410, 59, 3716, 16, 3, 9, 7013, 17938, 478, 16, 306, 496, 41, 29, 3274, 7973, 27749, 137, 1], 'attention_mask': [1, 1, 1, 1, 1, 1, 1, 1, 1, 1, 1, 1, 1, 1, 1, 1, 1, 1, 1, 1, 1, 1, 1, 1, 1, 1, 1, 1, 1, 1, 1, 1, 1, 1, 1, 1, 1, 1, 1, 1, 1, 1, 1, 1, 1, 1, 1, 1, 1, 1, 1, 1, 1, 1, 1, 1, 1, 1, 1, 1, 1, 1, 1, 1, 1, 1, 1, 1, 1, 1, 1, 1, 1, 1, 1, 1, 1, 1, 1, 1, 1, 1, 1, 1, 1, 1, 1, 1, 1, 1, 1, 1, 1, 1, 1, 1, 1, 1, 1, 1, 1, 1, 1, 1, 1, 1, 1, 1, 1, 1, 1, 1, 1, 1, 1, 1, 1, 1, 1, 1, 1, 1, 1, 1, 1, 1, 1, 1, 1, 1, 1, 1, 1, 1, 1, 1, 1, 1, 1, 1, 1, 1, 1, 1, 1, 1, 1, 1, 1, 1, 1, 1, 1, 1, 1, 1, 1, 1, 1, 1, 1, 1, 1, 1, 1, 1, 1, 1, 1, 1, 1, 1, 1, 1, 1, 1, 1, 1, 1, 1, 1, 1, 1, 1, 1, 1, 1, 1, 1, 1, 1, 1, 1, 1, 1, 1, 1, 1, 1, 1, 1, 1, 1, 1, 1, 1, 1, 1, 1, 1, 1, 1, 1, 1, 1, 1, 1, 1, 1, 1, 1, 1, 1, 1]}\n",
      "\n",
      "\n",
      "token length:  224\n"
     ]
    }
   ],
   "source": [
    "sample_text = df[[\"context\"]].iloc[0]\n",
    "sample_encoding = tokenizer(sample_text[0])\n",
    "print(\"check the tokenized sample\")\n",
    "print(sample_encoding)\n",
    "print()\n",
    "print()\n",
    "print(\"token length: \",len(sample_encoding[\"input_ids\"]))"
   ]
  },
  {
   "cell_type": "code",
   "execution_count": 34,
   "id": "exotic-sauce",
   "metadata": {
    "execution": {
     "iopub.execute_input": "2021-06-10T13:28:54.745003Z",
     "iopub.status.busy": "2021-06-10T13:28:54.744337Z",
     "iopub.status.idle": "2021-06-10T13:28:54.747294Z",
     "shell.execute_reply": "2021-06-10T13:28:54.746726Z",
     "shell.execute_reply.started": "2021-06-10T13:17:15.463120Z"
    },
    "papermill": {
     "duration": 0.071027,
     "end_time": "2021-06-10T13:28:54.747407",
     "exception": false,
     "start_time": "2021-06-10T13:28:54.676380",
     "status": "completed"
    },
    "tags": []
   },
   "outputs": [],
   "source": [
    "class KaggleDataset(Dataset):\n",
    "    def __init__(self, data, tokenizer, source_max_token_len=512, target_max_token_len=32):\n",
    "        self.tokenizer = tokenizer\n",
    "        self.data = data\n",
    "        self.source_max_token_len = source_max_token_len\n",
    "        self.target_max_token_len = target_max_token_len\n",
    "        \n",
    "    def __len__(self):\n",
    "        return len(self.data)\n",
    "    \n",
    "    def __getitem__(self, index):\n",
    "        data_row = self.data.iloc[index]\n",
    "        \n",
    "        source_encoding = tokenizer(\n",
    "            data_row[\"question\"],\n",
    "            data_row[\"context\"],\n",
    "            max_length=self.source_max_token_len,\n",
    "            padding=\"max_length\",\n",
    "            truncation=\"only_second\",\n",
    "            return_attention_mask=True,\n",
    "            add_special_tokens=True,\n",
    "            return_tensors=\"pt\"\n",
    "        )\n",
    "        \n",
    "        target_encoding = tokenizer(\n",
    "            data_row[\"answer_text\"],\n",
    "            max_length=self.target_max_token_len,\n",
    "            padding=\"max_length\",\n",
    "            truncation=True,\n",
    "            return_attention_mask=True,\n",
    "            add_special_tokens=True,\n",
    "            return_tensors=\"pt\"\n",
    "        )\n",
    "        \n",
    "        labels = target_encoding[\"input_ids\"]\n",
    "        labels[labels == 0] = -100  # padding token -100으로 처리 -> 아마 학습때 신경 안쓰려고 처리하는 값\n",
    "        \n",
    "        return dict(\n",
    "            question=data_row[\"question\"],\n",
    "            context=data_row[\"context\"],\n",
    "            answer_text=data_row[\"answer_text\"],\n",
    "            input_ids=source_encoding[\"input_ids\"].flatten(),\n",
    "            attention_mask=source_encoding[\"attention_mask\"].flatten(),\n",
    "            labels=labels.flatten()\n",
    "        )"
   ]
  },
  {
   "cell_type": "code",
   "execution_count": 35,
   "id": "tutorial-university",
   "metadata": {
    "execution": {
     "iopub.execute_input": "2021-06-10T13:28:54.870885Z",
     "iopub.status.busy": "2021-06-10T13:28:54.870071Z",
     "iopub.status.idle": "2021-06-10T13:28:55.052100Z",
     "shell.execute_reply": "2021-06-10T13:28:55.051403Z",
     "shell.execute_reply.started": "2021-06-10T13:17:15.475521Z"
    },
    "papermill": {
     "duration": 0.244729,
     "end_time": "2021-06-10T13:28:55.052286",
     "exception": false,
     "start_time": "2021-06-10T13:28:54.807557",
     "status": "completed"
    },
    "tags": []
   },
   "outputs": [],
   "source": [
    "train_df, val_df = train_test_split(df, test_size = 0.1)"
   ]
  },
  {
   "cell_type": "code",
   "execution_count": 36,
   "id": "activated-integer",
   "metadata": {
    "execution": {
     "iopub.execute_input": "2021-06-10T13:28:55.186293Z",
     "iopub.status.busy": "2021-06-10T13:28:55.185495Z",
     "iopub.status.idle": "2021-06-10T13:28:55.188274Z",
     "shell.execute_reply": "2021-06-10T13:28:55.187848Z",
     "shell.execute_reply.started": "2021-06-10T13:17:15.676397Z"
    },
    "papermill": {
     "duration": 0.076386,
     "end_time": "2021-06-10T13:28:55.188386",
     "exception": false,
     "start_time": "2021-06-10T13:28:55.112000",
     "status": "completed"
    },
    "tags": []
   },
   "outputs": [],
   "source": [
    "class KaggleDataModule(pl.LightningDataModule):\n",
    "\n",
    "    def __init__(\n",
    "        self,\n",
    "        train_df: pd.DataFrame,\n",
    "        test_df: pd.DataFrame,\n",
    "        tokenizer: T5Tokenizer,\n",
    "        batch_size: int = 8,\n",
    "        source_max_token_len: int = 396,\n",
    "        target_max_token_len: int = 32\n",
    "    ):\n",
    "        super().__init__()\n",
    "        self.batch_size = batch_size\n",
    "        self.train_df = train_df\n",
    "        self.test_df = test_df\n",
    "        self.tokenizer = tokenizer\n",
    "        self.source_max_token_len = source_max_token_len\n",
    "        self.target_max_token_len = target_max_token_len\n",
    "\n",
    "    def setup(self):\n",
    "        self.train_dataset = KaggleDataset(\n",
    "            self.train_df,\n",
    "            self.tokenizer,\n",
    "            self.source_max_token_len,\n",
    "            self.target_max_token_len\n",
    "        )\n",
    "\n",
    "        self.test_dataset = KaggleDataset(\n",
    "            self.test_df,\n",
    "            self.tokenizer,\n",
    "            self.source_max_token_len,\n",
    "            self.target_max_token_len\n",
    "        )\n",
    "\n",
    "    def train_dataloader(self):\n",
    "        return DataLoader(\n",
    "            self.train_dataset,\n",
    "            batch_size=self.batch_size,\n",
    "            shuffle=True,\n",
    "            num_workers=4\n",
    "        )\n",
    "    \n",
    "    def val_dataloader(self):\n",
    "        return DataLoader(\n",
    "            self.test_dataset,\n",
    "            batch_size=self.batch_size,\n",
    "            num_workers=4\n",
    "        )\n",
    "\n",
    "    def test_dataloader(self):\n",
    "        return DataLoader(\n",
    "            self.test_dataset,\n",
    "            batch_size=self.batch_size,\n",
    "            num_workers=4\n",
    "        )"
   ]
  },
  {
   "cell_type": "code",
   "execution_count": 37,
   "id": "welsh-castle",
   "metadata": {
    "execution": {
     "iopub.execute_input": "2021-06-10T13:28:55.308392Z",
     "iopub.status.busy": "2021-06-10T13:28:55.307751Z",
     "iopub.status.idle": "2021-06-10T13:28:55.310761Z",
     "shell.execute_reply": "2021-06-10T13:28:55.310348Z",
     "shell.execute_reply.started": "2021-06-10T13:17:15.689421Z"
    },
    "papermill": {
     "duration": 0.06438,
     "end_time": "2021-06-10T13:28:55.310863",
     "exception": false,
     "start_time": "2021-06-10T13:28:55.246483",
     "status": "completed"
    },
    "tags": []
   },
   "outputs": [],
   "source": [
    "BATCH_SIZE = 8\n",
    "N_EPOCHS = 12\n",
    "\n",
    "data_module = KaggleDataModule(train_df, val_df, tokenizer, batch_size=BATCH_SIZE)\n",
    "data_module.setup()"
   ]
  },
  {
   "cell_type": "code",
   "execution_count": 38,
   "id": "laughing-posting",
   "metadata": {
    "execution": {
     "iopub.execute_input": "2021-06-10T13:28:55.436144Z",
     "iopub.status.busy": "2021-06-10T13:28:55.435424Z",
     "iopub.status.idle": "2021-06-10T13:28:55.438340Z",
     "shell.execute_reply": "2021-06-10T13:28:55.437940Z",
     "shell.execute_reply.started": "2021-06-10T13:17:15.703046Z"
    },
    "papermill": {
     "duration": 0.069521,
     "end_time": "2021-06-10T13:28:55.438447",
     "exception": false,
     "start_time": "2021-06-10T13:28:55.368926",
     "status": "completed"
    },
    "tags": []
   },
   "outputs": [],
   "source": [
    "class KaggleModel(pl.LightningModule): \n",
    "\n",
    "    def __init__(self):\n",
    "        super().__init__()\n",
    "        self.model = T5ForConditionalGeneration.from_pretrained(\"../input/t5base/\", return_dict = True)\n",
    "\n",
    "    def forward(self, input_ids, attention_mask, labels=None):\n",
    "        output = self.model(\n",
    "            input_ids=input_ids,\n",
    "            attention_mask=attention_mask,\n",
    "            labels=labels\n",
    "        )\n",
    "\n",
    "        return output.loss, output.logits\n",
    "\n",
    "\n",
    "    def training_step(self, batch, batch_idx):\n",
    "        input_ids = batch[\"input_ids\"]\n",
    "        attention_mask = batch[\"attention_mask\"]\n",
    "        labels = batch[\"labels\"]\n",
    "        loss, outputs = self(input_ids, attention_mask, labels)\n",
    "        self.log(\"train_loss\", loss, prog_bar=True, logger=True)\n",
    "        return loss\n",
    "\n",
    "    def validation_step(self, batch, batch_idx):\n",
    "        input_ids = batch[\"input_ids\"]\n",
    "        attention_mask = batch[\"attention_mask\"]\n",
    "        labels = batch[\"labels\"]\n",
    "        loss, outputs = self(input_ids, attention_mask, labels)\n",
    "        self.log(\"val_loss\", loss, prog_bar=True, logger=True)\n",
    "        return loss\n",
    "\n",
    "    def test_step(self, batch, batch_idx):\n",
    "        input_ids = batch[\"input_ids\"]\n",
    "        attention_mask = batch[\"attention_mask\"]\n",
    "        labels = batch[\"labels\"]\n",
    "        loss, outputs = self(input_ids, attention_mask, labels)\n",
    "        self.log(\"test_loss\", loss, prog_bar=True, logger=True)\n",
    "        return loss\n",
    "\n",
    "    def configure_optimizers(self):\n",
    "        return AdamW(self.parameters(), lr=0.0001)"
   ]
  },
  {
   "cell_type": "code",
   "execution_count": 39,
   "id": "better-mexico",
   "metadata": {
    "execution": {
     "iopub.execute_input": "2021-06-10T13:28:55.557169Z",
     "iopub.status.busy": "2021-06-10T13:28:55.556636Z",
     "iopub.status.idle": "2021-06-10T13:29:10.069572Z",
     "shell.execute_reply": "2021-06-10T13:29:10.069114Z",
     "shell.execute_reply.started": "2021-06-10T13:17:15.715839Z"
    },
    "papermill": {
     "duration": 14.573636,
     "end_time": "2021-06-10T13:29:10.069705",
     "exception": false,
     "start_time": "2021-06-10T13:28:55.496069",
     "status": "completed"
    },
    "tags": []
   },
   "outputs": [],
   "source": [
    "model = KaggleModel()"
   ]
  },
  {
   "cell_type": "markdown",
   "id": "formed-consultancy",
   "metadata": {
    "papermill": {
     "duration": 0.058359,
     "end_time": "2021-06-10T13:29:10.187044",
     "exception": false,
     "start_time": "2021-06-10T13:29:10.128685",
     "status": "completed"
    },
    "tags": []
   },
   "source": [
    "Inference"
   ]
  },
  {
   "cell_type": "code",
   "execution_count": 40,
   "id": "actual-arrival",
   "metadata": {
    "execution": {
     "iopub.execute_input": "2021-06-10T13:29:10.307717Z",
     "iopub.status.busy": "2021-06-10T13:29:10.307203Z",
     "iopub.status.idle": "2021-06-10T13:29:10.312923Z",
     "shell.execute_reply": "2021-06-10T13:29:10.312499Z",
     "shell.execute_reply.started": "2021-06-10T13:17:34.517951Z"
    },
    "papermill": {
     "duration": 0.067858,
     "end_time": "2021-06-10T13:29:10.313035",
     "exception": false,
     "start_time": "2021-06-10T13:29:10.245177",
     "status": "completed"
    },
    "tags": []
   },
   "outputs": [
    {
     "data": {
      "text/plain": [
       "device(type='cuda', index=0)"
      ]
     },
     "execution_count": 40,
     "metadata": {},
     "output_type": "execute_result"
    }
   ],
   "source": [
    "device = torch.device(\"cuda:0\" if torch.cuda.is_available() else \"cpu\")\n",
    "device"
   ]
  },
  {
   "cell_type": "code",
   "execution_count": 41,
   "id": "fatty-senegal",
   "metadata": {
    "execution": {
     "iopub.execute_input": "2021-06-10T13:29:10.432990Z",
     "iopub.status.busy": "2021-06-10T13:29:10.432480Z",
     "iopub.status.idle": "2021-06-10T13:29:42.805117Z",
     "shell.execute_reply": "2021-06-10T13:29:42.804622Z",
     "shell.execute_reply.started": "2021-06-10T13:17:34.528806Z"
    },
    "papermill": {
     "duration": 32.434227,
     "end_time": "2021-06-10T13:29:42.805259",
     "exception": false,
     "start_time": "2021-06-10T13:29:10.371032",
     "status": "completed"
    },
    "tags": []
   },
   "outputs": [],
   "source": [
    "trained_model = KaggleModel.load_from_checkpoint(\"../input/t5trainbysh/best-checkpoint.ckpt\").to(device)"
   ]
  },
  {
   "cell_type": "code",
   "execution_count": 42,
   "id": "cooperative-kingston",
   "metadata": {
    "execution": {
     "iopub.execute_input": "2021-06-10T13:29:42.933260Z",
     "iopub.status.busy": "2021-06-10T13:29:42.932588Z",
     "iopub.status.idle": "2021-06-10T13:29:42.935993Z",
     "shell.execute_reply": "2021-06-10T13:29:42.936368Z",
     "shell.execute_reply.started": "2021-06-10T13:18:11.219387Z"
    },
    "papermill": {
     "duration": 0.072119,
     "end_time": "2021-06-10T13:29:42.936496",
     "exception": false,
     "start_time": "2021-06-10T13:29:42.864377",
     "status": "completed"
    },
    "tags": []
   },
   "outputs": [],
   "source": [
    "trained_model.freeze()"
   ]
  },
  {
   "cell_type": "code",
   "execution_count": 43,
   "id": "fifty-comment",
   "metadata": {
    "execution": {
     "iopub.execute_input": "2021-06-10T13:29:43.060565Z",
     "iopub.status.busy": "2021-06-10T13:29:43.060079Z",
     "iopub.status.idle": "2021-06-10T13:29:43.071988Z",
     "shell.execute_reply": "2021-06-10T13:29:43.071529Z",
     "shell.execute_reply.started": "2021-06-10T13:18:11.234191Z"
    },
    "papermill": {
     "duration": 0.07758,
     "end_time": "2021-06-10T13:29:43.072134",
     "exception": false,
     "start_time": "2021-06-10T13:29:42.994554",
     "status": "completed"
    },
    "tags": []
   },
   "outputs": [
    {
     "data": {
      "text/html": [
       "<div>\n",
       "<style scoped>\n",
       "    .dataframe tbody tr th:only-of-type {\n",
       "        vertical-align: middle;\n",
       "    }\n",
       "\n",
       "    .dataframe tbody tr th {\n",
       "        vertical-align: top;\n",
       "    }\n",
       "\n",
       "    .dataframe thead th {\n",
       "        text-align: right;\n",
       "    }\n",
       "</style>\n",
       "<table border=\"1\" class=\"dataframe\">\n",
       "  <thead>\n",
       "    <tr style=\"text-align: right;\">\n",
       "      <th></th>\n",
       "      <th>Id</th>\n",
       "      <th>PredictionString</th>\n",
       "    </tr>\n",
       "  </thead>\n",
       "  <tbody>\n",
       "    <tr>\n",
       "      <th>0</th>\n",
       "      <td>2100032a-7c33-4bff-97ef-690822c43466</td>\n",
       "      <td>NaN</td>\n",
       "    </tr>\n",
       "    <tr>\n",
       "      <th>1</th>\n",
       "      <td>2f392438-e215-4169-bebf-21ac4ff253e1</td>\n",
       "      <td>NaN</td>\n",
       "    </tr>\n",
       "    <tr>\n",
       "      <th>2</th>\n",
       "      <td>3f316b38-1a24-45a9-8d8c-4e05a42257c6</td>\n",
       "      <td>NaN</td>\n",
       "    </tr>\n",
       "    <tr>\n",
       "      <th>3</th>\n",
       "      <td>8e6996b4-ca08-4c0b-bed2-aaf07a4c6a60</td>\n",
       "      <td>NaN</td>\n",
       "    </tr>\n",
       "  </tbody>\n",
       "</table>\n",
       "</div>"
      ],
      "text/plain": [
       "                                     Id  PredictionString\n",
       "0  2100032a-7c33-4bff-97ef-690822c43466               NaN\n",
       "1  2f392438-e215-4169-bebf-21ac4ff253e1               NaN\n",
       "2  3f316b38-1a24-45a9-8d8c-4e05a42257c6               NaN\n",
       "3  8e6996b4-ca08-4c0b-bed2-aaf07a4c6a60               NaN"
      ]
     },
     "execution_count": 43,
     "metadata": {},
     "output_type": "execute_result"
    }
   ],
   "source": [
    "sample_sub = pd.read_csv('../input/coleridgeinitiative-show-us-the-data/sample_submission.csv')\n",
    "sample_sub.head()"
   ]
  },
  {
   "cell_type": "code",
   "execution_count": 44,
   "id": "backed-singapore",
   "metadata": {
    "execution": {
     "iopub.execute_input": "2021-06-10T13:29:43.212016Z",
     "iopub.status.busy": "2021-06-10T13:29:43.211168Z",
     "iopub.status.idle": "2021-06-10T13:29:43.257674Z",
     "shell.execute_reply": "2021-06-10T13:29:43.258259Z",
     "shell.execute_reply.started": "2021-06-10T13:18:11.257808Z"
    },
    "papermill": {
     "duration": 0.127199,
     "end_time": "2021-06-10T13:29:43.258435",
     "exception": false,
     "start_time": "2021-06-10T13:29:43.131236",
     "status": "completed"
    },
    "tags": []
   },
   "outputs": [
    {
     "data": {
      "application/vnd.jupyter.widget-view+json": {
       "model_id": "2bd8b8681b9a42889fe4f7823504456b",
       "version_major": 2,
       "version_minor": 0
      },
      "text/plain": [
       "HBox(children=(FloatProgress(value=0.0, max=4.0), HTML(value='')))"
      ]
     },
     "metadata": {},
     "output_type": "display_data"
    },
    {
     "name": "stdout",
     "output_type": "stream",
     "text": [
      "\n"
     ]
    }
   ],
   "source": [
    "tqdm.pandas()\n",
    "sample_sub['text'] = sample_sub[\"Id\"].progress_apply(partial(read_append_return, train_files_path=test_files_path))"
   ]
  },
  {
   "cell_type": "code",
   "execution_count": 45,
   "id": "solar-request",
   "metadata": {
    "execution": {
     "iopub.execute_input": "2021-06-10T13:29:43.402950Z",
     "iopub.status.busy": "2021-06-10T13:29:43.402326Z",
     "iopub.status.idle": "2021-06-10T13:29:43.405731Z",
     "shell.execute_reply": "2021-06-10T13:29:43.406133Z",
     "shell.execute_reply.started": "2021-06-10T13:18:11.331049Z"
    },
    "papermill": {
     "duration": 0.087632,
     "end_time": "2021-06-10T13:29:43.406259",
     "exception": false,
     "start_time": "2021-06-10T13:29:43.318627",
     "status": "completed"
    },
    "tags": []
   },
   "outputs": [
    {
     "data": {
      "text/html": [
       "<div>\n",
       "<style scoped>\n",
       "    .dataframe tbody tr th:only-of-type {\n",
       "        vertical-align: middle;\n",
       "    }\n",
       "\n",
       "    .dataframe tbody tr th {\n",
       "        vertical-align: top;\n",
       "    }\n",
       "\n",
       "    .dataframe thead th {\n",
       "        text-align: right;\n",
       "    }\n",
       "</style>\n",
       "<table border=\"1\" class=\"dataframe\">\n",
       "  <thead>\n",
       "    <tr style=\"text-align: right;\">\n",
       "      <th></th>\n",
       "      <th>Id</th>\n",
       "      <th>PredictionString</th>\n",
       "      <th>text</th>\n",
       "    </tr>\n",
       "  </thead>\n",
       "  <tbody>\n",
       "    <tr>\n",
       "      <th>0</th>\n",
       "      <td>2100032a-7c33-4bff-97ef-690822c43466</td>\n",
       "      <td>NaN</td>\n",
       "      <td>sectio...</td>\n",
       "    </tr>\n",
       "    <tr>\n",
       "      <th>1</th>\n",
       "      <td>2f392438-e215-4169-bebf-21ac4ff253e1</td>\n",
       "      <td>NaN</td>\n",
       "      <td>sectio...</td>\n",
       "    </tr>\n",
       "    <tr>\n",
       "      <th>2</th>\n",
       "      <td>3f316b38-1a24-45a9-8d8c-4e05a42257c6</td>\n",
       "      <td>NaN</td>\n",
       "      <td>sectio...</td>\n",
       "    </tr>\n",
       "    <tr>\n",
       "      <th>3</th>\n",
       "      <td>8e6996b4-ca08-4c0b-bed2-aaf07a4c6a60</td>\n",
       "      <td>NaN</td>\n",
       "      <td>sectio...</td>\n",
       "    </tr>\n",
       "  </tbody>\n",
       "</table>\n",
       "</div>"
      ],
      "text/plain": [
       "                                     Id  PredictionString  \\\n",
       "0  2100032a-7c33-4bff-97ef-690822c43466               NaN   \n",
       "1  2f392438-e215-4169-bebf-21ac4ff253e1               NaN   \n",
       "2  3f316b38-1a24-45a9-8d8c-4e05a42257c6               NaN   \n",
       "3  8e6996b4-ca08-4c0b-bed2-aaf07a4c6a60               NaN   \n",
       "\n",
       "                                                text  \n",
       "0                                          sectio...  \n",
       "1                                          sectio...  \n",
       "2                                          sectio...  \n",
       "3                                          sectio...  "
      ]
     },
     "execution_count": 45,
     "metadata": {},
     "output_type": "execute_result"
    }
   ],
   "source": [
    "sample_sub.head()"
   ]
  },
  {
   "cell_type": "code",
   "execution_count": 46,
   "id": "dynamic-perception",
   "metadata": {
    "execution": {
     "iopub.execute_input": "2021-06-10T13:29:43.533334Z",
     "iopub.status.busy": "2021-06-10T13:29:43.532582Z",
     "iopub.status.idle": "2021-06-10T13:29:43.534727Z",
     "shell.execute_reply": "2021-06-10T13:29:43.535256Z",
     "shell.execute_reply.started": "2021-06-10T13:18:11.389367Z"
    },
    "papermill": {
     "duration": 0.06836,
     "end_time": "2021-06-10T13:29:43.535394",
     "exception": false,
     "start_time": "2021-06-10T13:29:43.467034",
     "status": "completed"
    },
    "tags": []
   },
   "outputs": [],
   "source": [
    "def generate_answer(question):\n",
    "    \n",
    "    source_encoding = tokenizer(\n",
    "        [que for que in question['question']],\n",
    "        [con for con in question['context']],\n",
    "        max_length=396,\n",
    "        padding='max_length',\n",
    "        truncation=\"only_second\",\n",
    "        return_attention_mask=True,\n",
    "        add_special_tokens=True,\n",
    "        return_tensors='pt'\n",
    "    )\n",
    "\n",
    "    \n",
    "    source_encoding.to(device)\n",
    "    generated_ids = trained_model.model.generate(\n",
    "        input_ids=source_encoding[\"input_ids\"],\n",
    "        attention_mask=source_encoding[\"attention_mask\"],\n",
    "        num_beams=1,\n",
    "        max_length=80,\n",
    "        repetition_penalty=2.5,\n",
    "        length_penalty=1.0,\n",
    "        early_stopping=True,\n",
    "        use_cache=True\n",
    "    )\n",
    "    \n",
    "\n",
    "    preds = [\n",
    "             tokenizer.decode(generated_id, skip_special_tokens=True, clean_up_tokenization_spaces=True)\n",
    "             for generated_id in generated_ids\n",
    "    ]\n",
    "    \n",
    "    return preds"
   ]
  },
  {
   "cell_type": "code",
   "execution_count": 47,
   "id": "small-haven",
   "metadata": {
    "execution": {
     "iopub.execute_input": "2021-06-10T13:29:43.694534Z",
     "iopub.status.busy": "2021-06-10T13:29:43.667366Z",
     "iopub.status.idle": "2021-06-10T13:29:47.197729Z",
     "shell.execute_reply": "2021-06-10T13:29:47.197243Z",
     "shell.execute_reply.started": "2021-06-10T13:18:11.410331Z"
    },
    "papermill": {
     "duration": 3.603126,
     "end_time": "2021-06-10T13:29:47.197846",
     "exception": false,
     "start_time": "2021-06-10T13:29:43.594720",
     "status": "completed"
    },
    "tags": []
   },
   "outputs": [
    {
     "name": "stdout",
     "output_type": "stream",
     "text": [
      "base line time:  3.5348739624023438\n"
     ]
    }
   ],
   "source": [
    "\"\"\"\n",
    "배치 처리해서 빠른 코드\n",
    "\"\"\"\n",
    "start = time.time()\n",
    "answers = []\n",
    "for i in range(len(sample_sub)):\n",
    "    tmp = sample_sub['text'].iloc[i]\n",
    "    tmp['question'] = pd.Series([\"what is the dataset?\"]*len(tmp))\n",
    "    tmp.columns = ('section_title', 'context', 'question')\n",
    "    answers.append(generate_answer(tmp))\n",
    "print(\"base line time: \", time.time()-start)"
   ]
  },
  {
   "cell_type": "code",
   "execution_count": 48,
   "id": "joint-smart",
   "metadata": {
    "execution": {
     "iopub.execute_input": "2021-06-10T13:29:47.323599Z",
     "iopub.status.busy": "2021-06-10T13:29:47.322836Z",
     "iopub.status.idle": "2021-06-10T13:29:47.326514Z",
     "shell.execute_reply": "2021-06-10T13:29:47.326114Z",
     "shell.execute_reply.started": "2021-06-10T13:18:15.183857Z"
    },
    "papermill": {
     "duration": 0.068463,
     "end_time": "2021-06-10T13:29:47.326623",
     "exception": false,
     "start_time": "2021-06-10T13:29:47.258160",
     "status": "completed"
    },
    "tags": []
   },
   "outputs": [
    {
     "data": {
      "text/plain": [
       "[{\"Alzheimer's Disease Neuroimaging Initiative (ADNI)\",\n",
       "  'Baltimore Longitudinal Study of Aging (BLSA)',\n",
       "  'None'},\n",
       " {'Common Core of Data',\n",
       "  'None',\n",
       "  'Program for the International Assessment of Adult Competencies',\n",
       "  'Trends in International Mathematics and Science Study'},\n",
       " {'None', 'Sea, Lake, and Overland Surges from Hurricanes'},\n",
       " {'None'}]"
      ]
     },
     "execution_count": 48,
     "metadata": {},
     "output_type": "execute_result"
    }
   ],
   "source": [
    "answers_copy = list(map(set, answers))\n",
    "answers_copy"
   ]
  },
  {
   "cell_type": "code",
   "execution_count": 49,
   "id": "exotic-albuquerque",
   "metadata": {
    "execution": {
     "iopub.execute_input": "2021-06-10T13:29:47.451596Z",
     "iopub.status.busy": "2021-06-10T13:29:47.450941Z",
     "iopub.status.idle": "2021-06-10T13:29:47.453361Z",
     "shell.execute_reply": "2021-06-10T13:29:47.453851Z",
     "shell.execute_reply.started": "2021-06-10T13:18:15.192056Z"
    },
    "papermill": {
     "duration": 0.067305,
     "end_time": "2021-06-10T13:29:47.454009",
     "exception": false,
     "start_time": "2021-06-10T13:29:47.386704",
     "status": "completed"
    },
    "tags": []
   },
   "outputs": [],
   "source": [
    "def clean_text(txt):\n",
    "    return re.sub('[^A-Za-z0-9]+', ' ', str(txt).lower()).strip()"
   ]
  },
  {
   "cell_type": "code",
   "execution_count": 50,
   "id": "supported-security",
   "metadata": {
    "execution": {
     "iopub.execute_input": "2021-06-10T13:29:47.579140Z",
     "iopub.status.busy": "2021-06-10T13:29:47.578402Z",
     "iopub.status.idle": "2021-06-10T13:29:47.581188Z",
     "shell.execute_reply": "2021-06-10T13:29:47.580676Z",
     "shell.execute_reply.started": "2021-06-10T13:18:15.200419Z"
    },
    "papermill": {
     "duration": 0.067392,
     "end_time": "2021-06-10T13:29:47.581293",
     "exception": false,
     "start_time": "2021-06-10T13:29:47.513901",
     "status": "completed"
    },
    "tags": []
   },
   "outputs": [],
   "source": [
    "predictions = []\n",
    "for i in range(len(answers_copy)):\n",
    "    tmp = sorted(list(answers_copy[i]))\n",
    "    if \"None\" in tmp:\n",
    "        tmp.remove(\"None\")\n",
    "    cleaned_tmp = list(map(clean_text, tmp))\n",
    "    #lists = []\n",
    "    #pred_i = lists.append(cleaned_tmp) #'|'.join(cleaned_tmp)\n",
    "    predictions.append(cleaned_tmp)"
   ]
  },
  {
   "cell_type": "code",
   "execution_count": 51,
   "id": "growing-document",
   "metadata": {
    "execution": {
     "iopub.execute_input": "2021-06-10T13:29:47.711258Z",
     "iopub.status.busy": "2021-06-10T13:29:47.710659Z",
     "iopub.status.idle": "2021-06-10T13:29:47.713611Z",
     "shell.execute_reply": "2021-06-10T13:29:47.713210Z",
     "shell.execute_reply.started": "2021-06-10T13:18:15.210406Z"
    },
    "papermill": {
     "duration": 0.072298,
     "end_time": "2021-06-10T13:29:47.713718",
     "exception": false,
     "start_time": "2021-06-10T13:29:47.641420",
     "status": "completed"
    },
    "tags": []
   },
   "outputs": [],
   "source": [
    "final_predictions = []\n",
    "\n",
    "if ALL_BLENDED:\n",
    "    for literal_match, mlm_pred, lables_match in zip(literal_preds, pred_mlm_labels, lables_list):\n",
    "        temp = [literal_match, mlm_pred, lables_match]\n",
    "        temp = [pred for pred in temp if pred]\n",
    "        temp = ('|').join(temp)\n",
    "        final_predictions.append(temp)\n",
    "        \n",
    "elif BASELINE_HELPING:\n",
    "    for literal_match, mlm_pred, lables_match in zip(literal_preds, pred_mlm_labels, lables_list):\n",
    "        if literal_match:\n",
    "            final_predictions.append(literal_match)\n",
    "        elif lables_match:\n",
    "            final_predictions.append(lables_match)\n",
    "        else:\n",
    "            final_predictions.append(mlm_pred)\n",
    "\n",
    "elif MATCH_ONLY:\n",
    "    final_predictions = literal_preds\n",
    "\n",
    "elif MLM_ONLY:\n",
    "    final_predictions = pred_mlm_labels\n",
    "\n",
    "elif THEO_MERGE:\n",
    "    for i in range(len(literal_preds)):\n",
    "        pred_naive = literal_preds[i].split('|')\n",
    "        pred_model = pred_mlm_labels[i].split('|')\n",
    "        pred_model_kept = []\n",
    "        for pred_m in pred_model:\n",
    "            kept = True\n",
    "            for pred_n in pred_naive:\n",
    "                if pred_m in pred_n or pred_n in pred_m:\n",
    "                    kept = False\n",
    "            if kept:\n",
    "                pred_model_kept.append(pred_m)\n",
    "        final_predictions.append(\"|\".join(pred_naive + pred_model_kept))\n",
    "\n",
    "else:\n",
    "    for literal_match, mlm_pred in zip(literal_preds, pred_mlm_labels):\n",
    "        if literal_match:\n",
    "            final_predictions.append(literal_match)\n",
    "        else:\n",
    "            final_predictions.append(mlm_pred)\n",
    "\n",
    "sample_submission['PredictionString'] = final_predictions"
   ]
  },
  {
   "cell_type": "code",
   "execution_count": 52,
   "id": "modern-israeli",
   "metadata": {
    "execution": {
     "iopub.execute_input": "2021-06-10T13:29:47.839954Z",
     "iopub.status.busy": "2021-06-10T13:29:47.839197Z",
     "iopub.status.idle": "2021-06-10T13:29:47.842114Z",
     "shell.execute_reply": "2021-06-10T13:29:47.841693Z",
     "shell.execute_reply.started": "2021-06-10T13:18:15.225872Z"
    },
    "papermill": {
     "duration": 0.068249,
     "end_time": "2021-06-10T13:29:47.842229",
     "exception": false,
     "start_time": "2021-06-10T13:29:47.773980",
     "status": "completed"
    },
    "tags": []
   },
   "outputs": [],
   "source": [
    "for i in range(len(sample_submission)):\n",
    "    for j in range(len(predictions[i])):\n",
    "        if predictions[i][j] in final_predictions[i]:\n",
    "            pass\n",
    "        else:\n",
    "            final_predictions[i] = final_predictions[i] + '|' + predictions[i][j]\n"
   ]
  },
  {
   "cell_type": "code",
   "execution_count": 53,
   "id": "ahead-signal",
   "metadata": {
    "execution": {
     "iopub.execute_input": "2021-06-10T13:29:48.004780Z",
     "iopub.status.busy": "2021-06-10T13:29:48.003781Z",
     "iopub.status.idle": "2021-06-10T13:29:48.007646Z",
     "shell.execute_reply": "2021-06-10T13:29:48.005576Z",
     "shell.execute_reply.started": "2021-06-10T13:18:15.237041Z"
    },
    "papermill": {
     "duration": 0.104246,
     "end_time": "2021-06-10T13:29:48.007813",
     "exception": false,
     "start_time": "2021-06-10T13:29:47.903567",
     "status": "completed"
    },
    "tags": []
   },
   "outputs": [
    {
     "data": {
      "text/plain": [
       "[['alzheimer s disease neuroimaging initiative adni',\n",
       "  'baltimore longitudinal study of aging blsa'],\n",
       " ['common core of data',\n",
       "  'program for the international assessment of adult competencies',\n",
       "  'trends in international mathematics and science study'],\n",
       " ['sea lake and overland surges from hurricanes'],\n",
       " []]"
      ]
     },
     "execution_count": 53,
     "metadata": {},
     "output_type": "execute_result"
    }
   ],
   "source": [
    "predictions #t5"
   ]
  },
  {
   "cell_type": "code",
   "execution_count": 54,
   "id": "elder-basics",
   "metadata": {
    "execution": {
     "iopub.execute_input": "2021-06-10T13:29:48.207644Z",
     "iopub.status.busy": "2021-06-10T13:29:48.206823Z",
     "iopub.status.idle": "2021-06-10T13:29:48.210299Z",
     "shell.execute_reply": "2021-06-10T13:29:48.210869Z",
     "shell.execute_reply.started": "2021-06-10T13:18:15.248148Z"
    },
    "papermill": {
     "duration": 0.105425,
     "end_time": "2021-06-10T13:29:48.211090",
     "exception": false,
     "start_time": "2021-06-10T13:29:48.105665",
     "status": "completed"
    },
    "tags": []
   },
   "outputs": [],
   "source": [
    "for i in range(len(sample_submission)):\n",
    "    for j in range(len(pred_mlm_labels[i])):\n",
    "        if pred_mlm_labels[i][j] in final_predictions[i]:\n",
    "            pass\n",
    "        else:\n",
    "            final_predictions[i] = final_predictions[i] + '|' + pred_mlm_labels[i][j]\n",
    "    "
   ]
  },
  {
   "cell_type": "code",
   "execution_count": 55,
   "id": "spectacular-illinois",
   "metadata": {
    "execution": {
     "iopub.execute_input": "2021-06-10T13:29:48.410750Z",
     "iopub.status.busy": "2021-06-10T13:29:48.409887Z",
     "iopub.status.idle": "2021-06-10T13:29:48.416078Z",
     "shell.execute_reply": "2021-06-10T13:29:48.416747Z",
     "shell.execute_reply.started": "2021-06-10T13:18:15.256764Z"
    },
    "papermill": {
     "duration": 0.109737,
     "end_time": "2021-06-10T13:29:48.417131",
     "exception": false,
     "start_time": "2021-06-10T13:29:48.307394",
     "status": "completed"
    },
    "tags": []
   },
   "outputs": [
    {
     "data": {
      "text/plain": [
       "['adni|alzheimer s disease neuroimaging initiative adni|pubmed|baltimore longitudinal study of aging blsa|lothian birth cohort study lbc1936',\n",
       " 'common core of data|nces common core of data|trends in international mathematics and science study|schools and staffing survey|integrated postsecondary education data system|ipeds|progress in international reading literacy study|program for the international assessment of adult competencies',\n",
       " 'slosh model|noaa storm surge inundation|sea lake and overland surges from hurricanes',\n",
       " 'rural urban continuum codes']"
      ]
     },
     "execution_count": 55,
     "metadata": {},
     "output_type": "execute_result"
    }
   ],
   "source": [
    "final_predictions"
   ]
  },
  {
   "cell_type": "markdown",
   "id": "automatic-beast",
   "metadata": {
    "papermill": {
     "duration": 0.099432,
     "end_time": "2021-06-10T13:29:48.617869",
     "exception": false,
     "start_time": "2021-06-10T13:29:48.518437",
     "status": "completed"
    },
    "tags": []
   },
   "source": [
    "## Aggregate final predictions and write submission file"
   ]
  },
  {
   "cell_type": "code",
   "execution_count": 56,
   "id": "polish-classic",
   "metadata": {
    "execution": {
     "iopub.execute_input": "2021-06-10T13:29:48.842663Z",
     "iopub.status.busy": "2021-06-10T13:29:48.841857Z",
     "iopub.status.idle": "2021-06-10T13:29:48.860423Z",
     "shell.execute_reply": "2021-06-10T13:29:48.861384Z",
     "shell.execute_reply.started": "2021-06-10T13:18:15.270798Z"
    },
    "papermill": {
     "duration": 0.126566,
     "end_time": "2021-06-10T13:29:48.861571",
     "exception": false,
     "start_time": "2021-06-10T13:29:48.735005",
     "status": "completed"
    },
    "tags": []
   },
   "outputs": [
    {
     "data": {
      "text/html": [
       "<div>\n",
       "<style scoped>\n",
       "    .dataframe tbody tr th:only-of-type {\n",
       "        vertical-align: middle;\n",
       "    }\n",
       "\n",
       "    .dataframe tbody tr th {\n",
       "        vertical-align: top;\n",
       "    }\n",
       "\n",
       "    .dataframe thead th {\n",
       "        text-align: right;\n",
       "    }\n",
       "</style>\n",
       "<table border=\"1\" class=\"dataframe\">\n",
       "  <thead>\n",
       "    <tr style=\"text-align: right;\">\n",
       "      <th></th>\n",
       "      <th>Id</th>\n",
       "      <th>PredictionString</th>\n",
       "      <th>text</th>\n",
       "    </tr>\n",
       "  </thead>\n",
       "  <tbody>\n",
       "    <tr>\n",
       "      <th>0</th>\n",
       "      <td>2100032a-7c33-4bff-97ef-690822c43466</td>\n",
       "      <td>adni|alzheimer s disease neuroimaging initiati...</td>\n",
       "      <td>Cognitive deficits and reduced educational ach...</td>\n",
       "    </tr>\n",
       "    <tr>\n",
       "      <th>1</th>\n",
       "      <td>2f392438-e215-4169-bebf-21ac4ff253e1</td>\n",
       "      <td>common core of data|nces common core of data|t...</td>\n",
       "      <td>This report describes how the education system...</td>\n",
       "    </tr>\n",
       "    <tr>\n",
       "      <th>2</th>\n",
       "      <td>3f316b38-1a24-45a9-8d8c-4e05a42257c6</td>\n",
       "      <td>slosh model|noaa storm surge inundation|sea la...</td>\n",
       "      <td>Cape Hatteras National Seashore (CAHA), locate...</td>\n",
       "    </tr>\n",
       "    <tr>\n",
       "      <th>3</th>\n",
       "      <td>8e6996b4-ca08-4c0b-bed2-aaf07a4c6a60</td>\n",
       "      <td>rural urban continuum codes</td>\n",
       "      <td>A significant body of research has been conduc...</td>\n",
       "    </tr>\n",
       "  </tbody>\n",
       "</table>\n",
       "</div>"
      ],
      "text/plain": [
       "                                     Id  \\\n",
       "0  2100032a-7c33-4bff-97ef-690822c43466   \n",
       "1  2f392438-e215-4169-bebf-21ac4ff253e1   \n",
       "2  3f316b38-1a24-45a9-8d8c-4e05a42257c6   \n",
       "3  8e6996b4-ca08-4c0b-bed2-aaf07a4c6a60   \n",
       "\n",
       "                                    PredictionString  \\\n",
       "0  adni|alzheimer s disease neuroimaging initiati...   \n",
       "1  common core of data|nces common core of data|t...   \n",
       "2  slosh model|noaa storm surge inundation|sea la...   \n",
       "3                        rural urban continuum codes   \n",
       "\n",
       "                                                text  \n",
       "0  Cognitive deficits and reduced educational ach...  \n",
       "1  This report describes how the education system...  \n",
       "2  Cape Hatteras National Seashore (CAHA), locate...  \n",
       "3  A significant body of research has been conduc...  "
      ]
     },
     "execution_count": 56,
     "metadata": {},
     "output_type": "execute_result"
    }
   ],
   "source": [
    "sample_submission['PredictionString'] = final_predictions\n",
    "sample_submission[['Id', 'PredictionString']].to_csv('submission.csv', index=False)\n",
    "\n",
    "sample_submission.head()"
   ]
  },
  {
   "cell_type": "code",
   "execution_count": 57,
   "id": "split-narrative",
   "metadata": {
    "execution": {
     "iopub.execute_input": "2021-06-10T13:29:49.061229Z",
     "iopub.status.busy": "2021-06-10T13:29:49.060458Z",
     "iopub.status.idle": "2021-06-10T13:29:49.064094Z",
     "shell.execute_reply": "2021-06-10T13:29:49.063588Z",
     "shell.execute_reply.started": "2021-06-10T13:18:15.291397Z"
    },
    "papermill": {
     "duration": 0.102055,
     "end_time": "2021-06-10T13:29:49.064205",
     "exception": false,
     "start_time": "2021-06-10T13:29:48.962150",
     "status": "completed"
    },
    "tags": []
   },
   "outputs": [
    {
     "data": {
      "text/plain": [
       "'adni|alzheimer s disease neuroimaging initiative adni|pubmed|baltimore longitudinal study of aging blsa|lothian birth cohort study lbc1936'"
      ]
     },
     "execution_count": 57,
     "metadata": {},
     "output_type": "execute_result"
    }
   ],
   "source": [
    "sample_submission.loc[0,'PredictionString']"
   ]
  },
  {
   "cell_type": "code",
   "execution_count": 58,
   "id": "legal-virginia",
   "metadata": {
    "execution": {
     "iopub.execute_input": "2021-06-10T13:29:49.194518Z",
     "iopub.status.busy": "2021-06-10T13:29:49.193759Z",
     "iopub.status.idle": "2021-06-10T13:29:49.197386Z",
     "shell.execute_reply": "2021-06-10T13:29:49.196879Z",
     "shell.execute_reply.started": "2021-06-10T13:18:15.298552Z"
    },
    "papermill": {
     "duration": 0.070937,
     "end_time": "2021-06-10T13:29:49.197502",
     "exception": false,
     "start_time": "2021-06-10T13:29:49.126565",
     "status": "completed"
    },
    "tags": []
   },
   "outputs": [
    {
     "data": {
      "text/plain": [
       "'common core of data|nces common core of data|trends in international mathematics and science study|schools and staffing survey|integrated postsecondary education data system|ipeds|progress in international reading literacy study|program for the international assessment of adult competencies'"
      ]
     },
     "execution_count": 58,
     "metadata": {},
     "output_type": "execute_result"
    }
   ],
   "source": [
    "sample_submission.loc[1,'PredictionString']"
   ]
  },
  {
   "cell_type": "code",
   "execution_count": 59,
   "id": "demanding-green",
   "metadata": {
    "execution": {
     "iopub.execute_input": "2021-06-10T13:29:49.325713Z",
     "iopub.status.busy": "2021-06-10T13:29:49.324949Z",
     "iopub.status.idle": "2021-06-10T13:29:49.328350Z",
     "shell.execute_reply": "2021-06-10T13:29:49.328856Z",
     "shell.execute_reply.started": "2021-06-10T13:18:15.309270Z"
    },
    "papermill": {
     "duration": 0.069689,
     "end_time": "2021-06-10T13:29:49.329000",
     "exception": false,
     "start_time": "2021-06-10T13:29:49.259311",
     "status": "completed"
    },
    "tags": []
   },
   "outputs": [
    {
     "data": {
      "text/plain": [
       "'slosh model|noaa storm surge inundation|sea lake and overland surges from hurricanes'"
      ]
     },
     "execution_count": 59,
     "metadata": {},
     "output_type": "execute_result"
    }
   ],
   "source": [
    "sample_submission.loc[2,'PredictionString']"
   ]
  },
  {
   "cell_type": "code",
   "execution_count": 60,
   "id": "adjustable-slovak",
   "metadata": {
    "execution": {
     "iopub.execute_input": "2021-06-10T13:29:49.457619Z",
     "iopub.status.busy": "2021-06-10T13:29:49.456850Z",
     "iopub.status.idle": "2021-06-10T13:29:49.459972Z",
     "shell.execute_reply": "2021-06-10T13:29:49.460358Z",
     "shell.execute_reply.started": "2021-06-10T13:18:15.318160Z"
    },
    "papermill": {
     "duration": 0.069617,
     "end_time": "2021-06-10T13:29:49.460483",
     "exception": false,
     "start_time": "2021-06-10T13:29:49.390866",
     "status": "completed"
    },
    "tags": []
   },
   "outputs": [
    {
     "data": {
      "text/plain": [
       "'rural urban continuum codes'"
      ]
     },
     "execution_count": 60,
     "metadata": {},
     "output_type": "execute_result"
    }
   ],
   "source": [
    "sample_submission.loc[3,'PredictionString']"
   ]
  },
  {
   "cell_type": "markdown",
   "id": "geological-magazine",
   "metadata": {
    "papermill": {
     "duration": 0.06178,
     "end_time": "2021-06-10T13:29:49.584194",
     "exception": false,
     "start_time": "2021-06-10T13:29:49.522414",
     "status": "completed"
    },
    "tags": []
   },
   "source": [
    "# Evaluation Metric"
   ]
  },
  {
   "cell_type": "code",
   "execution_count": 61,
   "id": "fiscal-singing",
   "metadata": {
    "execution": {
     "iopub.execute_input": "2021-06-10T13:29:49.725942Z",
     "iopub.status.busy": "2021-06-10T13:29:49.725070Z",
     "iopub.status.idle": "2021-06-10T13:29:49.727720Z",
     "shell.execute_reply": "2021-06-10T13:29:49.727318Z",
     "shell.execute_reply.started": "2021-06-10T13:18:15.327796Z"
    },
    "papermill": {
     "duration": 0.078813,
     "end_time": "2021-06-10T13:29:49.727832",
     "exception": false,
     "start_time": "2021-06-10T13:29:49.649019",
     "status": "completed"
    },
    "tags": []
   },
   "outputs": [],
   "source": [
    "# https://www.kaggle.com/c/coleridgeinitiative-show-us-the-data/discussion/230091\n",
    "def compute_fbeta(y_true: List[List[str]],\n",
    "                  y_pred: List[List[str]],\n",
    "                  beta: float = 0.5) -> float:\n",
    "    \"\"\"Compute the Jaccard-based micro FBeta score.\n",
    "\n",
    "    References\n",
    "    ----------\n",
    "    - https://www.kaggle.com/c/coleridgeinitiative-show-us-the-data/overview/evaluation\n",
    "    \"\"\"\n",
    "\n",
    "    def _jaccard_similarity(str1: str, str2: str) -> float:\n",
    "        a = set(str1.split()) \n",
    "        b = set(str2.split())\n",
    "        c = a.intersection(b)\n",
    "        return float(len(c)) / (len(a) + len(b) - len(c))\n",
    "\n",
    "    tp = 0  # true positive\n",
    "    fp = 0  # false positive\n",
    "    fn = 0  # false negative\n",
    "    for ground_truth_list, predicted_string_list in zip(y_true, y_pred):\n",
    "        predicted_string_list_sorted = sorted(predicted_string_list)\n",
    "        for ground_truth in sorted(ground_truth_list):            \n",
    "            if len(predicted_string_list_sorted) == 0:\n",
    "                fn += 1\n",
    "            else:\n",
    "                similarity_scores = [\n",
    "                    _jaccard_similarity(ground_truth, predicted_string)\n",
    "                    for predicted_string in predicted_string_list_sorted\n",
    "                ]\n",
    "                matched_idx = np.argmax(similarity_scores)\n",
    "                if similarity_scores[matched_idx] >= 0.5:\n",
    "                    predicted_string_list_sorted.pop(matched_idx)\n",
    "                    tp += 1\n",
    "                else:\n",
    "                    fn += 1\n",
    "        fp += len(predicted_string_list_sorted)\n",
    "\n",
    "    tp *= (1 + beta ** 2)\n",
    "    fn *= beta ** 2\n",
    "    fbeta_score = tp / (tp + fp + fn)\n",
    "    return fbeta_score"
   ]
  },
  {
   "cell_type": "code",
   "execution_count": 62,
   "id": "stopped-addition",
   "metadata": {
    "execution": {
     "iopub.execute_input": "2021-06-10T13:29:49.860559Z",
     "iopub.status.busy": "2021-06-10T13:29:49.859736Z",
     "iopub.status.idle": "2021-06-10T13:29:49.865262Z",
     "shell.execute_reply": "2021-06-10T13:29:49.864644Z",
     "shell.execute_reply.started": "2021-06-10T13:18:15.341161Z"
    },
    "papermill": {
     "duration": 0.073866,
     "end_time": "2021-06-10T13:29:49.865406",
     "exception": false,
     "start_time": "2021-06-10T13:29:49.791540",
     "status": "completed"
    },
    "tags": []
   },
   "outputs": [
    {
     "name": "stdout",
     "output_type": "stream",
     "text": [
      "COMPUTE_CV = False\n",
      "EDA_DEMO = False\n",
      "ALL_BLENDED = False\n",
      "BASELINE_HELPING = True\n",
      "MATCH_ONLY = False\n",
      "MLM_ONLY = False\n",
      "KEN_MATCHING = True\n",
      "BS_CLEANING = False\n",
      "THEO_MERGE = False\n",
      "SEED = 347\n"
     ]
    }
   ],
   "source": [
    "if COMPUTE_CV:\n",
    "    COMPUTE_CV_SCORE = compute_fbeta(sample_submission['cleaned_label'].apply(lambda x: [x]),\\\n",
    "                  sample_submission['PredictionString'].apply(lambda x: x.split('|')))\n",
    "    print('COMPUTE_CV_SCORE =', COMPUTE_CV_SCORE)\n",
    "else:\n",
    "    print(f'COMPUTE_CV = {COMPUTE_CV}')\n",
    "     \n",
    "print(f'EDA_DEMO = {EDA_DEMO}')\n",
    "print(f'ALL_BLENDED = {ALL_BLENDED}')\n",
    "print(f'BASELINE_HELPING = {BASELINE_HELPING}')\n",
    "print(f'MATCH_ONLY = {MATCH_ONLY}')\n",
    "print(f'MLM_ONLY = {MLM_ONLY}')\n",
    "print(f'KEN_MATCHING = {KEN_MATCHING}')\n",
    "print(f'BS_CLEANING = {BS_CLEANING}')\n",
    "print(f'THEO_MERGE = {THEO_MERGE}')\n",
    "print(f'SEED = {SEED}')"
   ]
  }
 ],
 "metadata": {
  "kernelspec": {
   "display_name": "Python 3",
   "language": "python",
   "name": "python3"
  },
  "language_info": {
   "codemirror_mode": {
    "name": "ipython",
    "version": 3
   },
   "file_extension": ".py",
   "mimetype": "text/x-python",
   "name": "python",
   "nbconvert_exporter": "python",
   "pygments_lexer": "ipython3",
   "version": "3.7.9"
  },
  "papermill": {
   "default_parameters": {},
   "duration": 561.896892,
   "end_time": "2021-06-10T13:29:52.944172",
   "environment_variables": {},
   "exception": null,
   "input_path": "__notebook__.ipynb",
   "output_path": "__notebook__.ipynb",
   "parameters": {},
   "start_time": "2021-06-10T13:20:31.047280",
   "version": "2.3.2"
  },
  "widgets": {
   "application/vnd.jupyter.widget-state+json": {
    "state": {
     "06b577cdc911422e9894ddf98b072ed4": {
      "model_module": "@jupyter-widgets/base",
      "model_module_version": "1.2.0",
      "model_name": "LayoutModel",
      "state": {
       "_model_module": "@jupyter-widgets/base",
       "_model_module_version": "1.2.0",
       "_model_name": "LayoutModel",
       "_view_count": null,
       "_view_module": "@jupyter-widgets/base",
       "_view_module_version": "1.2.0",
       "_view_name": "LayoutView",
       "align_content": null,
       "align_items": null,
       "align_self": null,
       "border": null,
       "bottom": null,
       "display": null,
       "flex": null,
       "flex_flow": null,
       "grid_area": null,
       "grid_auto_columns": null,
       "grid_auto_flow": null,
       "grid_auto_rows": null,
       "grid_column": null,
       "grid_gap": null,
       "grid_row": null,
       "grid_template_areas": null,
       "grid_template_columns": null,
       "grid_template_rows": null,
       "height": null,
       "justify_content": null,
       "justify_items": null,
       "left": null,
       "margin": null,
       "max_height": null,
       "max_width": null,
       "min_height": null,
       "min_width": null,
       "object_fit": null,
       "object_position": null,
       "order": null,
       "overflow": null,
       "overflow_x": null,
       "overflow_y": null,
       "padding": null,
       "right": null,
       "top": null,
       "visibility": null,
       "width": "20px"
      }
     },
     "0abd87a20f1d45f1b03d194ca8a084ab": {
      "model_module": "@jupyter-widgets/controls",
      "model_module_version": "1.5.0",
      "model_name": "FloatProgressModel",
      "state": {
       "_dom_classes": [],
       "_model_module": "@jupyter-widgets/controls",
       "_model_module_version": "1.5.0",
       "_model_name": "FloatProgressModel",
       "_view_count": null,
       "_view_module": "@jupyter-widgets/controls",
       "_view_module_version": "1.5.0",
       "_view_name": "ProgressView",
       "bar_style": "success",
       "description": "",
       "description_tooltip": null,
       "layout": "IPY_MODEL_741a10b6dc89474e9f893113fd9b301a",
       "max": 4.0,
       "min": 0.0,
       "orientation": "horizontal",
       "style": "IPY_MODEL_19b76fd5c09347139bb4f99737be4f1b",
       "value": 4.0
      }
     },
     "0d291e10322a46eebabe38edcca493ed": {
      "model_module": "@jupyter-widgets/base",
      "model_module_version": "1.2.0",
      "model_name": "LayoutModel",
      "state": {
       "_model_module": "@jupyter-widgets/base",
       "_model_module_version": "1.2.0",
       "_model_name": "LayoutModel",
       "_view_count": null,
       "_view_module": "@jupyter-widgets/base",
       "_view_module_version": "1.2.0",
       "_view_name": "LayoutView",
       "align_content": null,
       "align_items": null,
       "align_self": null,
       "border": null,
       "bottom": null,
       "display": null,
       "flex": null,
       "flex_flow": null,
       "grid_area": null,
       "grid_auto_columns": null,
       "grid_auto_flow": null,
       "grid_auto_rows": null,
       "grid_column": null,
       "grid_gap": null,
       "grid_row": null,
       "grid_template_areas": null,
       "grid_template_columns": null,
       "grid_template_rows": null,
       "height": null,
       "justify_content": null,
       "justify_items": null,
       "left": null,
       "margin": null,
       "max_height": null,
       "max_width": null,
       "min_height": null,
       "min_width": null,
       "object_fit": null,
       "object_position": null,
       "order": null,
       "overflow": null,
       "overflow_x": null,
       "overflow_y": null,
       "padding": null,
       "right": null,
       "top": null,
       "visibility": null,
       "width": null
      }
     },
     "10cc4da2b36f43ab95ae3fd3f17b20b3": {
      "model_module": "@jupyter-widgets/base",
      "model_module_version": "1.2.0",
      "model_name": "LayoutModel",
      "state": {
       "_model_module": "@jupyter-widgets/base",
       "_model_module_version": "1.2.0",
       "_model_name": "LayoutModel",
       "_view_count": null,
       "_view_module": "@jupyter-widgets/base",
       "_view_module_version": "1.2.0",
       "_view_name": "LayoutView",
       "align_content": null,
       "align_items": null,
       "align_self": null,
       "border": null,
       "bottom": null,
       "display": null,
       "flex": null,
       "flex_flow": null,
       "grid_area": null,
       "grid_auto_columns": null,
       "grid_auto_flow": null,
       "grid_auto_rows": null,
       "grid_column": null,
       "grid_gap": null,
       "grid_row": null,
       "grid_template_areas": null,
       "grid_template_columns": null,
       "grid_template_rows": null,
       "height": null,
       "justify_content": null,
       "justify_items": null,
       "left": null,
       "margin": null,
       "max_height": null,
       "max_width": null,
       "min_height": null,
       "min_width": null,
       "object_fit": null,
       "object_position": null,
       "order": null,
       "overflow": null,
       "overflow_x": null,
       "overflow_y": null,
       "padding": null,
       "right": null,
       "top": null,
       "visibility": null,
       "width": null
      }
     },
     "13955f3df538408bb8390bf8607044a3": {
      "model_module": "@jupyter-widgets/controls",
      "model_module_version": "1.5.0",
      "model_name": "HTMLModel",
      "state": {
       "_dom_classes": [],
       "_model_module": "@jupyter-widgets/controls",
       "_model_module_version": "1.5.0",
       "_model_name": "HTMLModel",
       "_view_count": null,
       "_view_module": "@jupyter-widgets/controls",
       "_view_module_version": "1.5.0",
       "_view_name": "HTMLView",
       "description": "",
       "description_tooltip": null,
       "layout": "IPY_MODEL_d2eeec44ff304242bb4331392bf0d857",
       "placeholder": "​",
       "style": "IPY_MODEL_c4de5639436547c2b68ebdc3ccd13f35",
       "value": "&lt;tqdm.notebook.tqdm_notebook object at 0x7f814b0ee950&gt;"
      }
     },
     "14bba312fe4149cca8511def538ace69": {
      "model_module": "@jupyter-widgets/base",
      "model_module_version": "1.2.0",
      "model_name": "LayoutModel",
      "state": {
       "_model_module": "@jupyter-widgets/base",
       "_model_module_version": "1.2.0",
       "_model_name": "LayoutModel",
       "_view_count": null,
       "_view_module": "@jupyter-widgets/base",
       "_view_module_version": "1.2.0",
       "_view_name": "LayoutView",
       "align_content": null,
       "align_items": null,
       "align_self": null,
       "border": null,
       "bottom": null,
       "display": null,
       "flex": null,
       "flex_flow": null,
       "grid_area": null,
       "grid_auto_columns": null,
       "grid_auto_flow": null,
       "grid_auto_rows": null,
       "grid_column": null,
       "grid_gap": null,
       "grid_row": null,
       "grid_template_areas": null,
       "grid_template_columns": null,
       "grid_template_rows": null,
       "height": null,
       "justify_content": null,
       "justify_items": null,
       "left": null,
       "margin": null,
       "max_height": null,
       "max_width": null,
       "min_height": null,
       "min_width": null,
       "object_fit": null,
       "object_position": null,
       "order": null,
       "overflow": null,
       "overflow_x": null,
       "overflow_y": null,
       "padding": null,
       "right": null,
       "top": null,
       "visibility": null,
       "width": null
      }
     },
     "17ac84f4f5a145299be241d1899fc173": {
      "model_module": "@jupyter-widgets/base",
      "model_module_version": "1.2.0",
      "model_name": "LayoutModel",
      "state": {
       "_model_module": "@jupyter-widgets/base",
       "_model_module_version": "1.2.0",
       "_model_name": "LayoutModel",
       "_view_count": null,
       "_view_module": "@jupyter-widgets/base",
       "_view_module_version": "1.2.0",
       "_view_name": "LayoutView",
       "align_content": null,
       "align_items": null,
       "align_self": null,
       "border": null,
       "bottom": null,
       "display": null,
       "flex": null,
       "flex_flow": null,
       "grid_area": null,
       "grid_auto_columns": null,
       "grid_auto_flow": null,
       "grid_auto_rows": null,
       "grid_column": null,
       "grid_gap": null,
       "grid_row": null,
       "grid_template_areas": null,
       "grid_template_columns": null,
       "grid_template_rows": null,
       "height": null,
       "justify_content": null,
       "justify_items": null,
       "left": null,
       "margin": null,
       "max_height": null,
       "max_width": null,
       "min_height": null,
       "min_width": null,
       "object_fit": null,
       "object_position": null,
       "order": null,
       "overflow": null,
       "overflow_x": null,
       "overflow_y": null,
       "padding": null,
       "right": null,
       "top": null,
       "visibility": null,
       "width": null
      }
     },
     "19b76fd5c09347139bb4f99737be4f1b": {
      "model_module": "@jupyter-widgets/controls",
      "model_module_version": "1.5.0",
      "model_name": "ProgressStyleModel",
      "state": {
       "_model_module": "@jupyter-widgets/controls",
       "_model_module_version": "1.5.0",
       "_model_name": "ProgressStyleModel",
       "_view_count": null,
       "_view_module": "@jupyter-widgets/base",
       "_view_module_version": "1.2.0",
       "_view_name": "StyleView",
       "bar_color": null,
       "description_width": "initial"
      }
     },
     "1ac091bff08144e8a74e1c80bba49235": {
      "model_module": "@jupyter-widgets/base",
      "model_module_version": "1.2.0",
      "model_name": "LayoutModel",
      "state": {
       "_model_module": "@jupyter-widgets/base",
       "_model_module_version": "1.2.0",
       "_model_name": "LayoutModel",
       "_view_count": null,
       "_view_module": "@jupyter-widgets/base",
       "_view_module_version": "1.2.0",
       "_view_name": "LayoutView",
       "align_content": null,
       "align_items": null,
       "align_self": null,
       "border": null,
       "bottom": null,
       "display": null,
       "flex": null,
       "flex_flow": null,
       "grid_area": null,
       "grid_auto_columns": null,
       "grid_auto_flow": null,
       "grid_auto_rows": null,
       "grid_column": null,
       "grid_gap": null,
       "grid_row": null,
       "grid_template_areas": null,
       "grid_template_columns": null,
       "grid_template_rows": null,
       "height": null,
       "justify_content": null,
       "justify_items": null,
       "left": null,
       "margin": null,
       "max_height": null,
       "max_width": null,
       "min_height": null,
       "min_width": null,
       "object_fit": null,
       "object_position": null,
       "order": null,
       "overflow": null,
       "overflow_x": null,
       "overflow_y": null,
       "padding": null,
       "right": null,
       "top": null,
       "visibility": null,
       "width": null
      }
     },
     "1b8d3156483349dc9395468f2286245d": {
      "model_module": "@jupyter-widgets/controls",
      "model_module_version": "1.5.0",
      "model_name": "DescriptionStyleModel",
      "state": {
       "_model_module": "@jupyter-widgets/controls",
       "_model_module_version": "1.5.0",
       "_model_name": "DescriptionStyleModel",
       "_view_count": null,
       "_view_module": "@jupyter-widgets/base",
       "_view_module_version": "1.2.0",
       "_view_name": "StyleView",
       "description_width": ""
      }
     },
     "1eb2f243ef6b4deeb8aff986ec71110c": {
      "model_module": "@jupyter-widgets/controls",
      "model_module_version": "1.5.0",
      "model_name": "FloatProgressModel",
      "state": {
       "_dom_classes": [],
       "_model_module": "@jupyter-widgets/controls",
       "_model_module_version": "1.5.0",
       "_model_name": "FloatProgressModel",
       "_view_count": null,
       "_view_module": "@jupyter-widgets/controls",
       "_view_module_version": "1.5.0",
       "_view_name": "ProgressView",
       "bar_style": "success",
       "description": "",
       "description_tooltip": null,
       "layout": "IPY_MODEL_da7b76b32f2a40b88c56c9840bd1121a",
       "max": 19661.0,
       "min": 0.0,
       "orientation": "horizontal",
       "style": "IPY_MODEL_ca9e96250b89498989c3735696ec5f79",
       "value": 19661.0
      }
     },
     "1fc8f873e9604f43ad8d981024f2d6a5": {
      "model_module": "@jupyter-widgets/base",
      "model_module_version": "1.2.0",
      "model_name": "LayoutModel",
      "state": {
       "_model_module": "@jupyter-widgets/base",
       "_model_module_version": "1.2.0",
       "_model_name": "LayoutModel",
       "_view_count": null,
       "_view_module": "@jupyter-widgets/base",
       "_view_module_version": "1.2.0",
       "_view_name": "LayoutView",
       "align_content": null,
       "align_items": null,
       "align_self": null,
       "border": null,
       "bottom": null,
       "display": null,
       "flex": null,
       "flex_flow": null,
       "grid_area": null,
       "grid_auto_columns": null,
       "grid_auto_flow": null,
       "grid_auto_rows": null,
       "grid_column": null,
       "grid_gap": null,
       "grid_row": null,
       "grid_template_areas": null,
       "grid_template_columns": null,
       "grid_template_rows": null,
       "height": null,
       "justify_content": null,
       "justify_items": null,
       "left": null,
       "margin": null,
       "max_height": null,
       "max_width": null,
       "min_height": null,
       "min_width": null,
       "object_fit": null,
       "object_position": null,
       "order": null,
       "overflow": null,
       "overflow_x": null,
       "overflow_y": null,
       "padding": null,
       "right": null,
       "top": null,
       "visibility": null,
       "width": null
      }
     },
     "21da3836096a4cbb86b1bdd44738a5f6": {
      "model_module": "@jupyter-widgets/controls",
      "model_module_version": "1.5.0",
      "model_name": "HTMLModel",
      "state": {
       "_dom_classes": [],
       "_model_module": "@jupyter-widgets/controls",
       "_model_module_version": "1.5.0",
       "_model_name": "HTMLModel",
       "_view_count": null,
       "_view_module": "@jupyter-widgets/controls",
       "_view_module_version": "1.5.0",
       "_view_name": "HTMLView",
       "description": "",
       "description_tooltip": null,
       "layout": "IPY_MODEL_eedfa08899f24746a0cbbe28e07dbc38",
       "placeholder": "​",
       "style": "IPY_MODEL_d5555798c3d948b38d8f8da910e75781",
       "value": "&lt;tqdm.notebook.tqdm_notebook object at 0x7f814a4a8a50&gt;"
      }
     },
     "2bd8b8681b9a42889fe4f7823504456b": {
      "model_module": "@jupyter-widgets/controls",
      "model_module_version": "1.5.0",
      "model_name": "HBoxModel",
      "state": {
       "_dom_classes": [],
       "_model_module": "@jupyter-widgets/controls",
       "_model_module_version": "1.5.0",
       "_model_name": "HBoxModel",
       "_view_count": null,
       "_view_module": "@jupyter-widgets/controls",
       "_view_module_version": "1.5.0",
       "_view_name": "HBoxView",
       "box_style": "",
       "children": [
        "IPY_MODEL_e63f9083060343a28feb9caab0492b14",
        "IPY_MODEL_583eca2688814e1baafe1944e83639b0"
       ],
       "layout": "IPY_MODEL_10cc4da2b36f43ab95ae3fd3f17b20b3"
      }
     },
     "2bdc1238cca549a29a6cedbaed29c023": {
      "model_module": "@jupyter-widgets/controls",
      "model_module_version": "1.5.0",
      "model_name": "DescriptionStyleModel",
      "state": {
       "_model_module": "@jupyter-widgets/controls",
       "_model_module_version": "1.5.0",
       "_model_name": "DescriptionStyleModel",
       "_view_count": null,
       "_view_module": "@jupyter-widgets/base",
       "_view_module_version": "1.2.0",
       "_view_name": "StyleView",
       "description_width": ""
      }
     },
     "2c963eec6a1a4952982e11f757312dbf": {
      "model_module": "@jupyter-widgets/controls",
      "model_module_version": "1.5.0",
      "model_name": "ProgressStyleModel",
      "state": {
       "_model_module": "@jupyter-widgets/controls",
       "_model_module_version": "1.5.0",
       "_model_name": "ProgressStyleModel",
       "_view_count": null,
       "_view_module": "@jupyter-widgets/base",
       "_view_module_version": "1.2.0",
       "_view_name": "StyleView",
       "bar_color": null,
       "description_width": "initial"
      }
     },
     "2cc1f3c30f874c53ae52fbf3ad8675ba": {
      "model_module": "@jupyter-widgets/base",
      "model_module_version": "1.2.0",
      "model_name": "LayoutModel",
      "state": {
       "_model_module": "@jupyter-widgets/base",
       "_model_module_version": "1.2.0",
       "_model_name": "LayoutModel",
       "_view_count": null,
       "_view_module": "@jupyter-widgets/base",
       "_view_module_version": "1.2.0",
       "_view_name": "LayoutView",
       "align_content": null,
       "align_items": null,
       "align_self": null,
       "border": null,
       "bottom": null,
       "display": null,
       "flex": null,
       "flex_flow": null,
       "grid_area": null,
       "grid_auto_columns": null,
       "grid_auto_flow": null,
       "grid_auto_rows": null,
       "grid_column": null,
       "grid_gap": null,
       "grid_row": null,
       "grid_template_areas": null,
       "grid_template_columns": null,
       "grid_template_rows": null,
       "height": null,
       "justify_content": null,
       "justify_items": null,
       "left": null,
       "margin": null,
       "max_height": null,
       "max_width": null,
       "min_height": null,
       "min_width": null,
       "object_fit": null,
       "object_position": null,
       "order": null,
       "overflow": null,
       "overflow_x": null,
       "overflow_y": null,
       "padding": null,
       "right": null,
       "top": null,
       "visibility": null,
       "width": "20px"
      }
     },
     "2cc496f4f5254f0db7db21b2307d6443": {
      "model_module": "@jupyter-widgets/controls",
      "model_module_version": "1.5.0",
      "model_name": "HBoxModel",
      "state": {
       "_dom_classes": [],
       "_model_module": "@jupyter-widgets/controls",
       "_model_module_version": "1.5.0",
       "_model_name": "HBoxModel",
       "_view_count": null,
       "_view_module": "@jupyter-widgets/controls",
       "_view_module_version": "1.5.0",
       "_view_name": "HBoxView",
       "box_style": "",
       "children": [
        "IPY_MODEL_3b158b4ba87943ba895cdb4c049e268d",
        "IPY_MODEL_f310eba96f814ca390591cd10b3e9d97"
       ],
       "layout": "IPY_MODEL_5ef4df622ae042c5bd7117806c91e946"
      }
     },
     "324d6ab5da354bb08cfbbf22dcbe2301": {
      "model_module": "@jupyter-widgets/controls",
      "model_module_version": "1.5.0",
      "model_name": "HBoxModel",
      "state": {
       "_dom_classes": [],
       "_model_module": "@jupyter-widgets/controls",
       "_model_module_version": "1.5.0",
       "_model_name": "HBoxModel",
       "_view_count": null,
       "_view_module": "@jupyter-widgets/controls",
       "_view_module_version": "1.5.0",
       "_view_name": "HBoxView",
       "box_style": "",
       "children": [
        "IPY_MODEL_48679d4c5c814a60aea753a9af3f9c58",
        "IPY_MODEL_21da3836096a4cbb86b1bdd44738a5f6"
       ],
       "layout": "IPY_MODEL_6566d8afa5f94cddbee6661b6bfb33e8"
      }
     },
     "3654d6203cf845068517b003bf787047": {
      "model_module": "@jupyter-widgets/controls",
      "model_module_version": "1.5.0",
      "model_name": "ProgressStyleModel",
      "state": {
       "_model_module": "@jupyter-widgets/controls",
       "_model_module_version": "1.5.0",
       "_model_name": "ProgressStyleModel",
       "_view_count": null,
       "_view_module": "@jupyter-widgets/base",
       "_view_module_version": "1.2.0",
       "_view_name": "StyleView",
       "bar_color": null,
       "description_width": "initial"
      }
     },
     "36bfd2f9b3814cc791fd12cb204c7bc6": {
      "model_module": "@jupyter-widgets/base",
      "model_module_version": "1.2.0",
      "model_name": "LayoutModel",
      "state": {
       "_model_module": "@jupyter-widgets/base",
       "_model_module_version": "1.2.0",
       "_model_name": "LayoutModel",
       "_view_count": null,
       "_view_module": "@jupyter-widgets/base",
       "_view_module_version": "1.2.0",
       "_view_name": "LayoutView",
       "align_content": null,
       "align_items": null,
       "align_self": null,
       "border": null,
       "bottom": null,
       "display": null,
       "flex": null,
       "flex_flow": null,
       "grid_area": null,
       "grid_auto_columns": null,
       "grid_auto_flow": null,
       "grid_auto_rows": null,
       "grid_column": null,
       "grid_gap": null,
       "grid_row": null,
       "grid_template_areas": null,
       "grid_template_columns": null,
       "grid_template_rows": null,
       "height": null,
       "justify_content": null,
       "justify_items": null,
       "left": null,
       "margin": null,
       "max_height": null,
       "max_width": null,
       "min_height": null,
       "min_width": null,
       "object_fit": null,
       "object_position": null,
       "order": null,
       "overflow": null,
       "overflow_x": null,
       "overflow_y": null,
       "padding": null,
       "right": null,
       "top": null,
       "visibility": null,
       "width": null
      }
     },
     "38b8caa0cd3e4d67af1f415e4c033e6b": {
      "model_module": "@jupyter-widgets/controls",
      "model_module_version": "1.5.0",
      "model_name": "HTMLModel",
      "state": {
       "_dom_classes": [],
       "_model_module": "@jupyter-widgets/controls",
       "_model_module_version": "1.5.0",
       "_model_name": "HTMLModel",
       "_view_count": null,
       "_view_module": "@jupyter-widgets/controls",
       "_view_module_version": "1.5.0",
       "_view_name": "HTMLView",
       "description": "",
       "description_tooltip": null,
       "layout": "IPY_MODEL_17ac84f4f5a145299be241d1899fc173",
       "placeholder": "​",
       "style": "IPY_MODEL_1b8d3156483349dc9395468f2286245d",
       "value": "&lt;tqdm.notebook.tqdm_notebook object at 0x7f814a701d10&gt;"
      }
     },
     "3b158b4ba87943ba895cdb4c049e268d": {
      "model_module": "@jupyter-widgets/controls",
      "model_module_version": "1.5.0",
      "model_name": "FloatProgressModel",
      "state": {
       "_dom_classes": [],
       "_model_module": "@jupyter-widgets/controls",
       "_model_module_version": "1.5.0",
       "_model_name": "FloatProgressModel",
       "_view_count": null,
       "_view_module": "@jupyter-widgets/controls",
       "_view_module_version": "1.5.0",
       "_view_name": "ProgressView",
       "bar_style": "success",
       "description": "",
       "description_tooltip": null,
       "layout": "IPY_MODEL_be0d67d409fc44368d3b5ed12e36a0f5",
       "max": 19661.0,
       "min": 0.0,
       "orientation": "horizontal",
       "style": "IPY_MODEL_e9f25a7640bd411da53ba42b5dbbd786",
       "value": 19661.0
      }
     },
     "3e5583eed35c43d090a6526c6f5c7245": {
      "model_module": "@jupyter-widgets/controls",
      "model_module_version": "1.5.0",
      "model_name": "HBoxModel",
      "state": {
       "_dom_classes": [],
       "_model_module": "@jupyter-widgets/controls",
       "_model_module_version": "1.5.0",
       "_model_name": "HBoxModel",
       "_view_count": null,
       "_view_module": "@jupyter-widgets/controls",
       "_view_module_version": "1.5.0",
       "_view_name": "HBoxView",
       "box_style": "",
       "children": [
        "IPY_MODEL_916e5355671044c5b18e35634f16dde5",
        "IPY_MODEL_38b8caa0cd3e4d67af1f415e4c033e6b"
       ],
       "layout": "IPY_MODEL_577e7b4dd36f4a42b76eee8c46232b52"
      }
     },
     "3e6c402cefcd48a6b0529f40f6a553a0": {
      "model_module": "@jupyter-widgets/controls",
      "model_module_version": "1.5.0",
      "model_name": "HTMLModel",
      "state": {
       "_dom_classes": [],
       "_model_module": "@jupyter-widgets/controls",
       "_model_module_version": "1.5.0",
       "_model_name": "HTMLModel",
       "_view_count": null,
       "_view_module": "@jupyter-widgets/controls",
       "_view_module_version": "1.5.0",
       "_view_name": "HTMLView",
       "description": "",
       "description_tooltip": null,
       "layout": "IPY_MODEL_c8ea85dfd1934bbbaa5cdf1e09f86195",
       "placeholder": "​",
       "style": "IPY_MODEL_7e83674d19fd4833b42f72ba8f8acab9",
       "value": "&lt;tqdm.notebook.tqdm_notebook object at 0x7f814a4a8850&gt;"
      }
     },
     "412c7714ac104fe08969446dd6c0fe71": {
      "model_module": "@jupyter-widgets/controls",
      "model_module_version": "1.5.0",
      "model_name": "ProgressStyleModel",
      "state": {
       "_model_module": "@jupyter-widgets/controls",
       "_model_module_version": "1.5.0",
       "_model_name": "ProgressStyleModel",
       "_view_count": null,
       "_view_module": "@jupyter-widgets/base",
       "_view_module_version": "1.2.0",
       "_view_name": "StyleView",
       "bar_color": null,
       "description_width": "initial"
      }
     },
     "47bb096256404cfb91bd75801e7cceb6": {
      "model_module": "@jupyter-widgets/base",
      "model_module_version": "1.2.0",
      "model_name": "LayoutModel",
      "state": {
       "_model_module": "@jupyter-widgets/base",
       "_model_module_version": "1.2.0",
       "_model_name": "LayoutModel",
       "_view_count": null,
       "_view_module": "@jupyter-widgets/base",
       "_view_module_version": "1.2.0",
       "_view_name": "LayoutView",
       "align_content": null,
       "align_items": null,
       "align_self": null,
       "border": null,
       "bottom": null,
       "display": null,
       "flex": null,
       "flex_flow": null,
       "grid_area": null,
       "grid_auto_columns": null,
       "grid_auto_flow": null,
       "grid_auto_rows": null,
       "grid_column": null,
       "grid_gap": null,
       "grid_row": null,
       "grid_template_areas": null,
       "grid_template_columns": null,
       "grid_template_rows": null,
       "height": null,
       "justify_content": null,
       "justify_items": null,
       "left": null,
       "margin": null,
       "max_height": null,
       "max_width": null,
       "min_height": null,
       "min_width": null,
       "object_fit": null,
       "object_position": null,
       "order": null,
       "overflow": null,
       "overflow_x": null,
       "overflow_y": null,
       "padding": null,
       "right": null,
       "top": null,
       "visibility": null,
       "width": null
      }
     },
     "48679d4c5c814a60aea753a9af3f9c58": {
      "model_module": "@jupyter-widgets/controls",
      "model_module_version": "1.5.0",
      "model_name": "FloatProgressModel",
      "state": {
       "_dom_classes": [],
       "_model_module": "@jupyter-widgets/controls",
       "_model_module_version": "1.5.0",
       "_model_name": "FloatProgressModel",
       "_view_count": null,
       "_view_module": "@jupyter-widgets/controls",
       "_view_module_version": "1.5.0",
       "_view_name": "ProgressView",
       "bar_style": "success",
       "description": "",
       "description_tooltip": null,
       "layout": "IPY_MODEL_b7a2828e05884816839b3653869723eb",
       "max": 4.0,
       "min": 0.0,
       "orientation": "horizontal",
       "style": "IPY_MODEL_6276301470b3444aa8d164f931449712",
       "value": 4.0
      }
     },
     "48c09dcce5d94bfb87301d9d3c66d1d2": {
      "model_module": "@jupyter-widgets/controls",
      "model_module_version": "1.5.0",
      "model_name": "HBoxModel",
      "state": {
       "_dom_classes": [],
       "_model_module": "@jupyter-widgets/controls",
       "_model_module_version": "1.5.0",
       "_model_name": "HBoxModel",
       "_view_count": null,
       "_view_module": "@jupyter-widgets/controls",
       "_view_module_version": "1.5.0",
       "_view_name": "HBoxView",
       "box_style": "",
       "children": [
        "IPY_MODEL_8e810a9c41524fff834387498d7655d3",
        "IPY_MODEL_3e6c402cefcd48a6b0529f40f6a553a0"
       ],
       "layout": "IPY_MODEL_1fc8f873e9604f43ad8d981024f2d6a5"
      }
     },
     "527ef7b9193643e3bb68270c2105df7d": {
      "model_module": "@jupyter-widgets/controls",
      "model_module_version": "1.5.0",
      "model_name": "HBoxModel",
      "state": {
       "_dom_classes": [],
       "_model_module": "@jupyter-widgets/controls",
       "_model_module_version": "1.5.0",
       "_model_name": "HBoxModel",
       "_view_count": null,
       "_view_module": "@jupyter-widgets/controls",
       "_view_module_version": "1.5.0",
       "_view_name": "HBoxView",
       "box_style": "",
       "children": [
        "IPY_MODEL_0abd87a20f1d45f1b03d194ca8a084ab",
        "IPY_MODEL_13955f3df538408bb8390bf8607044a3"
       ],
       "layout": "IPY_MODEL_79be996a557c4d14b5924d3a5b280abc"
      }
     },
     "577e7b4dd36f4a42b76eee8c46232b52": {
      "model_module": "@jupyter-widgets/base",
      "model_module_version": "1.2.0",
      "model_name": "LayoutModel",
      "state": {
       "_model_module": "@jupyter-widgets/base",
       "_model_module_version": "1.2.0",
       "_model_name": "LayoutModel",
       "_view_count": null,
       "_view_module": "@jupyter-widgets/base",
       "_view_module_version": "1.2.0",
       "_view_name": "LayoutView",
       "align_content": null,
       "align_items": null,
       "align_self": null,
       "border": null,
       "bottom": null,
       "display": null,
       "flex": null,
       "flex_flow": null,
       "grid_area": null,
       "grid_auto_columns": null,
       "grid_auto_flow": null,
       "grid_auto_rows": null,
       "grid_column": null,
       "grid_gap": null,
       "grid_row": null,
       "grid_template_areas": null,
       "grid_template_columns": null,
       "grid_template_rows": null,
       "height": null,
       "justify_content": null,
       "justify_items": null,
       "left": null,
       "margin": null,
       "max_height": null,
       "max_width": null,
       "min_height": null,
       "min_width": null,
       "object_fit": null,
       "object_position": null,
       "order": null,
       "overflow": null,
       "overflow_x": null,
       "overflow_y": null,
       "padding": null,
       "right": null,
       "top": null,
       "visibility": null,
       "width": null
      }
     },
     "583eca2688814e1baafe1944e83639b0": {
      "model_module": "@jupyter-widgets/controls",
      "model_module_version": "1.5.0",
      "model_name": "HTMLModel",
      "state": {
       "_dom_classes": [],
       "_model_module": "@jupyter-widgets/controls",
       "_model_module_version": "1.5.0",
       "_model_name": "HTMLModel",
       "_view_count": null,
       "_view_module": "@jupyter-widgets/controls",
       "_view_module_version": "1.5.0",
       "_view_name": "HTMLView",
       "description": "",
       "description_tooltip": null,
       "layout": "IPY_MODEL_586ae30cc44b4959991a6bb9d4606e8f",
       "placeholder": "​",
       "style": "IPY_MODEL_f062040ecb184c17842c19553b630e1b",
       "value": "&lt;tqdm.notebook.tqdm_notebook object at 0x7f8130c58610&gt;"
      }
     },
     "586ae30cc44b4959991a6bb9d4606e8f": {
      "model_module": "@jupyter-widgets/base",
      "model_module_version": "1.2.0",
      "model_name": "LayoutModel",
      "state": {
       "_model_module": "@jupyter-widgets/base",
       "_model_module_version": "1.2.0",
       "_model_name": "LayoutModel",
       "_view_count": null,
       "_view_module": "@jupyter-widgets/base",
       "_view_module_version": "1.2.0",
       "_view_name": "LayoutView",
       "align_content": null,
       "align_items": null,
       "align_self": null,
       "border": null,
       "bottom": null,
       "display": null,
       "flex": null,
       "flex_flow": null,
       "grid_area": null,
       "grid_auto_columns": null,
       "grid_auto_flow": null,
       "grid_auto_rows": null,
       "grid_column": null,
       "grid_gap": null,
       "grid_row": null,
       "grid_template_areas": null,
       "grid_template_columns": null,
       "grid_template_rows": null,
       "height": null,
       "justify_content": null,
       "justify_items": null,
       "left": null,
       "margin": null,
       "max_height": null,
       "max_width": null,
       "min_height": null,
       "min_width": null,
       "object_fit": null,
       "object_position": null,
       "order": null,
       "overflow": null,
       "overflow_x": null,
       "overflow_y": null,
       "padding": null,
       "right": null,
       "top": null,
       "visibility": null,
       "width": null
      }
     },
     "5ef4df622ae042c5bd7117806c91e946": {
      "model_module": "@jupyter-widgets/base",
      "model_module_version": "1.2.0",
      "model_name": "LayoutModel",
      "state": {
       "_model_module": "@jupyter-widgets/base",
       "_model_module_version": "1.2.0",
       "_model_name": "LayoutModel",
       "_view_count": null,
       "_view_module": "@jupyter-widgets/base",
       "_view_module_version": "1.2.0",
       "_view_name": "LayoutView",
       "align_content": null,
       "align_items": null,
       "align_self": null,
       "border": null,
       "bottom": null,
       "display": null,
       "flex": null,
       "flex_flow": null,
       "grid_area": null,
       "grid_auto_columns": null,
       "grid_auto_flow": null,
       "grid_auto_rows": null,
       "grid_column": null,
       "grid_gap": null,
       "grid_row": null,
       "grid_template_areas": null,
       "grid_template_columns": null,
       "grid_template_rows": null,
       "height": null,
       "justify_content": null,
       "justify_items": null,
       "left": null,
       "margin": null,
       "max_height": null,
       "max_width": null,
       "min_height": null,
       "min_width": null,
       "object_fit": null,
       "object_position": null,
       "order": null,
       "overflow": null,
       "overflow_x": null,
       "overflow_y": null,
       "padding": null,
       "right": null,
       "top": null,
       "visibility": null,
       "width": null
      }
     },
     "5f24a1dad30941b8b72b1c0363a8e719": {
      "model_module": "@jupyter-widgets/base",
      "model_module_version": "1.2.0",
      "model_name": "LayoutModel",
      "state": {
       "_model_module": "@jupyter-widgets/base",
       "_model_module_version": "1.2.0",
       "_model_name": "LayoutModel",
       "_view_count": null,
       "_view_module": "@jupyter-widgets/base",
       "_view_module_version": "1.2.0",
       "_view_name": "LayoutView",
       "align_content": null,
       "align_items": null,
       "align_self": null,
       "border": null,
       "bottom": null,
       "display": null,
       "flex": null,
       "flex_flow": null,
       "grid_area": null,
       "grid_auto_columns": null,
       "grid_auto_flow": null,
       "grid_auto_rows": null,
       "grid_column": null,
       "grid_gap": null,
       "grid_row": null,
       "grid_template_areas": null,
       "grid_template_columns": null,
       "grid_template_rows": null,
       "height": null,
       "justify_content": null,
       "justify_items": null,
       "left": null,
       "margin": null,
       "max_height": null,
       "max_width": null,
       "min_height": null,
       "min_width": null,
       "object_fit": null,
       "object_position": null,
       "order": null,
       "overflow": null,
       "overflow_x": null,
       "overflow_y": null,
       "padding": null,
       "right": null,
       "top": null,
       "visibility": null,
       "width": null
      }
     },
     "5f6eb9a0996b457db83ac9535886944d": {
      "model_module": "@jupyter-widgets/controls",
      "model_module_version": "1.5.0",
      "model_name": "FloatProgressModel",
      "state": {
       "_dom_classes": [],
       "_model_module": "@jupyter-widgets/controls",
       "_model_module_version": "1.5.0",
       "_model_name": "FloatProgressModel",
       "_view_count": null,
       "_view_module": "@jupyter-widgets/controls",
       "_view_module_version": "1.5.0",
       "_view_name": "ProgressView",
       "bar_style": "success",
       "description": "",
       "description_tooltip": null,
       "layout": "IPY_MODEL_06b577cdc911422e9894ddf98b072ed4",
       "max": 1.0,
       "min": 0.0,
       "orientation": "horizontal",
       "style": "IPY_MODEL_72f4701b63c24d99aee049993224c24c",
       "value": 1.0
      }
     },
     "6276301470b3444aa8d164f931449712": {
      "model_module": "@jupyter-widgets/controls",
      "model_module_version": "1.5.0",
      "model_name": "ProgressStyleModel",
      "state": {
       "_model_module": "@jupyter-widgets/controls",
       "_model_module_version": "1.5.0",
       "_model_name": "ProgressStyleModel",
       "_view_count": null,
       "_view_module": "@jupyter-widgets/base",
       "_view_module_version": "1.2.0",
       "_view_name": "StyleView",
       "bar_color": null,
       "description_width": "initial"
      }
     },
     "6566d8afa5f94cddbee6661b6bfb33e8": {
      "model_module": "@jupyter-widgets/base",
      "model_module_version": "1.2.0",
      "model_name": "LayoutModel",
      "state": {
       "_model_module": "@jupyter-widgets/base",
       "_model_module_version": "1.2.0",
       "_model_name": "LayoutModel",
       "_view_count": null,
       "_view_module": "@jupyter-widgets/base",
       "_view_module_version": "1.2.0",
       "_view_name": "LayoutView",
       "align_content": null,
       "align_items": null,
       "align_self": null,
       "border": null,
       "bottom": null,
       "display": null,
       "flex": null,
       "flex_flow": null,
       "grid_area": null,
       "grid_auto_columns": null,
       "grid_auto_flow": null,
       "grid_auto_rows": null,
       "grid_column": null,
       "grid_gap": null,
       "grid_row": null,
       "grid_template_areas": null,
       "grid_template_columns": null,
       "grid_template_rows": null,
       "height": null,
       "justify_content": null,
       "justify_items": null,
       "left": null,
       "margin": null,
       "max_height": null,
       "max_width": null,
       "min_height": null,
       "min_width": null,
       "object_fit": null,
       "object_position": null,
       "order": null,
       "overflow": null,
       "overflow_x": null,
       "overflow_y": null,
       "padding": null,
       "right": null,
       "top": null,
       "visibility": null,
       "width": null
      }
     },
     "676c88dfbcb4488589e361596ba0746d": {
      "model_module": "@jupyter-widgets/base",
      "model_module_version": "1.2.0",
      "model_name": "LayoutModel",
      "state": {
       "_model_module": "@jupyter-widgets/base",
       "_model_module_version": "1.2.0",
       "_model_name": "LayoutModel",
       "_view_count": null,
       "_view_module": "@jupyter-widgets/base",
       "_view_module_version": "1.2.0",
       "_view_name": "LayoutView",
       "align_content": null,
       "align_items": null,
       "align_self": null,
       "border": null,
       "bottom": null,
       "display": null,
       "flex": null,
       "flex_flow": null,
       "grid_area": null,
       "grid_auto_columns": null,
       "grid_auto_flow": null,
       "grid_auto_rows": null,
       "grid_column": null,
       "grid_gap": null,
       "grid_row": null,
       "grid_template_areas": null,
       "grid_template_columns": null,
       "grid_template_rows": null,
       "height": null,
       "justify_content": null,
       "justify_items": null,
       "left": null,
       "margin": null,
       "max_height": null,
       "max_width": null,
       "min_height": null,
       "min_width": null,
       "object_fit": null,
       "object_position": null,
       "order": null,
       "overflow": null,
       "overflow_x": null,
       "overflow_y": null,
       "padding": null,
       "right": null,
       "top": null,
       "visibility": null,
       "width": null
      }
     },
     "72f4701b63c24d99aee049993224c24c": {
      "model_module": "@jupyter-widgets/controls",
      "model_module_version": "1.5.0",
      "model_name": "ProgressStyleModel",
      "state": {
       "_model_module": "@jupyter-widgets/controls",
       "_model_module_version": "1.5.0",
       "_model_name": "ProgressStyleModel",
       "_view_count": null,
       "_view_module": "@jupyter-widgets/base",
       "_view_module_version": "1.2.0",
       "_view_name": "StyleView",
       "bar_color": null,
       "description_width": "initial"
      }
     },
     "741a10b6dc89474e9f893113fd9b301a": {
      "model_module": "@jupyter-widgets/base",
      "model_module_version": "1.2.0",
      "model_name": "LayoutModel",
      "state": {
       "_model_module": "@jupyter-widgets/base",
       "_model_module_version": "1.2.0",
       "_model_name": "LayoutModel",
       "_view_count": null,
       "_view_module": "@jupyter-widgets/base",
       "_view_module_version": "1.2.0",
       "_view_name": "LayoutView",
       "align_content": null,
       "align_items": null,
       "align_self": null,
       "border": null,
       "bottom": null,
       "display": null,
       "flex": null,
       "flex_flow": null,
       "grid_area": null,
       "grid_auto_columns": null,
       "grid_auto_flow": null,
       "grid_auto_rows": null,
       "grid_column": null,
       "grid_gap": null,
       "grid_row": null,
       "grid_template_areas": null,
       "grid_template_columns": null,
       "grid_template_rows": null,
       "height": null,
       "justify_content": null,
       "justify_items": null,
       "left": null,
       "margin": null,
       "max_height": null,
       "max_width": null,
       "min_height": null,
       "min_width": null,
       "object_fit": null,
       "object_position": null,
       "order": null,
       "overflow": null,
       "overflow_x": null,
       "overflow_y": null,
       "padding": null,
       "right": null,
       "top": null,
       "visibility": null,
       "width": null
      }
     },
     "79be996a557c4d14b5924d3a5b280abc": {
      "model_module": "@jupyter-widgets/base",
      "model_module_version": "1.2.0",
      "model_name": "LayoutModel",
      "state": {
       "_model_module": "@jupyter-widgets/base",
       "_model_module_version": "1.2.0",
       "_model_name": "LayoutModel",
       "_view_count": null,
       "_view_module": "@jupyter-widgets/base",
       "_view_module_version": "1.2.0",
       "_view_name": "LayoutView",
       "align_content": null,
       "align_items": null,
       "align_self": null,
       "border": null,
       "bottom": null,
       "display": null,
       "flex": null,
       "flex_flow": null,
       "grid_area": null,
       "grid_auto_columns": null,
       "grid_auto_flow": null,
       "grid_auto_rows": null,
       "grid_column": null,
       "grid_gap": null,
       "grid_row": null,
       "grid_template_areas": null,
       "grid_template_columns": null,
       "grid_template_rows": null,
       "height": null,
       "justify_content": null,
       "justify_items": null,
       "left": null,
       "margin": null,
       "max_height": null,
       "max_width": null,
       "min_height": null,
       "min_width": null,
       "object_fit": null,
       "object_position": null,
       "order": null,
       "overflow": null,
       "overflow_x": null,
       "overflow_y": null,
       "padding": null,
       "right": null,
       "top": null,
       "visibility": null,
       "width": null
      }
     },
     "7e83674d19fd4833b42f72ba8f8acab9": {
      "model_module": "@jupyter-widgets/controls",
      "model_module_version": "1.5.0",
      "model_name": "DescriptionStyleModel",
      "state": {
       "_model_module": "@jupyter-widgets/controls",
       "_model_module_version": "1.5.0",
       "_model_name": "DescriptionStyleModel",
       "_view_count": null,
       "_view_module": "@jupyter-widgets/base",
       "_view_module_version": "1.2.0",
       "_view_name": "StyleView",
       "description_width": ""
      }
     },
     "7f5daead5f4d4c06a77588ebdfe6ffea": {
      "model_module": "@jupyter-widgets/controls",
      "model_module_version": "1.5.0",
      "model_name": "DescriptionStyleModel",
      "state": {
       "_model_module": "@jupyter-widgets/controls",
       "_model_module_version": "1.5.0",
       "_model_name": "DescriptionStyleModel",
       "_view_count": null,
       "_view_module": "@jupyter-widgets/base",
       "_view_module_version": "1.2.0",
       "_view_name": "StyleView",
       "description_width": ""
      }
     },
     "8adf647443f14a84a31ab7e87d8b15fb": {
      "model_module": "@jupyter-widgets/controls",
      "model_module_version": "1.5.0",
      "model_name": "HTMLModel",
      "state": {
       "_dom_classes": [],
       "_model_module": "@jupyter-widgets/controls",
       "_model_module_version": "1.5.0",
       "_model_name": "HTMLModel",
       "_view_count": null,
       "_view_module": "@jupyter-widgets/controls",
       "_view_module_version": "1.5.0",
       "_view_name": "HTMLView",
       "description": "",
       "description_tooltip": null,
       "layout": "IPY_MODEL_14bba312fe4149cca8511def538ace69",
       "placeholder": "​",
       "style": "IPY_MODEL_a29e356d05e84fa38976787ee34b6c3e",
       "value": "&lt;tqdm.notebook.tqdm_notebook object at 0x7f8206fba350&gt;"
      }
     },
     "8e810a9c41524fff834387498d7655d3": {
      "model_module": "@jupyter-widgets/controls",
      "model_module_version": "1.5.0",
      "model_name": "FloatProgressModel",
      "state": {
       "_dom_classes": [],
       "_model_module": "@jupyter-widgets/controls",
       "_model_module_version": "1.5.0",
       "_model_name": "FloatProgressModel",
       "_view_count": null,
       "_view_module": "@jupyter-widgets/controls",
       "_view_module_version": "1.5.0",
       "_view_name": "ProgressView",
       "bar_style": "success",
       "description": "",
       "description_tooltip": null,
       "layout": "IPY_MODEL_36bfd2f9b3814cc791fd12cb204c7bc6",
       "max": 19661.0,
       "min": 0.0,
       "orientation": "horizontal",
       "style": "IPY_MODEL_2c963eec6a1a4952982e11f757312dbf",
       "value": 19661.0
      }
     },
     "916e5355671044c5b18e35634f16dde5": {
      "model_module": "@jupyter-widgets/controls",
      "model_module_version": "1.5.0",
      "model_name": "FloatProgressModel",
      "state": {
       "_dom_classes": [],
       "_model_module": "@jupyter-widgets/controls",
       "_model_module_version": "1.5.0",
       "_model_name": "FloatProgressModel",
       "_view_count": null,
       "_view_module": "@jupyter-widgets/controls",
       "_view_module_version": "1.5.0",
       "_view_name": "ProgressView",
       "bar_style": "success",
       "description": "",
       "description_tooltip": null,
       "layout": "IPY_MODEL_ca686917de464eb78d0564c15ccb6191",
       "max": 4.0,
       "min": 0.0,
       "orientation": "horizontal",
       "style": "IPY_MODEL_e55d7c17465342689c33425925e12432",
       "value": 4.0
      }
     },
     "917da3a9da194b699f54340785dcd1be": {
      "model_module": "@jupyter-widgets/controls",
      "model_module_version": "1.5.0",
      "model_name": "FloatProgressModel",
      "state": {
       "_dom_classes": [],
       "_model_module": "@jupyter-widgets/controls",
       "_model_module_version": "1.5.0",
       "_model_name": "FloatProgressModel",
       "_view_count": null,
       "_view_module": "@jupyter-widgets/controls",
       "_view_module_version": "1.5.0",
       "_view_name": "ProgressView",
       "bar_style": "success",
       "description": "",
       "description_tooltip": null,
       "layout": "IPY_MODEL_2cc1f3c30f874c53ae52fbf3ad8675ba",
       "max": 1.0,
       "min": 0.0,
       "orientation": "horizontal",
       "style": "IPY_MODEL_412c7714ac104fe08969446dd6c0fe71",
       "value": 1.0
      }
     },
     "91ee855516c64e6aa345f1be864a1aba": {
      "model_module": "@jupyter-widgets/base",
      "model_module_version": "1.2.0",
      "model_name": "LayoutModel",
      "state": {
       "_model_module": "@jupyter-widgets/base",
       "_model_module_version": "1.2.0",
       "_model_name": "LayoutModel",
       "_view_count": null,
       "_view_module": "@jupyter-widgets/base",
       "_view_module_version": "1.2.0",
       "_view_name": "LayoutView",
       "align_content": null,
       "align_items": null,
       "align_self": null,
       "border": null,
       "bottom": null,
       "display": null,
       "flex": null,
       "flex_flow": null,
       "grid_area": null,
       "grid_auto_columns": null,
       "grid_auto_flow": null,
       "grid_auto_rows": null,
       "grid_column": null,
       "grid_gap": null,
       "grid_row": null,
       "grid_template_areas": null,
       "grid_template_columns": null,
       "grid_template_rows": null,
       "height": null,
       "justify_content": null,
       "justify_items": null,
       "left": null,
       "margin": null,
       "max_height": null,
       "max_width": null,
       "min_height": null,
       "min_width": null,
       "object_fit": null,
       "object_position": null,
       "order": null,
       "overflow": null,
       "overflow_x": null,
       "overflow_y": null,
       "padding": null,
       "right": null,
       "top": null,
       "visibility": null,
       "width": null
      }
     },
     "9da22944efc2447ebfa9bbb3ca8d4fe4": {
      "model_module": "@jupyter-widgets/controls",
      "model_module_version": "1.5.0",
      "model_name": "HTMLModel",
      "state": {
       "_dom_classes": [],
       "_model_module": "@jupyter-widgets/controls",
       "_model_module_version": "1.5.0",
       "_model_name": "HTMLModel",
       "_view_count": null,
       "_view_module": "@jupyter-widgets/controls",
       "_view_module_version": "1.5.0",
       "_view_name": "HTMLView",
       "description": "",
       "description_tooltip": null,
       "layout": "IPY_MODEL_b42947ab29ca4a0f89a8d9babb3f775b",
       "placeholder": "​",
       "style": "IPY_MODEL_7f5daead5f4d4c06a77588ebdfe6ffea",
       "value": "&lt;tqdm.notebook.tqdm_notebook object at 0x7f81486fe350&gt;"
      }
     },
     "a09192cd0edc42a18971f9dd5c0149cd": {
      "model_module": "@jupyter-widgets/controls",
      "model_module_version": "1.5.0",
      "model_name": "HTMLModel",
      "state": {
       "_dom_classes": [],
       "_model_module": "@jupyter-widgets/controls",
       "_model_module_version": "1.5.0",
       "_model_name": "HTMLModel",
       "_view_count": null,
       "_view_module": "@jupyter-widgets/controls",
       "_view_module_version": "1.5.0",
       "_view_name": "HTMLView",
       "description": "",
       "description_tooltip": null,
       "layout": "IPY_MODEL_0d291e10322a46eebabe38edcca493ed",
       "placeholder": "​",
       "style": "IPY_MODEL_2bdc1238cca549a29a6cedbaed29c023",
       "value": "&lt;tqdm.notebook.tqdm_notebook object at 0x7f814a6fbf10&gt;"
      }
     },
     "a29e356d05e84fa38976787ee34b6c3e": {
      "model_module": "@jupyter-widgets/controls",
      "model_module_version": "1.5.0",
      "model_name": "DescriptionStyleModel",
      "state": {
       "_model_module": "@jupyter-widgets/controls",
       "_model_module_version": "1.5.0",
       "_model_name": "DescriptionStyleModel",
       "_view_count": null,
       "_view_module": "@jupyter-widgets/base",
       "_view_module_version": "1.2.0",
       "_view_name": "StyleView",
       "description_width": ""
      }
     },
     "b42947ab29ca4a0f89a8d9babb3f775b": {
      "model_module": "@jupyter-widgets/base",
      "model_module_version": "1.2.0",
      "model_name": "LayoutModel",
      "state": {
       "_model_module": "@jupyter-widgets/base",
       "_model_module_version": "1.2.0",
       "_model_name": "LayoutModel",
       "_view_count": null,
       "_view_module": "@jupyter-widgets/base",
       "_view_module_version": "1.2.0",
       "_view_name": "LayoutView",
       "align_content": null,
       "align_items": null,
       "align_self": null,
       "border": null,
       "bottom": null,
       "display": null,
       "flex": null,
       "flex_flow": null,
       "grid_area": null,
       "grid_auto_columns": null,
       "grid_auto_flow": null,
       "grid_auto_rows": null,
       "grid_column": null,
       "grid_gap": null,
       "grid_row": null,
       "grid_template_areas": null,
       "grid_template_columns": null,
       "grid_template_rows": null,
       "height": null,
       "justify_content": null,
       "justify_items": null,
       "left": null,
       "margin": null,
       "max_height": null,
       "max_width": null,
       "min_height": null,
       "min_width": null,
       "object_fit": null,
       "object_position": null,
       "order": null,
       "overflow": null,
       "overflow_x": null,
       "overflow_y": null,
       "padding": null,
       "right": null,
       "top": null,
       "visibility": null,
       "width": null
      }
     },
     "b6820fdf7c1542639f4941f44a759b22": {
      "model_module": "@jupyter-widgets/controls",
      "model_module_version": "1.5.0",
      "model_name": "HBoxModel",
      "state": {
       "_dom_classes": [],
       "_model_module": "@jupyter-widgets/controls",
       "_model_module_version": "1.5.0",
       "_model_name": "HBoxModel",
       "_view_count": null,
       "_view_module": "@jupyter-widgets/controls",
       "_view_module_version": "1.5.0",
       "_view_name": "HBoxView",
       "box_style": "",
       "children": [
        "IPY_MODEL_ca2f1b03980049baba5667fade501107",
        "IPY_MODEL_a09192cd0edc42a18971f9dd5c0149cd"
       ],
       "layout": "IPY_MODEL_676c88dfbcb4488589e361596ba0746d"
      }
     },
     "b7a2828e05884816839b3653869723eb": {
      "model_module": "@jupyter-widgets/base",
      "model_module_version": "1.2.0",
      "model_name": "LayoutModel",
      "state": {
       "_model_module": "@jupyter-widgets/base",
       "_model_module_version": "1.2.0",
       "_model_name": "LayoutModel",
       "_view_count": null,
       "_view_module": "@jupyter-widgets/base",
       "_view_module_version": "1.2.0",
       "_view_name": "LayoutView",
       "align_content": null,
       "align_items": null,
       "align_self": null,
       "border": null,
       "bottom": null,
       "display": null,
       "flex": null,
       "flex_flow": null,
       "grid_area": null,
       "grid_auto_columns": null,
       "grid_auto_flow": null,
       "grid_auto_rows": null,
       "grid_column": null,
       "grid_gap": null,
       "grid_row": null,
       "grid_template_areas": null,
       "grid_template_columns": null,
       "grid_template_rows": null,
       "height": null,
       "justify_content": null,
       "justify_items": null,
       "left": null,
       "margin": null,
       "max_height": null,
       "max_width": null,
       "min_height": null,
       "min_width": null,
       "object_fit": null,
       "object_position": null,
       "order": null,
       "overflow": null,
       "overflow_x": null,
       "overflow_y": null,
       "padding": null,
       "right": null,
       "top": null,
       "visibility": null,
       "width": null
      }
     },
     "bd655842a9b7403f8b55c8dbd560344d": {
      "model_module": "@jupyter-widgets/base",
      "model_module_version": "1.2.0",
      "model_name": "LayoutModel",
      "state": {
       "_model_module": "@jupyter-widgets/base",
       "_model_module_version": "1.2.0",
       "_model_name": "LayoutModel",
       "_view_count": null,
       "_view_module": "@jupyter-widgets/base",
       "_view_module_version": "1.2.0",
       "_view_name": "LayoutView",
       "align_content": null,
       "align_items": null,
       "align_self": null,
       "border": null,
       "bottom": null,
       "display": null,
       "flex": null,
       "flex_flow": null,
       "grid_area": null,
       "grid_auto_columns": null,
       "grid_auto_flow": null,
       "grid_auto_rows": null,
       "grid_column": null,
       "grid_gap": null,
       "grid_row": null,
       "grid_template_areas": null,
       "grid_template_columns": null,
       "grid_template_rows": null,
       "height": null,
       "justify_content": null,
       "justify_items": null,
       "left": null,
       "margin": null,
       "max_height": null,
       "max_width": null,
       "min_height": null,
       "min_width": null,
       "object_fit": null,
       "object_position": null,
       "order": null,
       "overflow": null,
       "overflow_x": null,
       "overflow_y": null,
       "padding": null,
       "right": null,
       "top": null,
       "visibility": null,
       "width": null
      }
     },
     "be0d67d409fc44368d3b5ed12e36a0f5": {
      "model_module": "@jupyter-widgets/base",
      "model_module_version": "1.2.0",
      "model_name": "LayoutModel",
      "state": {
       "_model_module": "@jupyter-widgets/base",
       "_model_module_version": "1.2.0",
       "_model_name": "LayoutModel",
       "_view_count": null,
       "_view_module": "@jupyter-widgets/base",
       "_view_module_version": "1.2.0",
       "_view_name": "LayoutView",
       "align_content": null,
       "align_items": null,
       "align_self": null,
       "border": null,
       "bottom": null,
       "display": null,
       "flex": null,
       "flex_flow": null,
       "grid_area": null,
       "grid_auto_columns": null,
       "grid_auto_flow": null,
       "grid_auto_rows": null,
       "grid_column": null,
       "grid_gap": null,
       "grid_row": null,
       "grid_template_areas": null,
       "grid_template_columns": null,
       "grid_template_rows": null,
       "height": null,
       "justify_content": null,
       "justify_items": null,
       "left": null,
       "margin": null,
       "max_height": null,
       "max_width": null,
       "min_height": null,
       "min_width": null,
       "object_fit": null,
       "object_position": null,
       "order": null,
       "overflow": null,
       "overflow_x": null,
       "overflow_y": null,
       "padding": null,
       "right": null,
       "top": null,
       "visibility": null,
       "width": null
      }
     },
     "bead5c44272742daad92408c43bdfce6": {
      "model_module": "@jupyter-widgets/controls",
      "model_module_version": "1.5.0",
      "model_name": "HTMLModel",
      "state": {
       "_dom_classes": [],
       "_model_module": "@jupyter-widgets/controls",
       "_model_module_version": "1.5.0",
       "_model_name": "HTMLModel",
       "_view_count": null,
       "_view_module": "@jupyter-widgets/controls",
       "_view_module_version": "1.5.0",
       "_view_name": "HTMLView",
       "description": "",
       "description_tooltip": null,
       "layout": "IPY_MODEL_c4f548020ead40479283b4db1307472d",
       "placeholder": "​",
       "style": "IPY_MODEL_d49636520aef4a14a821c67d51161869",
       "value": "&lt;tqdm.notebook.tqdm_notebook object at 0x7f814b0ee990&gt;"
      }
     },
     "bfd210a7aa084a4eb4061442183791de": {
      "model_module": "@jupyter-widgets/base",
      "model_module_version": "1.2.0",
      "model_name": "LayoutModel",
      "state": {
       "_model_module": "@jupyter-widgets/base",
       "_model_module_version": "1.2.0",
       "_model_name": "LayoutModel",
       "_view_count": null,
       "_view_module": "@jupyter-widgets/base",
       "_view_module_version": "1.2.0",
       "_view_name": "LayoutView",
       "align_content": null,
       "align_items": null,
       "align_self": null,
       "border": null,
       "bottom": null,
       "display": null,
       "flex": null,
       "flex_flow": null,
       "grid_area": null,
       "grid_auto_columns": null,
       "grid_auto_flow": null,
       "grid_auto_rows": null,
       "grid_column": null,
       "grid_gap": null,
       "grid_row": null,
       "grid_template_areas": null,
       "grid_template_columns": null,
       "grid_template_rows": null,
       "height": null,
       "justify_content": null,
       "justify_items": null,
       "left": null,
       "margin": null,
       "max_height": null,
       "max_width": null,
       "min_height": null,
       "min_width": null,
       "object_fit": null,
       "object_position": null,
       "order": null,
       "overflow": null,
       "overflow_x": null,
       "overflow_y": null,
       "padding": null,
       "right": null,
       "top": null,
       "visibility": null,
       "width": null
      }
     },
     "c4de5639436547c2b68ebdc3ccd13f35": {
      "model_module": "@jupyter-widgets/controls",
      "model_module_version": "1.5.0",
      "model_name": "DescriptionStyleModel",
      "state": {
       "_model_module": "@jupyter-widgets/controls",
       "_model_module_version": "1.5.0",
       "_model_name": "DescriptionStyleModel",
       "_view_count": null,
       "_view_module": "@jupyter-widgets/base",
       "_view_module_version": "1.2.0",
       "_view_name": "StyleView",
       "description_width": ""
      }
     },
     "c4f548020ead40479283b4db1307472d": {
      "model_module": "@jupyter-widgets/base",
      "model_module_version": "1.2.0",
      "model_name": "LayoutModel",
      "state": {
       "_model_module": "@jupyter-widgets/base",
       "_model_module_version": "1.2.0",
       "_model_name": "LayoutModel",
       "_view_count": null,
       "_view_module": "@jupyter-widgets/base",
       "_view_module_version": "1.2.0",
       "_view_name": "LayoutView",
       "align_content": null,
       "align_items": null,
       "align_self": null,
       "border": null,
       "bottom": null,
       "display": null,
       "flex": null,
       "flex_flow": null,
       "grid_area": null,
       "grid_auto_columns": null,
       "grid_auto_flow": null,
       "grid_auto_rows": null,
       "grid_column": null,
       "grid_gap": null,
       "grid_row": null,
       "grid_template_areas": null,
       "grid_template_columns": null,
       "grid_template_rows": null,
       "height": null,
       "justify_content": null,
       "justify_items": null,
       "left": null,
       "margin": null,
       "max_height": null,
       "max_width": null,
       "min_height": null,
       "min_width": null,
       "object_fit": null,
       "object_position": null,
       "order": null,
       "overflow": null,
       "overflow_x": null,
       "overflow_y": null,
       "padding": null,
       "right": null,
       "top": null,
       "visibility": null,
       "width": null
      }
     },
     "c8ea85dfd1934bbbaa5cdf1e09f86195": {
      "model_module": "@jupyter-widgets/base",
      "model_module_version": "1.2.0",
      "model_name": "LayoutModel",
      "state": {
       "_model_module": "@jupyter-widgets/base",
       "_model_module_version": "1.2.0",
       "_model_name": "LayoutModel",
       "_view_count": null,
       "_view_module": "@jupyter-widgets/base",
       "_view_module_version": "1.2.0",
       "_view_name": "LayoutView",
       "align_content": null,
       "align_items": null,
       "align_self": null,
       "border": null,
       "bottom": null,
       "display": null,
       "flex": null,
       "flex_flow": null,
       "grid_area": null,
       "grid_auto_columns": null,
       "grid_auto_flow": null,
       "grid_auto_rows": null,
       "grid_column": null,
       "grid_gap": null,
       "grid_row": null,
       "grid_template_areas": null,
       "grid_template_columns": null,
       "grid_template_rows": null,
       "height": null,
       "justify_content": null,
       "justify_items": null,
       "left": null,
       "margin": null,
       "max_height": null,
       "max_width": null,
       "min_height": null,
       "min_width": null,
       "object_fit": null,
       "object_position": null,
       "order": null,
       "overflow": null,
       "overflow_x": null,
       "overflow_y": null,
       "padding": null,
       "right": null,
       "top": null,
       "visibility": null,
       "width": null
      }
     },
     "ca2f1b03980049baba5667fade501107": {
      "model_module": "@jupyter-widgets/controls",
      "model_module_version": "1.5.0",
      "model_name": "FloatProgressModel",
      "state": {
       "_dom_classes": [],
       "_model_module": "@jupyter-widgets/controls",
       "_model_module_version": "1.5.0",
       "_model_name": "FloatProgressModel",
       "_view_count": null,
       "_view_module": "@jupyter-widgets/controls",
       "_view_module_version": "1.5.0",
       "_view_name": "ProgressView",
       "bar_style": "success",
       "description": "",
       "description_tooltip": null,
       "layout": "IPY_MODEL_5f24a1dad30941b8b72b1c0363a8e719",
       "max": 4.0,
       "min": 0.0,
       "orientation": "horizontal",
       "style": "IPY_MODEL_fe12400986a642ada4309ca69a3a372e",
       "value": 4.0
      }
     },
     "ca686917de464eb78d0564c15ccb6191": {
      "model_module": "@jupyter-widgets/base",
      "model_module_version": "1.2.0",
      "model_name": "LayoutModel",
      "state": {
       "_model_module": "@jupyter-widgets/base",
       "_model_module_version": "1.2.0",
       "_model_name": "LayoutModel",
       "_view_count": null,
       "_view_module": "@jupyter-widgets/base",
       "_view_module_version": "1.2.0",
       "_view_name": "LayoutView",
       "align_content": null,
       "align_items": null,
       "align_self": null,
       "border": null,
       "bottom": null,
       "display": null,
       "flex": null,
       "flex_flow": null,
       "grid_area": null,
       "grid_auto_columns": null,
       "grid_auto_flow": null,
       "grid_auto_rows": null,
       "grid_column": null,
       "grid_gap": null,
       "grid_row": null,
       "grid_template_areas": null,
       "grid_template_columns": null,
       "grid_template_rows": null,
       "height": null,
       "justify_content": null,
       "justify_items": null,
       "left": null,
       "margin": null,
       "max_height": null,
       "max_width": null,
       "min_height": null,
       "min_width": null,
       "object_fit": null,
       "object_position": null,
       "order": null,
       "overflow": null,
       "overflow_x": null,
       "overflow_y": null,
       "padding": null,
       "right": null,
       "top": null,
       "visibility": null,
       "width": null
      }
     },
     "ca9e96250b89498989c3735696ec5f79": {
      "model_module": "@jupyter-widgets/controls",
      "model_module_version": "1.5.0",
      "model_name": "ProgressStyleModel",
      "state": {
       "_model_module": "@jupyter-widgets/controls",
       "_model_module_version": "1.5.0",
       "_model_name": "ProgressStyleModel",
       "_view_count": null,
       "_view_module": "@jupyter-widgets/base",
       "_view_module_version": "1.2.0",
       "_view_name": "StyleView",
       "bar_color": null,
       "description_width": "initial"
      }
     },
     "d2eeec44ff304242bb4331392bf0d857": {
      "model_module": "@jupyter-widgets/base",
      "model_module_version": "1.2.0",
      "model_name": "LayoutModel",
      "state": {
       "_model_module": "@jupyter-widgets/base",
       "_model_module_version": "1.2.0",
       "_model_name": "LayoutModel",
       "_view_count": null,
       "_view_module": "@jupyter-widgets/base",
       "_view_module_version": "1.2.0",
       "_view_name": "LayoutView",
       "align_content": null,
       "align_items": null,
       "align_self": null,
       "border": null,
       "bottom": null,
       "display": null,
       "flex": null,
       "flex_flow": null,
       "grid_area": null,
       "grid_auto_columns": null,
       "grid_auto_flow": null,
       "grid_auto_rows": null,
       "grid_column": null,
       "grid_gap": null,
       "grid_row": null,
       "grid_template_areas": null,
       "grid_template_columns": null,
       "grid_template_rows": null,
       "height": null,
       "justify_content": null,
       "justify_items": null,
       "left": null,
       "margin": null,
       "max_height": null,
       "max_width": null,
       "min_height": null,
       "min_width": null,
       "object_fit": null,
       "object_position": null,
       "order": null,
       "overflow": null,
       "overflow_x": null,
       "overflow_y": null,
       "padding": null,
       "right": null,
       "top": null,
       "visibility": null,
       "width": null
      }
     },
     "d49636520aef4a14a821c67d51161869": {
      "model_module": "@jupyter-widgets/controls",
      "model_module_version": "1.5.0",
      "model_name": "DescriptionStyleModel",
      "state": {
       "_model_module": "@jupyter-widgets/controls",
       "_model_module_version": "1.5.0",
       "_model_name": "DescriptionStyleModel",
       "_view_count": null,
       "_view_module": "@jupyter-widgets/base",
       "_view_module_version": "1.2.0",
       "_view_name": "StyleView",
       "description_width": ""
      }
     },
     "d4c30ac7b78c4de5b54a19b5a59d632e": {
      "model_module": "@jupyter-widgets/controls",
      "model_module_version": "1.5.0",
      "model_name": "HBoxModel",
      "state": {
       "_dom_classes": [],
       "_model_module": "@jupyter-widgets/controls",
       "_model_module_version": "1.5.0",
       "_model_name": "HBoxModel",
       "_view_count": null,
       "_view_module": "@jupyter-widgets/controls",
       "_view_module_version": "1.5.0",
       "_view_name": "HBoxView",
       "box_style": "",
       "children": [
        "IPY_MODEL_1eb2f243ef6b4deeb8aff986ec71110c",
        "IPY_MODEL_9da22944efc2447ebfa9bbb3ca8d4fe4"
       ],
       "layout": "IPY_MODEL_1ac091bff08144e8a74e1c80bba49235"
      }
     },
     "d5555798c3d948b38d8f8da910e75781": {
      "model_module": "@jupyter-widgets/controls",
      "model_module_version": "1.5.0",
      "model_name": "DescriptionStyleModel",
      "state": {
       "_model_module": "@jupyter-widgets/controls",
       "_model_module_version": "1.5.0",
       "_model_name": "DescriptionStyleModel",
       "_view_count": null,
       "_view_module": "@jupyter-widgets/base",
       "_view_module_version": "1.2.0",
       "_view_name": "StyleView",
       "description_width": ""
      }
     },
     "da7b76b32f2a40b88c56c9840bd1121a": {
      "model_module": "@jupyter-widgets/base",
      "model_module_version": "1.2.0",
      "model_name": "LayoutModel",
      "state": {
       "_model_module": "@jupyter-widgets/base",
       "_model_module_version": "1.2.0",
       "_model_name": "LayoutModel",
       "_view_count": null,
       "_view_module": "@jupyter-widgets/base",
       "_view_module_version": "1.2.0",
       "_view_name": "LayoutView",
       "align_content": null,
       "align_items": null,
       "align_self": null,
       "border": null,
       "bottom": null,
       "display": null,
       "flex": null,
       "flex_flow": null,
       "grid_area": null,
       "grid_auto_columns": null,
       "grid_auto_flow": null,
       "grid_auto_rows": null,
       "grid_column": null,
       "grid_gap": null,
       "grid_row": null,
       "grid_template_areas": null,
       "grid_template_columns": null,
       "grid_template_rows": null,
       "height": null,
       "justify_content": null,
       "justify_items": null,
       "left": null,
       "margin": null,
       "max_height": null,
       "max_width": null,
       "min_height": null,
       "min_width": null,
       "object_fit": null,
       "object_position": null,
       "order": null,
       "overflow": null,
       "overflow_x": null,
       "overflow_y": null,
       "padding": null,
       "right": null,
       "top": null,
       "visibility": null,
       "width": null
      }
     },
     "de2c007e48bf4fba8bcde464e3879d77": {
      "model_module": "@jupyter-widgets/controls",
      "model_module_version": "1.5.0",
      "model_name": "HBoxModel",
      "state": {
       "_dom_classes": [],
       "_model_module": "@jupyter-widgets/controls",
       "_model_module_version": "1.5.0",
       "_model_name": "HBoxModel",
       "_view_count": null,
       "_view_module": "@jupyter-widgets/controls",
       "_view_module_version": "1.5.0",
       "_view_name": "HBoxView",
       "box_style": "",
       "children": [
        "IPY_MODEL_5f6eb9a0996b457db83ac9535886944d",
        "IPY_MODEL_bead5c44272742daad92408c43bdfce6"
       ],
       "layout": "IPY_MODEL_bfd210a7aa084a4eb4061442183791de"
      }
     },
     "e55d7c17465342689c33425925e12432": {
      "model_module": "@jupyter-widgets/controls",
      "model_module_version": "1.5.0",
      "model_name": "ProgressStyleModel",
      "state": {
       "_model_module": "@jupyter-widgets/controls",
       "_model_module_version": "1.5.0",
       "_model_name": "ProgressStyleModel",
       "_view_count": null,
       "_view_module": "@jupyter-widgets/base",
       "_view_module_version": "1.2.0",
       "_view_name": "StyleView",
       "bar_color": null,
       "description_width": "initial"
      }
     },
     "e63f9083060343a28feb9caab0492b14": {
      "model_module": "@jupyter-widgets/controls",
      "model_module_version": "1.5.0",
      "model_name": "FloatProgressModel",
      "state": {
       "_dom_classes": [],
       "_model_module": "@jupyter-widgets/controls",
       "_model_module_version": "1.5.0",
       "_model_name": "FloatProgressModel",
       "_view_count": null,
       "_view_module": "@jupyter-widgets/controls",
       "_view_module_version": "1.5.0",
       "_view_name": "ProgressView",
       "bar_style": "success",
       "description": "",
       "description_tooltip": null,
       "layout": "IPY_MODEL_47bb096256404cfb91bd75801e7cceb6",
       "max": 4.0,
       "min": 0.0,
       "orientation": "horizontal",
       "style": "IPY_MODEL_3654d6203cf845068517b003bf787047",
       "value": 4.0
      }
     },
     "e7369447e3ba4863894b818b8f8e770a": {
      "model_module": "@jupyter-widgets/controls",
      "model_module_version": "1.5.0",
      "model_name": "HBoxModel",
      "state": {
       "_dom_classes": [],
       "_model_module": "@jupyter-widgets/controls",
       "_model_module_version": "1.5.0",
       "_model_name": "HBoxModel",
       "_view_count": null,
       "_view_module": "@jupyter-widgets/controls",
       "_view_module_version": "1.5.0",
       "_view_name": "HBoxView",
       "box_style": "",
       "children": [
        "IPY_MODEL_917da3a9da194b699f54340785dcd1be",
        "IPY_MODEL_8adf647443f14a84a31ab7e87d8b15fb"
       ],
       "layout": "IPY_MODEL_91ee855516c64e6aa345f1be864a1aba"
      }
     },
     "e9f25a7640bd411da53ba42b5dbbd786": {
      "model_module": "@jupyter-widgets/controls",
      "model_module_version": "1.5.0",
      "model_name": "ProgressStyleModel",
      "state": {
       "_model_module": "@jupyter-widgets/controls",
       "_model_module_version": "1.5.0",
       "_model_name": "ProgressStyleModel",
       "_view_count": null,
       "_view_module": "@jupyter-widgets/base",
       "_view_module_version": "1.2.0",
       "_view_name": "StyleView",
       "bar_color": null,
       "description_width": "initial"
      }
     },
     "eedfa08899f24746a0cbbe28e07dbc38": {
      "model_module": "@jupyter-widgets/base",
      "model_module_version": "1.2.0",
      "model_name": "LayoutModel",
      "state": {
       "_model_module": "@jupyter-widgets/base",
       "_model_module_version": "1.2.0",
       "_model_name": "LayoutModel",
       "_view_count": null,
       "_view_module": "@jupyter-widgets/base",
       "_view_module_version": "1.2.0",
       "_view_name": "LayoutView",
       "align_content": null,
       "align_items": null,
       "align_self": null,
       "border": null,
       "bottom": null,
       "display": null,
       "flex": null,
       "flex_flow": null,
       "grid_area": null,
       "grid_auto_columns": null,
       "grid_auto_flow": null,
       "grid_auto_rows": null,
       "grid_column": null,
       "grid_gap": null,
       "grid_row": null,
       "grid_template_areas": null,
       "grid_template_columns": null,
       "grid_template_rows": null,
       "height": null,
       "justify_content": null,
       "justify_items": null,
       "left": null,
       "margin": null,
       "max_height": null,
       "max_width": null,
       "min_height": null,
       "min_width": null,
       "object_fit": null,
       "object_position": null,
       "order": null,
       "overflow": null,
       "overflow_x": null,
       "overflow_y": null,
       "padding": null,
       "right": null,
       "top": null,
       "visibility": null,
       "width": null
      }
     },
     "f062040ecb184c17842c19553b630e1b": {
      "model_module": "@jupyter-widgets/controls",
      "model_module_version": "1.5.0",
      "model_name": "DescriptionStyleModel",
      "state": {
       "_model_module": "@jupyter-widgets/controls",
       "_model_module_version": "1.5.0",
       "_model_name": "DescriptionStyleModel",
       "_view_count": null,
       "_view_module": "@jupyter-widgets/base",
       "_view_module_version": "1.2.0",
       "_view_name": "StyleView",
       "description_width": ""
      }
     },
     "f0f0d8d84878424a9f2f92dd42bf8903": {
      "model_module": "@jupyter-widgets/controls",
      "model_module_version": "1.5.0",
      "model_name": "DescriptionStyleModel",
      "state": {
       "_model_module": "@jupyter-widgets/controls",
       "_model_module_version": "1.5.0",
       "_model_name": "DescriptionStyleModel",
       "_view_count": null,
       "_view_module": "@jupyter-widgets/base",
       "_view_module_version": "1.2.0",
       "_view_name": "StyleView",
       "description_width": ""
      }
     },
     "f310eba96f814ca390591cd10b3e9d97": {
      "model_module": "@jupyter-widgets/controls",
      "model_module_version": "1.5.0",
      "model_name": "HTMLModel",
      "state": {
       "_dom_classes": [],
       "_model_module": "@jupyter-widgets/controls",
       "_model_module_version": "1.5.0",
       "_model_name": "HTMLModel",
       "_view_count": null,
       "_view_module": "@jupyter-widgets/controls",
       "_view_module_version": "1.5.0",
       "_view_name": "HTMLView",
       "description": "",
       "description_tooltip": null,
       "layout": "IPY_MODEL_bd655842a9b7403f8b55c8dbd560344d",
       "placeholder": "​",
       "style": "IPY_MODEL_f0f0d8d84878424a9f2f92dd42bf8903",
       "value": "&lt;tqdm.notebook.tqdm_notebook object at 0x7f814a6fbc90&gt;"
      }
     },
     "fe12400986a642ada4309ca69a3a372e": {
      "model_module": "@jupyter-widgets/controls",
      "model_module_version": "1.5.0",
      "model_name": "ProgressStyleModel",
      "state": {
       "_model_module": "@jupyter-widgets/controls",
       "_model_module_version": "1.5.0",
       "_model_name": "ProgressStyleModel",
       "_view_count": null,
       "_view_module": "@jupyter-widgets/base",
       "_view_module_version": "1.2.0",
       "_view_name": "StyleView",
       "bar_color": null,
       "description_width": "initial"
      }
     }
    },
    "version_major": 2,
    "version_minor": 0
   }
  }
 },
 "nbformat": 4,
 "nbformat_minor": 5
}
